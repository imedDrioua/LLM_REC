{
 "cells": [
  {
   "cell_type": "markdown",
   "source": [
    "# This notebook is used to augment the book dataset with the help of the language model Cohere ( API key is required). "
   ],
   "metadata": {
    "collapsed": false
   },
   "id": "c5f09428b5be2ef4"
  },
  {
   "cell_type": "code",
   "outputs": [],
   "source": [
    "import pandas as pd\n",
    "from langchain_community.chat_models import ChatCohere\n",
    "from langchain_core.messages import HumanMessage\n",
    "from secret import API_KEY\n",
    "import json"
   ],
   "metadata": {
    "collapsed": false
   },
   "id": "60db334f535554e3",
   "execution_count": 0
  },
  {
   "cell_type": "code",
   "execution_count": 3,
   "id": "24f5c2d3",
   "metadata": {
    "ExecuteTime": {
     "end_time": "2024-03-26T18:40:50.926247Z",
     "start_time": "2024-03-26T18:40:50.922174Z"
    }
   },
   "outputs": [],
   "source": [
    "def llm_user_profile(history,llm):\n",
    "    \"\"\"\n",
    "    :param history: user history of books read\n",
    "    :param llm: LLm model\n",
    "    :return: LLM response\n",
    "    \"\"\"\n",
    "    u_profile = f\"Generate a user profile based on the provided user history and analysis, that each book with [index] title, year, author. History: {history}. Please output the following infomation of user without missing or None fields, output format: {{age: , gender: , liked genre: , disliked genre: , liked authors: , country: , language: }}. Give specific answers and no ranges, for gender give either male or female. Please don't give any 'None' answers it's important. please output only the content in format above, but no other thing else, no reasoning. Reiterating once again!! Please only output the content after \\\"output format: \\\", and do not include any other content such as introduction or acknowledgments. \"\n",
    "    messages = [HumanMessage(content=u_profile)]\n",
    "    response = llm.invoke(messages)\n",
    "    return response.content"
   ]
  },
  {
   "cell_type": "code",
   "execution_count": 4,
   "id": "d3547890",
   "metadata": {
    "ExecuteTime": {
     "end_time": "2024-03-26T18:40:51.572453Z",
     "start_time": "2024-03-26T18:40:51.568883Z"
    }
   },
   "outputs": [],
   "source": [
    "def llm_user_item_interaction(user_history,candidates,llm):\n",
    "    \"\"\"\n",
    "    \n",
    "    :param user_history: history of books read by user\n",
    "    :param candidates: a list of candidates books to be recommended\n",
    "    :param llm: LLM model\n",
    "    :return: LLM response\n",
    "    \"\"\"\n",
    "    prompt = f\"\"\"The user has read the following books,that each book with [index] title, year, genres. :\n",
    "            {user_history}\n",
    "            Candidates:\n",
    "            {candidates}\n",
    "            Task:\n",
    "            The recommendation system needs to predict which books the user will like and which books will dislike from the provided candidates based on the history and analysis.\n",
    "            Please provide the output in the format of [index of one liked, index of one disliked] with no introductions or acknowledgments.\"\"\"\n",
    "    \n",
    "    messages = [HumanMessage(content=prompt)]\n",
    "    response = llm.invoke(messages)\n",
    "    return response.content"
   ]
  },
  {
   "cell_type": "code",
   "execution_count": 5,
   "id": "db93061c13777d0c",
   "metadata": {
    "collapsed": false,
    "ExecuteTime": {
     "end_time": "2024-03-26T18:40:52.180010Z",
     "start_time": "2024-03-26T18:40:52.176429Z"
    }
   },
   "outputs": [],
   "source": [
    "def llm_book_profile(book,llm):\n",
    "    \"\"\"\n",
    "    \n",
    "    :param book: book information (title, year, author)\n",
    "    :param llm: LLm model\n",
    "    :return: llm response\n",
    "    \"\"\"\n",
    "    title, year,author = book\n",
    "    prompt = f\"\"\"Provide the inquired information of the given book title : {title} ({year}) written by {author}. The inquired information is: genres, language. Please provide directly the output in the format of : {{\"genres\" : \" | \" , \"language\" :}} with no introductions or acknowledgments. Please consider only the specific genres\"\"\"\n",
    "    \n",
    "    messages = [HumanMessage(content=prompt)]\n",
    "    response = llm.invoke(messages)\n",
    "\n",
    "    return response.content"
   ]
  },
  {
   "cell_type": "code",
   "outputs": [
    {
     "name": "stdout",
     "output_type": "stream",
     "text": [
      "Number of users: 14790\n",
      "Number of items: 33962\n"
     ]
    }
   ],
   "source": [
    "with open(\"../data/books/train.json\",\"r\") as f:\n",
    "    train = json.load(f)\n",
    "books = pd.read_csv(\"../data/books/items_with_attributes.csv\",sep=\";\")\n",
    "users = pd.read_csv(\"../data/books/users.txt\")\n",
    "\n",
    "m = len(books)\n",
    "n = len(users)\n",
    "# print number of users and items\n",
    "print(f\"Number of users: {n}\")\n",
    "print(f\"Number of items: {m}\")"
   ],
   "metadata": {
    "collapsed": false,
    "ExecuteTime": {
     "end_time": "2024-03-26T18:40:52.844120Z",
     "start_time": "2024-03-26T18:40:52.692034Z"
    }
   },
   "id": "1f73c275326371f",
   "execution_count": 6
  },
  {
   "cell_type": "code",
   "outputs": [],
   "source": [
    "# load candidates\n",
    "with open(\"../data/books/users_candidates.json\",\"r\") as f:\n",
    "    candidates = json.load(f)\n"
   ],
   "metadata": {
    "collapsed": false,
    "ExecuteTime": {
     "end_time": "2024-03-25T19:49:43.704724Z",
     "start_time": "2024-03-25T19:49:43.590689Z"
    }
   },
   "id": "6db3aa1c0632464f",
   "execution_count": 6
  },
  {
   "cell_type": "code",
   "outputs": [
    {
     "data": {
      "text/plain": "{0: ' [9564]Tanner on Ice: An Evan Tanner Novel (Tanner Mystery Series) (1999) genres : Thriller, Mystery, Adventure. [3274]Prime Suspect (1993) genres : Crime Fiction , Thriller. [5046]Of Human Bondage (Penguin Twentieth-Century Classics) (1992) genres : Fiction , Drama ..',\n 1: \" [25847]Abhorsen (The Abhorsen Trilogy) (2004) genres : Fantasy , Adventure. [15802]The Giving Tree (1964) genres : Children's literature , Poetry. [1059]The Whale Rider (Movie Cover Edition) (2002) genres : Drama , Adventure.\",\n 2: ' [2463]Private Sector (2003) genres : Thriller, Mystery, Fiction. [19026]Slain in the Spirit (2002) genres : Fiction , Religious fiction. [5231]The Man Who Walked Through Time (1989) genres : Adventure, Memoir, Travel.'}"
     },
     "execution_count": 7,
     "metadata": {},
     "output_type": "execute_result"
    }
   ],
   "source": [
    "# Function to generate candidates for each user\n",
    "def generate_candidates(n_users,items_liste,candidates) :\n",
    "    \"\"\"\n",
    "    \n",
    "    :param n_users: number of users\n",
    "    :param n_items:  number of items\n",
    "    :param candidates_size:  number of candidates to be generated\n",
    "    :param train_data:  training data\n",
    "    :param items_liste: items dataset\n",
    "    :return: Dictionary that match each user with his candidates list\n",
    "    \"\"\"\n",
    "    candidates_titles = {}\n",
    "    for user_id in range(n_users):\n",
    "        unique_indices = candidates[str(user_id)]\n",
    "        items_infos = items_liste.loc[unique_indices,[\"item_id\",\"Title\",\"Author\",\"Year\",'Genres']]\n",
    "        book = \"\"\n",
    "        for idx,row in items_infos.iterrows() :\n",
    "            book += f\" [{row[\"item_id\"]}]{row[\"Title\"]} ({row[\"Year\"]}) genres : {row[\"Genres\"]}.\"\n",
    "        candidates_titles[user_id] = book\n",
    "    return candidates_titles\n",
    "# Test the function woth 3 users and 5 items and 3 candidates\n",
    "generate_candidates(3,books,candidates)"
   ],
   "metadata": {
    "collapsed": false,
    "ExecuteTime": {
     "end_time": "2024-03-24T22:12:10.828621Z",
     "start_time": "2024-03-24T22:12:10.811063Z"
    }
   },
   "id": "d20ab8538b7210f",
   "execution_count": 7
  },
  {
   "cell_type": "code",
   "outputs": [
    {
     "data": {
      "text/plain": "{0: \" [14111]The Red Tent (Bestselling Backlist) (1998) genres : Historical fiction , Drama. [22601]Dude, Where's My Country? (2003) genres : Political satire, non-fiction.\",\n 1: \" [14408]Lirael: Daughter of the Clayr (2002) genres : Fantasy , Adventure. [3163]The Giving Tree (1964) genres : Children's literature , Poetry.\"}"
     },
     "execution_count": 7,
     "metadata": {},
     "output_type": "execute_result"
    }
   ],
   "source": [
    "#function to get history of each user\n",
    "def get_user_history(n_users,items_liste) :\n",
    "    \"\"\"\n",
    "    \n",
    "    :param n_users: number of users\n",
    "    :param items_liste: items dataset\n",
    "    :return: Dictionary that match each user with his history of books read\n",
    "    \"\"\"\n",
    "    all_history = {}\n",
    "    for user_id in range(n_users):\n",
    "        interacted_items = train[str(user_id)]\n",
    "        items_infos = items_liste.loc[interacted_items,[\"Title\",\"Author\",\"Year\",'item_id',\"Genres\"]].iloc[:2,:]\n",
    "        book = \"\"\n",
    "        for idx,row in items_infos.iterrows() :\n",
    "            book += f\" [{row[\"item_id\"]}]{row[\"Title\"]} ({row[\"Year\"]}) genres : {row[\"Genres\"]}.\"\n",
    "        all_history[user_id] = book\n",
    "    return all_history\n",
    "# Test the function\n",
    "get_user_history(2,books)"
   ],
   "metadata": {
    "collapsed": false,
    "ExecuteTime": {
     "end_time": "2024-03-26T18:41:03.129914Z",
     "start_time": "2024-03-26T18:41:03.114242Z"
    }
   },
   "id": "21fe6965c1e44c29",
   "execution_count": 7
  },
  {
   "cell_type": "code",
   "outputs": [
    {
     "data": {
      "text/plain": "'API = \"BEY7gCMA5muFeXMnzZUXhlKj8MHSrc8cZ1MmLQYc\" # Paid API key\\nLLM = ChatCohere(cohere_api_key=API, model=\"chat\",  max_tokens=256,temperature=0.5, connectors=[{\"id\": \"web-search\"}])\\ninitial_context = \"You are now a books recommender systems. Givent user history of read books and  a list of candidates The recommendation system needs to predict which books the user will like and which books will dislike from the provided candidates based on the history and analysis.\"\\nLLM.invoke([HumanMessage(content=initial_context)]) '"
     },
     "execution_count": 11,
     "metadata": {},
     "output_type": "execute_result"
    }
   ],
   "source": [
    "\n",
    "\"\"\"API = API_KEY # Paid API key\n",
    "LLM = ChatCohere(cohere_api_key=API, model=\"chat\",  max_tokens=256,temperature=0.5, connectors=[{\"id\": \"web-search\"}])\n",
    "initial_context = \"You are now a books recommender systems. Givent user history of read books and  a list of candidates The recommendation system needs to predict which books the user will like and which books will dislike from the provided candidates based on the history and analysis.\"\n",
    "LLM.invoke([HumanMessage(content=initial_context)]) \"\"\""
   ],
   "metadata": {
    "collapsed": false,
    "ExecuteTime": {
     "end_time": "2024-03-26T18:42:11.790269Z",
     "start_time": "2024-03-26T18:42:11.786260Z"
    }
   },
   "id": "d7f5681189232e8b",
   "execution_count": 11
  },
  {
   "cell_type": "code",
   "outputs": [],
   "source": [
    "\"\"\"# user item interaction augmentation\n",
    "responses = {}\n",
    "API = API_KEY # Paid API key\n",
    "LLM = ChatCohere(cohere_api_key=API, model=\"chat\",  max_tokens=256,temperature=0.5, connectors=[{\"id\": \"web-search\"}])\n",
    "initial_context = \"You are now a books recommender systems. Givent user history of read books and  a list of candidates The recommendation system needs to predict which books the user will like and which books will dislike from the provided candidates based on the history and analysis.\"\n",
    "LLM.invoke([HumanMessage(content=initial_context)])\n",
    "for i in range(0,n) :\n",
    "    user_candidate = candidates[str(i)]\n",
    "    user_history = users_history[str(i)]\n",
    "    user_item_interaction = llm_user_item_interaction(user_history,user_candidate,LLM)\n",
    "    responses[i] = user_item_interaction\n",
    "with open(\"../data/books/interactions_2.json\",\"w\") as f:\n",
    "    json.dump(responses,f)\"\"\""
   ],
   "metadata": {
    "collapsed": false
   },
   "id": "19308c25690ba2d1",
   "execution_count": null
  },
  {
   "cell_type": "code",
   "outputs": [],
   "source": [
    "\"\"\"# user profile augmentation\n",
    "responses = {}\n",
    "for i in range(11118,n) :\n",
    "    user_history = users_history[str(i)]\n",
    "    LLM = ChatCohere(cohere_api_key=API, model=\"chat\",  max_tokens=256,temperature=0.75, connectors=[{\"id\": \"web-search\"}])\n",
    "    user_item_interaction = llm_user_profile(user_history,LLM)\n",
    "    responses[i] = user_item_interaction\n",
    "\"\"\""
   ],
   "metadata": {
    "collapsed": false,
    "is_executing": true,
    "ExecuteTime": {
     "start_time": "2024-03-26T21:43:31.116994Z"
    }
   },
   "id": "f99e1cee3f9a7ca4",
   "execution_count": null
  }
 ],
 "metadata": {
  "kernelspec": {
   "display_name": "Python 3",
   "language": "python",
   "name": "python3"
  },
  "language_info": {
   "codemirror_mode": {
    "name": "ipython",
    "version": 3
   },
   "file_extension": ".py",
   "mimetype": "text/x-python",
   "name": "python",
   "nbconvert_exporter": "python",
   "pygments_lexer": "ipython3",
   "version": "3.11.1"
  }
 },
 "nbformat": 4,
 "nbformat_minor": 5
}
