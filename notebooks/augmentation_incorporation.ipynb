{
 "cells": [
  {
   "cell_type": "code",
   "execution_count": 1,
   "id": "initial_id",
   "metadata": {
    "collapsed": true,
    "ExecuteTime": {
     "end_time": "2024-03-30T19:48:19.503410Z",
     "start_time": "2024-03-30T19:48:19.285055Z"
    }
   },
   "outputs": [
    {
     "data": {
      "text/plain": "array([[-0.55613661, -0.61130512,  0.38892537, ..., -0.46190944,\n        -0.31614658,  0.02474554],\n       [-0.43849638, -0.4624407 ,  0.31047082, ..., -0.37437734,\n        -0.49948227,  0.08687187],\n       [-0.301741  , -0.39286688,  0.64743453, ..., -0.46533042,\n        -0.34528163, -0.00074787],\n       ...,\n       [-0.73888892, -0.47245887,  0.22287232, ..., -0.32004803,\n        -0.63478613,  0.31810954],\n       [-0.40365788, -0.37866268,  0.4159269 , ..., -0.36646253,\n        -0.40985939,  0.03442466],\n       [-0.51165456, -0.56038183,  0.52782178, ..., -0.54417473,\n        -0.57279027,  0.18716387]])"
     },
     "execution_count": 1,
     "metadata": {},
     "output_type": "execute_result"
    }
   ],
   "source": [
    "import numpy as np\n",
    "\n",
    "text = np.load(\"../data/books/embed_text.npy\")\n",
    "text"
   ]
  },
  {
   "cell_type": "code",
   "outputs": [
    {
     "data": {
      "text/plain": "(33962, 1024)"
     },
     "execution_count": 2,
     "metadata": {},
     "output_type": "execute_result"
    }
   ],
   "source": [
    "text.shape #1024 ->64"
   ],
   "metadata": {
    "collapsed": false,
    "ExecuteTime": {
     "end_time": "2024-03-30T19:48:27.316425Z",
     "start_time": "2024-03-30T19:48:27.311486Z"
    }
   },
   "id": "bb66a8a5dbc99faf",
   "execution_count": 2
  },
  {
   "cell_type": "code",
   "outputs": [],
   "source": [],
   "metadata": {
    "collapsed": false
   },
   "id": "460d8e422a4ee238"
  }
 ],
 "metadata": {
  "kernelspec": {
   "display_name": "Python 3",
   "language": "python",
   "name": "python3"
  },
  "language_info": {
   "codemirror_mode": {
    "name": "ipython",
    "version": 2
   },
   "file_extension": ".py",
   "mimetype": "text/x-python",
   "name": "python",
   "nbconvert_exporter": "python",
   "pygments_lexer": "ipython2",
   "version": "2.7.6"
  }
 },
 "nbformat": 4,
 "nbformat_minor": 5
}
