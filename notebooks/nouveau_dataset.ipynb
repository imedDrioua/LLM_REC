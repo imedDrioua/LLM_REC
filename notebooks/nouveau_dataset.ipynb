{
 "cells": [
  {
   "cell_type": "code",
   "execution_count": 21,
   "id": "initial_id",
   "metadata": {
    "collapsed": true,
    "ExecuteTime": {
     "end_time": "2024-03-20T22:36:21.866632Z",
     "start_time": "2024-03-20T22:36:21.694774Z"
    }
   },
   "outputs": [
    {
     "name": "stdout",
     "output_type": "stream",
     "text": [
      "Dimension des embeddings des images (33962, 1024)\n",
      "Dimension des embeddings des textes (33962, 1024)\n"
     ]
    }
   ],
   "source": [
    "import numpy as np\n",
    "import scipy.sparse as sp\n",
    "embed_image = np.load('../data/books/embed_image.npy')\n",
    "print(\"Dimension des embeddings des images\",embed_image.shape)\n",
    "\n",
    "embed_text = np.load('../data/books/embed_text.npy')\n",
    "print(\"Dimension des embeddings des textes\",embed_text.shape)"
   ]
  },
  {
   "cell_type": "code",
   "outputs": [
    {
     "name": "stdout",
     "output_type": "stream",
     "text": [
      "33962 items dans le dataset\n",
      "14790 users dans le dataset\n"
     ]
    }
   ],
   "source": [
    "import pandas as pd\n",
    "items = pd.read_csv('../data/books/items.txt') \n",
    "m = len(items)\n",
    "print(f'{m} items dans le dataset')\n",
    "users = pd.read_csv('../data/books/users.txt')\n",
    "n = len(users)\n",
    "print(f'{n} users dans le dataset')"
   ],
   "metadata": {
    "collapsed": false,
    "ExecuteTime": {
     "end_time": "2024-03-20T22:36:42.030126Z",
     "start_time": "2024-03-20T22:36:42.004211Z"
    }
   },
   "id": "595ad250b5376d42",
   "execution_count": 22
  },
  {
   "cell_type": "code",
   "outputs": [
    {
     "ename": "NameError",
     "evalue": "name 'data_dict' is not defined",
     "output_type": "error",
     "traceback": [
      "\u001B[1;31m---------------------------------------------------------------------------\u001B[0m",
      "\u001B[1;31mNameError\u001B[0m                                 Traceback (most recent call last)",
      "Cell \u001B[1;32mIn[5], line 38\u001B[0m\n\u001B[0;32m     35\u001B[0m     validation_dict[\u001B[38;5;28mstr\u001B[39m(user_id)]\u001B[38;5;241m.\u001B[39mappend(\u001B[38;5;28mint\u001B[39m(item_id))\n\u001B[0;32m     37\u001B[0m \u001B[38;5;28;01mwith\u001B[39;00m \u001B[38;5;28mopen\u001B[39m(\u001B[38;5;124m'\u001B[39m\u001B[38;5;124m../data/books/train.json\u001B[39m\u001B[38;5;124m'\u001B[39m, \u001B[38;5;124m'\u001B[39m\u001B[38;5;124mw\u001B[39m\u001B[38;5;124m'\u001B[39m) \u001B[38;5;28;01mas\u001B[39;00m f :\n\u001B[1;32m---> 38\u001B[0m     json\u001B[38;5;241m.\u001B[39mdump(\u001B[43mdata_dict\u001B[49m, f)\n\u001B[0;32m     40\u001B[0m \u001B[38;5;28;01mwith\u001B[39;00m \u001B[38;5;28mopen\u001B[39m(\u001B[38;5;124m'\u001B[39m\u001B[38;5;124m../data/books/test.json\u001B[39m\u001B[38;5;124m'\u001B[39m, \u001B[38;5;124m'\u001B[39m\u001B[38;5;124mw\u001B[39m\u001B[38;5;124m'\u001B[39m) \u001B[38;5;28;01mas\u001B[39;00m f :\n\u001B[0;32m     41\u001B[0m     json\u001B[38;5;241m.\u001B[39mdump(test_dict, f)\n",
      "\u001B[1;31mNameError\u001B[0m: name 'data_dict' is not defined"
     ]
    }
   ],
   "source": [
    "import json\n",
    "# Convertion des fichiers txt en json pour faciliter la manipulation avec le modèle\n",
    "# load the data\n",
    "train = pd.read_csv('../data/books/train.txt')\n",
    "test = pd.read_csv('../data/books/test.txt')\n",
    "validation = pd.read_csv('../data/books/validation.txt')\n",
    "\n",
    "train_dict = {}\n",
    "test_dict = {}\n",
    "validation_dict = {}\n",
    "\n",
    "train_ids = train['user'].unique()\n",
    "test_ids = test['user'].unique()\n",
    "validation_ids = validation['user'].unique()\n",
    "\n",
    "# Des boucles legères  \n",
    "for user_id in range(n):\n",
    "    train_dict[str(user_id)] = []\n",
    "for user_id in range(len(test_ids)):\n",
    "    test_dict[str(user_id)] = []\n",
    "for user_id in range(len(validation_ids)):\n",
    "    validation_dict[str(user_id)] = []\n",
    "    \n",
    "for index, row in train.iterrows():\n",
    "    user_id = row['user']\n",
    "    item_id = row['item']\n",
    "    train_dict[str(user_id)].append(int(item_id))\n",
    "\n",
    "for index, row in test.iterrows():\n",
    "    user_id = row['user']\n",
    "    item_id = row['item']\n",
    "    test_dict[str(user_id)].append(int(item_id))\n",
    "\n",
    "for index, row in validation.iterrows():\n",
    "    user_id = row['user']\n",
    "    item_id = row['item']\n",
    "    validation_dict[str(user_id)].append(int(item_id))"
   ],
   "metadata": {
    "collapsed": false,
    "ExecuteTime": {
     "end_time": "2024-03-20T22:13:13.711315Z",
     "start_time": "2024-03-20T22:13:00.393243Z"
    }
   },
   "id": "ff195539adb7beab",
   "execution_count": 5
  },
  {
   "cell_type": "code",
   "outputs": [],
   "source": [
    "with open('../data/books/train.json', 'w') as f :\n",
    "    json.dump(train_dict, f)\n",
    "\n",
    "with open('../data/books/test.json', 'w') as f :\n",
    "    json.dump(test_dict, f)\n",
    "\n",
    "with open('../data/books/validation.json', 'w') as f :\n",
    "    json.dump(validation_dict, f)"
   ],
   "metadata": {
    "collapsed": false,
    "ExecuteTime": {
     "end_time": "2024-03-20T22:13:33.923810Z",
     "start_time": "2024-03-20T22:13:33.332105Z"
    }
   },
   "id": "b8eabce2dec16bc4",
   "execution_count": 6
  },
  {
   "cell_type": "code",
   "outputs": [
    {
     "data": {
      "text/plain": "         ISBN                                              Title  \\\n0  0195153448                                Classical Mythology   \n1  0002005018                                       Clara Callan   \n2  0060973129                               Decision in Normandy   \n3  0374157065  Flu: The Story of the Great Influenza Pandemic...   \n4  0393045218                             The Mummies of Urumchi   \n\n                 Author  Year                Publisher  \n0    Mark P. O. Morford  2002  Oxford University Press  \n1  Richard Bruce Wright  2001    HarperFlamingo Canada  \n2          Carlo D'Este  1991          HarperPerennial  \n3      Gina Bari Kolata  1999     Farrar Straus Giroux  \n4       E. J. W. Barber  1999   W. W. Norton & Company  ",
      "text/html": "<div>\n<style scoped>\n    .dataframe tbody tr th:only-of-type {\n        vertical-align: middle;\n    }\n\n    .dataframe tbody tr th {\n        vertical-align: top;\n    }\n\n    .dataframe thead th {\n        text-align: right;\n    }\n</style>\n<table border=\"1\" class=\"dataframe\">\n  <thead>\n    <tr style=\"text-align: right;\">\n      <th></th>\n      <th>ISBN</th>\n      <th>Title</th>\n      <th>Author</th>\n      <th>Year</th>\n      <th>Publisher</th>\n    </tr>\n  </thead>\n  <tbody>\n    <tr>\n      <th>0</th>\n      <td>0195153448</td>\n      <td>Classical Mythology</td>\n      <td>Mark P. O. Morford</td>\n      <td>2002</td>\n      <td>Oxford University Press</td>\n    </tr>\n    <tr>\n      <th>1</th>\n      <td>0002005018</td>\n      <td>Clara Callan</td>\n      <td>Richard Bruce Wright</td>\n      <td>2001</td>\n      <td>HarperFlamingo Canada</td>\n    </tr>\n    <tr>\n      <th>2</th>\n      <td>0060973129</td>\n      <td>Decision in Normandy</td>\n      <td>Carlo D'Este</td>\n      <td>1991</td>\n      <td>HarperPerennial</td>\n    </tr>\n    <tr>\n      <th>3</th>\n      <td>0374157065</td>\n      <td>Flu: The Story of the Great Influenza Pandemic...</td>\n      <td>Gina Bari Kolata</td>\n      <td>1999</td>\n      <td>Farrar Straus Giroux</td>\n    </tr>\n    <tr>\n      <th>4</th>\n      <td>0393045218</td>\n      <td>The Mummies of Urumchi</td>\n      <td>E. J. W. Barber</td>\n      <td>1999</td>\n      <td>W. W. Norton &amp; Company</td>\n    </tr>\n  </tbody>\n</table>\n</div>"
     },
     "execution_count": 9,
     "metadata": {},
     "output_type": "execute_result"
    }
   ],
   "source": [
    "books = pd.read_csv('../data/books/Books.csv',sep=';')\n",
    "books.shape"
   ],
   "metadata": {
    "collapsed": false,
    "ExecuteTime": {
     "end_time": "2024-03-20T22:22:34.712027Z",
     "start_time": "2024-03-20T22:22:34.122627Z"
    }
   },
   "id": "ab2430487890eea4",
   "execution_count": 9
  },
  {
   "cell_type": "code",
   "outputs": [
    {
     "data": {
      "text/plain": "              ISBN                                              Title  \\\n1       0002005018                                       Clara Callan   \n3       0374157065  Flu: The Story of the Great Influenza Pandemic...   \n6       0425176428  What If?: The World's Foremost Military Histor...   \n10      0771074670                        Nights Below Station Street   \n14      1558746218  A Second Chicken Soup for the Woman's Soul (Ch...   \n...            ...                                                ...   \n235407  0312927339  Red Cloud's Revenge: Showdown on the Northern ...   \n240546  0553560557                                              Vixen   \n243216  0330353349                  The Ice House (TV Tie-In Edition)   \n243940  0394758250  The Lady in the Lake (Vintage Crime/ Black Liz...   \n247695  0373120486  Baby Verdict (Expecting) (Harlequin Presents, ...   \n\n                      Author  Year                 Publisher  \n1       Richard Bruce Wright  2001     HarperFlamingo Canada  \n3           Gina Bari Kolata  1999      Farrar Straus Giroux  \n6              Robert Cowley  2000  Berkley Publishing Group  \n10      David Adams Richards  1988           Emblem Editions  \n14             Jack Canfield  1998     Health Communications  \n...                      ...   ...                       ...  \n235407     Terry C. Johnston  1995        St. Martin's Press  \n240546          Jane Feather  1994              Bantam Books  \n243216       Minette Walters  1997      McClelland & Stewart  \n243940      Raymond Chandler  1992         Vintage Books USA  \n247695        Cathy Williams  1999                 Harlequin  \n\n[33963 rows x 5 columns]",
      "text/html": "<div>\n<style scoped>\n    .dataframe tbody tr th:only-of-type {\n        vertical-align: middle;\n    }\n\n    .dataframe tbody tr th {\n        vertical-align: top;\n    }\n\n    .dataframe thead th {\n        text-align: right;\n    }\n</style>\n<table border=\"1\" class=\"dataframe\">\n  <thead>\n    <tr style=\"text-align: right;\">\n      <th></th>\n      <th>ISBN</th>\n      <th>Title</th>\n      <th>Author</th>\n      <th>Year</th>\n      <th>Publisher</th>\n    </tr>\n  </thead>\n  <tbody>\n    <tr>\n      <th>1</th>\n      <td>0002005018</td>\n      <td>Clara Callan</td>\n      <td>Richard Bruce Wright</td>\n      <td>2001</td>\n      <td>HarperFlamingo Canada</td>\n    </tr>\n    <tr>\n      <th>3</th>\n      <td>0374157065</td>\n      <td>Flu: The Story of the Great Influenza Pandemic...</td>\n      <td>Gina Bari Kolata</td>\n      <td>1999</td>\n      <td>Farrar Straus Giroux</td>\n    </tr>\n    <tr>\n      <th>6</th>\n      <td>0425176428</td>\n      <td>What If?: The World's Foremost Military Histor...</td>\n      <td>Robert Cowley</td>\n      <td>2000</td>\n      <td>Berkley Publishing Group</td>\n    </tr>\n    <tr>\n      <th>10</th>\n      <td>0771074670</td>\n      <td>Nights Below Station Street</td>\n      <td>David Adams Richards</td>\n      <td>1988</td>\n      <td>Emblem Editions</td>\n    </tr>\n    <tr>\n      <th>14</th>\n      <td>1558746218</td>\n      <td>A Second Chicken Soup for the Woman's Soul (Ch...</td>\n      <td>Jack Canfield</td>\n      <td>1998</td>\n      <td>Health Communications</td>\n    </tr>\n    <tr>\n      <th>...</th>\n      <td>...</td>\n      <td>...</td>\n      <td>...</td>\n      <td>...</td>\n      <td>...</td>\n    </tr>\n    <tr>\n      <th>235407</th>\n      <td>0312927339</td>\n      <td>Red Cloud's Revenge: Showdown on the Northern ...</td>\n      <td>Terry C. Johnston</td>\n      <td>1995</td>\n      <td>St. Martin's Press</td>\n    </tr>\n    <tr>\n      <th>240546</th>\n      <td>0553560557</td>\n      <td>Vixen</td>\n      <td>Jane Feather</td>\n      <td>1994</td>\n      <td>Bantam Books</td>\n    </tr>\n    <tr>\n      <th>243216</th>\n      <td>0330353349</td>\n      <td>The Ice House (TV Tie-In Edition)</td>\n      <td>Minette Walters</td>\n      <td>1997</td>\n      <td>McClelland &amp; Stewart</td>\n    </tr>\n    <tr>\n      <th>243940</th>\n      <td>0394758250</td>\n      <td>The Lady in the Lake (Vintage Crime/ Black Liz...</td>\n      <td>Raymond Chandler</td>\n      <td>1992</td>\n      <td>Vintage Books USA</td>\n    </tr>\n    <tr>\n      <th>247695</th>\n      <td>0373120486</td>\n      <td>Baby Verdict (Expecting) (Harlequin Presents, ...</td>\n      <td>Cathy Williams</td>\n      <td>1999</td>\n      <td>Harlequin</td>\n    </tr>\n  </tbody>\n</table>\n<p>33963 rows × 5 columns</p>\n</div>"
     },
     "execution_count": 17,
     "metadata": {},
     "output_type": "execute_result"
    }
   ],
   "source": [
    "items = pd.read_csv('../data/books/items.txt')\n",
    "# adding title column ( dataframes are not equal)\n",
    "titles = books.loc[books['ISBN'].isin(items['ISBN'])]\n",
    "titles\n"
   ],
   "metadata": {
    "collapsed": false,
    "ExecuteTime": {
     "end_time": "2024-03-20T22:32:15.100221Z",
     "start_time": "2024-03-20T22:32:15.048311Z"
    }
   },
   "id": "825833b11768ff6b",
   "execution_count": 17
  },
  {
   "cell_type": "code",
   "outputs": [
    {
     "data": {
      "text/plain": "             ISBN  item_id                                              Title\n0      0385094787        0                                Archy and Mehitabel\n1      0886773083        1  The Shattered Chain (Darkover: The Renunciates...\n2      0373710291        2  Cowboy For Clementine (Home On The Ranch) (Har...\n3      0802135838        3          Patient: The True Story of a Rare Illness\n4      0684834553        4       Vineyard Blues : A Martha's Vineyard Mystery\n...           ...      ...                                                ...\n33958  0373708343    33957  Don'T Mess With Texans  (By The Year 2000:  Re...\n33959  0345421884    33958                                       Dragonshadow\n33960  0380731991    33959                    Cereus Blooms at Night: A Novel\n33961  0517580497    33960               Plains of Passage (Earth's Children)\n33962  0446677469    33961  Rich Dad's Guide to Investing: What the Rich I...\n\n[33963 rows x 3 columns]",
      "text/html": "<div>\n<style scoped>\n    .dataframe tbody tr th:only-of-type {\n        vertical-align: middle;\n    }\n\n    .dataframe tbody tr th {\n        vertical-align: top;\n    }\n\n    .dataframe thead th {\n        text-align: right;\n    }\n</style>\n<table border=\"1\" class=\"dataframe\">\n  <thead>\n    <tr style=\"text-align: right;\">\n      <th></th>\n      <th>ISBN</th>\n      <th>item_id</th>\n      <th>Title</th>\n    </tr>\n  </thead>\n  <tbody>\n    <tr>\n      <th>0</th>\n      <td>0385094787</td>\n      <td>0</td>\n      <td>Archy and Mehitabel</td>\n    </tr>\n    <tr>\n      <th>1</th>\n      <td>0886773083</td>\n      <td>1</td>\n      <td>The Shattered Chain (Darkover: The Renunciates...</td>\n    </tr>\n    <tr>\n      <th>2</th>\n      <td>0373710291</td>\n      <td>2</td>\n      <td>Cowboy For Clementine (Home On The Ranch) (Har...</td>\n    </tr>\n    <tr>\n      <th>3</th>\n      <td>0802135838</td>\n      <td>3</td>\n      <td>Patient: The True Story of a Rare Illness</td>\n    </tr>\n    <tr>\n      <th>4</th>\n      <td>0684834553</td>\n      <td>4</td>\n      <td>Vineyard Blues : A Martha's Vineyard Mystery</td>\n    </tr>\n    <tr>\n      <th>...</th>\n      <td>...</td>\n      <td>...</td>\n      <td>...</td>\n    </tr>\n    <tr>\n      <th>33958</th>\n      <td>0373708343</td>\n      <td>33957</td>\n      <td>Don'T Mess With Texans  (By The Year 2000:  Re...</td>\n    </tr>\n    <tr>\n      <th>33959</th>\n      <td>0345421884</td>\n      <td>33958</td>\n      <td>Dragonshadow</td>\n    </tr>\n    <tr>\n      <th>33960</th>\n      <td>0380731991</td>\n      <td>33959</td>\n      <td>Cereus Blooms at Night: A Novel</td>\n    </tr>\n    <tr>\n      <th>33961</th>\n      <td>0517580497</td>\n      <td>33960</td>\n      <td>Plains of Passage (Earth's Children)</td>\n    </tr>\n    <tr>\n      <th>33962</th>\n      <td>0446677469</td>\n      <td>33961</td>\n      <td>Rich Dad's Guide to Investing: What the Rich I...</td>\n    </tr>\n  </tbody>\n</table>\n<p>33963 rows × 3 columns</p>\n</div>"
     },
     "execution_count": 19,
     "metadata": {},
     "output_type": "execute_result"
    }
   ],
   "source": [
    "items_titles = pd.merge(items, titles[[\"ISBN\",\"Title\"]], on='ISBN')\n",
    "items_titles"
   ],
   "metadata": {
    "collapsed": false,
    "ExecuteTime": {
     "end_time": "2024-03-20T22:33:06.960023Z",
     "start_time": "2024-03-20T22:33:06.932399Z"
    }
   },
   "id": "e09ad591d8b9fda",
   "execution_count": 19
  },
  {
   "cell_type": "code",
   "outputs": [
    {
     "data": {
      "text/plain": "                                                   Title  Year  \\\n0                                    Archy and Mehitabel  1970   \n1      The Shattered Chain (Darkover: The Renunciates...  1988   \n2      Cowboy For Clementine (Home On The Ranch) (Har...  2001   \n3              Patient: The True Story of a Rare Illness  1998   \n4           Vineyard Blues : A Martha's Vineyard Mystery  2000   \n...                                                  ...   ...   \n33957  Don'T Mess With Texans  (By The Year 2000:  Re...  1999   \n33958                                       Dragonshadow  2000   \n33959                    Cereus Blooms at Night: A Novel  1999   \n33960               Plains of Passage (Earth's Children)  1990   \n33961  Rich Dad's Guide to Investing: What the Rich I...  2000   \n\n                      Author                                       Genres  \\\n0                Don Marquis                               Comedy, Poetry   \n1      Marion Zimmer Bradley                    Science fiction , Fantasy   \n2                Susan Floyd                            Romance , Western   \n3                   Ben Watt  Autobiographical novel , Health and Fitness   \n4            Philip R. Craig                             Mystery, Fiction   \n...                      ...                                          ...   \n33957        Peggy Nicholson                            Romance , Fiction   \n33958         Barbara Hambly                          Fantasy , Adventure   \n33959           Shani Mootoo                              Fiction , Drama   \n33960           Jean M. Auel                Fiction , Prehistoric Fiction   \n33961     Robert T. Kiyosaki                            Business, Finance   \n\n      Language  item_id  \n0      English        0  \n1      English        1  \n2      English        2  \n3      English        3  \n4      English        4  \n...        ...      ...  \n33957  English    33957  \n33958  English    33958  \n33959  English    33959  \n33960  English    33960  \n33961  English    33961  \n\n[33962 rows x 6 columns]",
      "text/html": "<div>\n<style scoped>\n    .dataframe tbody tr th:only-of-type {\n        vertical-align: middle;\n    }\n\n    .dataframe tbody tr th {\n        vertical-align: top;\n    }\n\n    .dataframe thead th {\n        text-align: right;\n    }\n</style>\n<table border=\"1\" class=\"dataframe\">\n  <thead>\n    <tr style=\"text-align: right;\">\n      <th></th>\n      <th>Title</th>\n      <th>Year</th>\n      <th>Author</th>\n      <th>Genres</th>\n      <th>Language</th>\n      <th>item_id</th>\n    </tr>\n  </thead>\n  <tbody>\n    <tr>\n      <th>0</th>\n      <td>Archy and Mehitabel</td>\n      <td>1970</td>\n      <td>Don Marquis</td>\n      <td>Comedy, Poetry</td>\n      <td>English</td>\n      <td>0</td>\n    </tr>\n    <tr>\n      <th>1</th>\n      <td>The Shattered Chain (Darkover: The Renunciates...</td>\n      <td>1988</td>\n      <td>Marion Zimmer Bradley</td>\n      <td>Science fiction , Fantasy</td>\n      <td>English</td>\n      <td>1</td>\n    </tr>\n    <tr>\n      <th>2</th>\n      <td>Cowboy For Clementine (Home On The Ranch) (Har...</td>\n      <td>2001</td>\n      <td>Susan Floyd</td>\n      <td>Romance , Western</td>\n      <td>English</td>\n      <td>2</td>\n    </tr>\n    <tr>\n      <th>3</th>\n      <td>Patient: The True Story of a Rare Illness</td>\n      <td>1998</td>\n      <td>Ben Watt</td>\n      <td>Autobiographical novel , Health and Fitness</td>\n      <td>English</td>\n      <td>3</td>\n    </tr>\n    <tr>\n      <th>4</th>\n      <td>Vineyard Blues : A Martha's Vineyard Mystery</td>\n      <td>2000</td>\n      <td>Philip R. Craig</td>\n      <td>Mystery, Fiction</td>\n      <td>English</td>\n      <td>4</td>\n    </tr>\n    <tr>\n      <th>...</th>\n      <td>...</td>\n      <td>...</td>\n      <td>...</td>\n      <td>...</td>\n      <td>...</td>\n      <td>...</td>\n    </tr>\n    <tr>\n      <th>33957</th>\n      <td>Don'T Mess With Texans  (By The Year 2000:  Re...</td>\n      <td>1999</td>\n      <td>Peggy Nicholson</td>\n      <td>Romance , Fiction</td>\n      <td>English</td>\n      <td>33957</td>\n    </tr>\n    <tr>\n      <th>33958</th>\n      <td>Dragonshadow</td>\n      <td>2000</td>\n      <td>Barbara Hambly</td>\n      <td>Fantasy , Adventure</td>\n      <td>English</td>\n      <td>33958</td>\n    </tr>\n    <tr>\n      <th>33959</th>\n      <td>Cereus Blooms at Night: A Novel</td>\n      <td>1999</td>\n      <td>Shani Mootoo</td>\n      <td>Fiction , Drama</td>\n      <td>English</td>\n      <td>33959</td>\n    </tr>\n    <tr>\n      <th>33960</th>\n      <td>Plains of Passage (Earth's Children)</td>\n      <td>1990</td>\n      <td>Jean M. Auel</td>\n      <td>Fiction , Prehistoric Fiction</td>\n      <td>English</td>\n      <td>33960</td>\n    </tr>\n    <tr>\n      <th>33961</th>\n      <td>Rich Dad's Guide to Investing: What the Rich I...</td>\n      <td>2000</td>\n      <td>Robert T. Kiyosaki</td>\n      <td>Business, Finance</td>\n      <td>English</td>\n      <td>33961</td>\n    </tr>\n  </tbody>\n</table>\n<p>33962 rows × 6 columns</p>\n</div>"
     },
     "execution_count": 38,
     "metadata": {},
     "output_type": "execute_result"
    }
   ],
   "source": [
    "import pandas as pd\n",
    "books = pd.read_csv('../data/books/items_with_attributes.csv',sep=';')\n",
    "books"
   ],
   "metadata": {
    "collapsed": false,
    "ExecuteTime": {
     "end_time": "2024-03-25T20:54:35.062940Z",
     "start_time": "2024-03-25T20:54:34.976335Z"
    }
   },
   "id": "fbe0c219e7666d20",
   "execution_count": 38
  },
  {
   "cell_type": "code",
   "outputs": [],
   "source": [
    "import pandas as pd\n",
    "import json\n",
    "with open('../data/books/train.json', 'r') as f:\n",
    "    train = json.load(f)\n",
    "df = pd.read_csv(\"../data/books/items_with_attributes.csv\",sep=';')\n",
    "import numpy as np"
   ],
   "metadata": {
    "collapsed": false,
    "ExecuteTime": {
     "end_time": "2024-03-28T01:30:56.979309Z",
     "start_time": "2024-03-28T01:30:56.876364Z"
    }
   },
   "id": "92fe6c1572e48b2f",
   "execution_count": 11
  },
  {
   "cell_type": "code",
   "outputs": [
    {
     "data": {
      "text/plain": "<14790x33962 sparse matrix of type '<class 'numpy.int8'>'\n\twith 317111 stored elements in Dictionary Of Keys format>"
     },
     "execution_count": 12,
     "metadata": {},
     "output_type": "execute_result"
    }
   ],
   "source": [
    "# create a function that convert the train dict to a dok matrix \n",
    "from scipy.sparse import dok_matrix\n",
    "def convert_dict_to_dok(dict_, n, m):\n",
    "    dok = dok_matrix((n,m), dtype=np.int8)\n",
    "    for user_id, items in dict_.items():\n",
    "        for item_id in items:\n",
    "            dok[int(user_id), int(item_id)] = 1\n",
    "    return dok\n",
    "# test the function\n",
    "train_dok = convert_dict_to_dok(train, len(train), len(df))\n",
    "train_dok"
   ],
   "metadata": {
    "collapsed": false,
    "ExecuteTime": {
     "end_time": "2024-03-28T01:31:00.591140Z",
     "start_time": "2024-03-28T01:30:57.919630Z"
    }
   },
   "id": "f745056523a896d4",
   "execution_count": 12
  },
  {
   "cell_type": "code",
   "outputs": [],
   "source": [
    "import json\n",
    "import pandas as pd\n",
    "with open('../data/books/test.json', 'r') as f:\n",
    "    train = json.load(f)"
   ],
   "metadata": {
    "collapsed": false,
    "ExecuteTime": {
     "end_time": "2024-03-30T01:10:03.129046Z",
     "start_time": "2024-03-30T01:10:02.676257Z"
    }
   },
   "id": "4766d65f8af04096",
   "execution_count": 1
  },
  {
   "cell_type": "code",
   "outputs": [],
   "source": [
    "# convert the dict to a data frame with two columns user_id and item_id (users while be repeated)\n",
    "def convert_dict_to_df(dict_):\n",
    "    df = pd.DataFrame(columns=['user_id', 'item_id'])\n",
    "    for user_id, items in dict_.items():\n",
    "        for item_id in items:\n",
    "            # use concat to avoid the warning\n",
    "            df = pd.concat([df, pd.DataFrame({'user_id': [int(user_id)], 'item_id': [int(item_id)]})])\n",
    "    return df"
   ],
   "metadata": {
    "collapsed": false,
    "ExecuteTime": {
     "end_time": "2024-03-30T01:10:03.824906Z",
     "start_time": "2024-03-30T01:10:03.820749Z"
    }
   },
   "id": "8ed2d030e6eb55a1",
   "execution_count": 2
  },
  {
   "cell_type": "code",
   "outputs": [],
   "source": [
    "train_df = convert_dict_to_df(train)"
   ],
   "metadata": {
    "collapsed": false,
    "ExecuteTime": {
     "end_time": "2024-03-30T01:10:19.534634Z",
     "start_time": "2024-03-30T01:10:04.998766Z"
    }
   },
   "id": "8ce70299e98f4b32",
   "execution_count": 3
  },
  {
   "cell_type": "code",
   "outputs": [
    {
     "data": {
      "text/plain": "   user_id item_id\n0        0   12457\n0        1   25847\n0        1    1776\n0        1   14988\n0        1   12668\n..     ...     ...\n0     5000    4925\n0     5000    3533\n0     5000   13370\n0     5000    2684\n0     5000   14074\n\n[33106 rows x 2 columns]",
      "text/html": "<div>\n<style scoped>\n    .dataframe tbody tr th:only-of-type {\n        vertical-align: middle;\n    }\n\n    .dataframe tbody tr th {\n        vertical-align: top;\n    }\n\n    .dataframe thead th {\n        text-align: right;\n    }\n</style>\n<table border=\"1\" class=\"dataframe\">\n  <thead>\n    <tr style=\"text-align: right;\">\n      <th></th>\n      <th>user_id</th>\n      <th>item_id</th>\n    </tr>\n  </thead>\n  <tbody>\n    <tr>\n      <th>0</th>\n      <td>0</td>\n      <td>12457</td>\n    </tr>\n    <tr>\n      <th>0</th>\n      <td>1</td>\n      <td>25847</td>\n    </tr>\n    <tr>\n      <th>0</th>\n      <td>1</td>\n      <td>1776</td>\n    </tr>\n    <tr>\n      <th>0</th>\n      <td>1</td>\n      <td>14988</td>\n    </tr>\n    <tr>\n      <th>0</th>\n      <td>1</td>\n      <td>12668</td>\n    </tr>\n    <tr>\n      <th>...</th>\n      <td>...</td>\n      <td>...</td>\n    </tr>\n    <tr>\n      <th>0</th>\n      <td>5000</td>\n      <td>4925</td>\n    </tr>\n    <tr>\n      <th>0</th>\n      <td>5000</td>\n      <td>3533</td>\n    </tr>\n    <tr>\n      <th>0</th>\n      <td>5000</td>\n      <td>13370</td>\n    </tr>\n    <tr>\n      <th>0</th>\n      <td>5000</td>\n      <td>2684</td>\n    </tr>\n    <tr>\n      <th>0</th>\n      <td>5000</td>\n      <td>14074</td>\n    </tr>\n  </tbody>\n</table>\n<p>33106 rows × 2 columns</p>\n</div>"
     },
     "execution_count": 4,
     "metadata": {},
     "output_type": "execute_result"
    }
   ],
   "source": [
    "train_df"
   ],
   "metadata": {
    "collapsed": false,
    "ExecuteTime": {
     "end_time": "2024-03-30T01:10:30.906420Z",
     "start_time": "2024-03-30T01:10:30.894454Z"
    }
   },
   "id": "a41c776095b821c5",
   "execution_count": 4
  },
  {
   "cell_type": "code",
   "outputs": [],
   "source": [
    "train_df.to_csv('../data/books/test_df.csv', index=False)"
   ],
   "metadata": {
    "collapsed": false,
    "ExecuteTime": {
     "end_time": "2024-03-30T01:11:13.436144Z",
     "start_time": "2024-03-30T01:11:13.406432Z"
    }
   },
   "id": "588fba58cdf621c9",
   "execution_count": 5
  },
  {
   "cell_type": "code",
   "outputs": [],
   "source": [
    "def matrix_to_tensor(numpy_matrix):\n",
    "    sparse_tensor = torch.sparse_coo_tensor(torch.from_numpy(np.argwhere(numpy_matrix != 0).T),\n",
    "                                            torch.from_numpy(numpy_matrix[np.nonzero(numpy_matrix)]),\n",
    "                                            numpy_matrix.shape,dtype=torch.float32)\n",
    "    return sparse_tensor\n",
    "\n",
    "\n",
    "def csr_norm(csr_mat, mean_flag=False):  # TODO: check if this function exists in a python library\n",
    "    rowsum = np.array(csr_mat.sum(1))\n",
    "    rowsum = np.power(rowsum + 1e-8, -0.5).flatten()\n",
    "    rowsum[np.isinf(rowsum)] = 0.\n",
    "    rowsum_diag = sp.diags(rowsum)\n",
    "    colsum = np.array(csr_mat.sum(0))\n",
    "    colsum = np.power(colsum + 1e-8, -0.5).flatten()\n",
    "    colsum[np.isinf(colsum)] = 0.\n",
    "    colsum_diag = sp.diags(colsum)\n",
    "    if mean_flag == False:\n",
    "        return rowsum_diag * csr_mat * colsum_diag\n",
    "    else:\n",
    "        return rowsum_diag * csr_mat"
   ],
   "metadata": {
    "collapsed": false
   },
   "id": "9f59b29130e691de"
  },
  {
   "cell_type": "code",
   "outputs": [
    {
     "data": {
      "text/plain": "<13187x17366 sparse matrix of type '<class 'numpy.float64'>'\n\twith 68933 stored elements in Compressed Sparse Row format>"
     },
     "execution_count": 58,
     "metadata": {},
     "output_type": "execute_result"
    }
   ],
   "source": [
    "import pandas as pd\n",
    "data = pd.read_pickle('../data/netflix/train_mat')\n",
    "data"
   ],
   "metadata": {
    "collapsed": false,
    "ExecuteTime": {
     "end_time": "2024-04-11T20:23:19.109891Z",
     "start_time": "2024-04-11T20:23:19.105270Z"
    }
   },
   "id": "b542497274c093d7",
   "execution_count": 58
  },
  {
   "cell_type": "code",
   "outputs": [
    {
     "data": {
      "text/plain": "(13187, 1536)"
     },
     "execution_count": 14,
     "metadata": {},
     "output_type": "execute_result"
    }
   ],
   "source": [
    "data.shape"
   ],
   "metadata": {
    "collapsed": false,
    "ExecuteTime": {
     "end_time": "2024-04-11T19:54:15.445468Z",
     "start_time": "2024-04-11T19:54:15.441402Z"
    }
   },
   "id": "fd8874217b4a5b89",
   "execution_count": 14
  },
  {
   "cell_type": "code",
   "outputs": [],
   "source": [
    "data = pd.read_pickle('../data/netflix/augmented_total_embed_dict')\n"
   ],
   "metadata": {
    "collapsed": false,
    "ExecuteTime": {
     "end_time": "2024-04-11T19:42:16.191947Z",
     "start_time": "2024-04-11T19:42:15.805952Z"
    }
   },
   "id": "a01c1a133b024d93",
   "execution_count": 6
  },
  {
   "cell_type": "code",
   "outputs": [
    {
     "data": {
      "text/plain": "(17366, 1536)"
     },
     "execution_count": 5,
     "metadata": {},
     "output_type": "execute_result"
    }
   ],
   "source": [
    "data[\"year\"].shape"
   ],
   "metadata": {
    "collapsed": false,
    "ExecuteTime": {
     "end_time": "2024-04-11T19:37:46.298612Z",
     "start_time": "2024-04-11T19:37:46.293084Z"
    }
   },
   "id": "6cb76b500796e98a",
   "execution_count": 5
  },
  {
   "cell_type": "code",
   "outputs": [],
   "source": [
    "import numpy as np \n",
    "embeddings_totaux = []\n",
    "for i in range(len(list(data.values())[0])):\n",
    "    total_embedding = np.zeros_like(list(data.values())[0][0])  # Initialisation de l'embedding total\n",
    "    for key, value in data.items():\n",
    "        total_embedding += value[i]  # Ajouter l'embedding de chaque attribut\n",
    "    embeddings_totaux.append(total_embedding)\n",
    "\n",
    "# Créer un DataFrame à partir des embeddings totaux\n",
    "df = pd.DataFrame(embeddings_totaux, columns=range(1536))"
   ],
   "metadata": {
    "collapsed": false,
    "ExecuteTime": {
     "end_time": "2024-04-11T19:49:42.310196Z",
     "start_time": "2024-04-11T19:49:33.118304Z"
    }
   },
   "id": "d1a96661c9db32ca",
   "execution_count": 9
  },
  {
   "cell_type": "code",
   "outputs": [],
   "source": [
    "# read .npz file\n",
    "import numpy as np\n",
    "data = np.load('../data/netflix/adjacency_matrix.npz')\n"
   ],
   "metadata": {
    "collapsed": false,
    "ExecuteTime": {
     "end_time": "2024-04-11T20:15:49.246574Z",
     "start_time": "2024-04-11T20:15:49.242763Z"
    }
   },
   "id": "a1818701f6156309",
   "execution_count": 46
  },
  {
   "cell_type": "code",
   "outputs": [
    {
     "name": "stdout",
     "output_type": "stream",
     "text": [
      "NpzFile '../data/netflix/adjacency_matrix.npz' with keys: indices, indptr, format, shape, data\n"
     ]
    }
   ],
   "source": [
    "# print dimension of the matrix\n",
    "print(data)"
   ],
   "metadata": {
    "collapsed": false,
    "ExecuteTime": {
     "end_time": "2024-04-11T20:15:49.850890Z",
     "start_time": "2024-04-11T20:15:49.847896Z"
    }
   },
   "id": "9e6a8f3dfd7df8a5",
   "execution_count": 47
  },
  {
   "cell_type": "code",
   "outputs": [
    {
     "data": {
      "text/plain": "numpy.lib.npyio.NpzFile"
     },
     "execution_count": 48,
     "metadata": {},
     "output_type": "execute_result"
    }
   ],
   "source": [
    "type(data)\n"
   ],
   "metadata": {
    "collapsed": false,
    "ExecuteTime": {
     "end_time": "2024-04-11T20:15:51.280063Z",
     "start_time": "2024-04-11T20:15:51.275414Z"
    }
   },
   "id": "1bde09270a39d11b",
   "execution_count": 48
  },
  {
   "cell_type": "code",
   "outputs": [],
   "source": [
    "# Extraire les données nécessaires\n",
    "import scipy.sparse as sp\n",
    "indices = data['indices']\n",
    "indptr = data['indptr']\n",
    "shape = tuple(data['shape'])\n",
    "data_sparse = data['data']\n",
    "format_sparse = data['format']\n",
    "\n",
    "# Créer une matrice creuse en utilisant les données extraites\n",
    "embedding_total_sparse = sp.csr_matrix((data_sparse, indices, indptr), shape=shape)"
   ],
   "metadata": {
    "collapsed": false,
    "ExecuteTime": {
     "end_time": "2024-04-11T20:15:58.869723Z",
     "start_time": "2024-04-11T20:15:57.925220Z"
    }
   },
   "id": "8d64a4d8d7a92d47",
   "execution_count": 49
  },
  {
   "cell_type": "code",
   "outputs": [
    {
     "data": {
      "text/plain": "(30553, 30553)"
     },
     "execution_count": 50,
     "metadata": {},
     "output_type": "execute_result"
    }
   ],
   "source": [
    "embedding_total_sparse.shape"
   ],
   "metadata": {
    "collapsed": false,
    "ExecuteTime": {
     "end_time": "2024-04-11T20:16:20.220403Z",
     "start_time": "2024-04-11T20:16:20.216135Z"
    }
   },
   "id": "3cebe127d637e196",
   "execution_count": 50
  },
  {
   "cell_type": "markdown",
   "source": [],
   "metadata": {
    "collapsed": false
   },
   "id": "2137ce2e8b997c56"
  },
  {
   "cell_type": "code",
   "outputs": [
    {
     "data": {
      "text/plain": "<30553x30553 sparse matrix of type '<class 'numpy.float64'>'\n\twith 168419 stored elements in Compressed Sparse Row format>"
     },
     "execution_count": 51,
     "metadata": {},
     "output_type": "execute_result"
    }
   ],
   "source": [
    "embedding_total_sparse\n"
   ],
   "metadata": {
    "collapsed": false,
    "ExecuteTime": {
     "end_time": "2024-04-11T20:16:27.324482Z",
     "start_time": "2024-04-11T20:16:27.319581Z"
    }
   },
   "id": "a012469fd2020262",
   "execution_count": 51
  },
  {
   "cell_type": "code",
   "outputs": [],
   "source": [
    "coo = embedding_total_sparse.tocoo()\n",
    "values = coo.data\n",
    "indices = torch.LongTensor([coo.row, coo.col])\n",
    "shape = torch.Size(coo.shape)\n",
    "sparse_tensor = torch.sparse_coo_tensor(indices, values, shape)"
   ],
   "metadata": {
    "collapsed": false,
    "ExecuteTime": {
     "end_time": "2024-04-11T20:23:47.644983Z",
     "start_time": "2024-04-11T20:23:47.585133Z"
    }
   },
   "id": "9af01745247d25ca",
   "execution_count": 59
  },
  {
   "cell_type": "code",
   "outputs": [],
   "source": [
    "coo = data.tocoo()\n",
    "\n",
    "# Convert the row and column indices to a single NumPy array\n",
    "indices = np.vstack((coo.row, coo.col))\n",
    "\n",
    "# Convert the NumPy array to a PyTorch tensor\n",
    "indices = torch.LongTensor(indices)\n",
    "\n",
    "values = torch.FloatTensor(coo.data)\n",
    "shape = torch.Size(coo.shape)\n",
    "sparse_tensor = torch.sparse_coo_tensor(indices, values, shape)"
   ],
   "metadata": {
    "collapsed": false,
    "ExecuteTime": {
     "end_time": "2024-04-11T20:18:18.699578Z",
     "start_time": "2024-04-11T20:18:18.692957Z"
    }
   },
   "id": "a1534cfbccbd8f59",
   "execution_count": 53
  },
  {
   "cell_type": "code",
   "outputs": [
    {
     "data": {
      "text/plain": "tensor(indices=tensor([[    0,     0,     0,  ..., 30550, 30551, 30552],\n                       [    0, 17942, 22253,  ..., 30550, 30551, 30552]]),\n       values=tensor([0.1667, 0.1667, 0.1667,  ..., 1.0000, 1.0000, 1.0000]),\n       size=(30553, 30553), nnz=168419, layout=torch.sparse_coo)"
     },
     "execution_count": 54,
     "metadata": {},
     "output_type": "execute_result"
    }
   ],
   "source": [
    "sparse_tensor"
   ],
   "metadata": {
    "collapsed": false,
    "ExecuteTime": {
     "end_time": "2024-04-11T20:18:24.769309Z",
     "start_time": "2024-04-11T20:18:24.762607Z"
    }
   },
   "id": "8a6d3ad4376e188c",
   "execution_count": 54
  },
  {
   "cell_type": "code",
   "outputs": [
    {
     "data": {
      "text/plain": "torch.Size([30553, 30553])"
     },
     "execution_count": 55,
     "metadata": {},
     "output_type": "execute_result"
    }
   ],
   "source": [
    "sparse_tensor.shape"
   ],
   "metadata": {
    "collapsed": false,
    "ExecuteTime": {
     "end_time": "2024-04-11T20:18:35.907670Z",
     "start_time": "2024-04-11T20:18:35.901539Z"
    }
   },
   "id": "c2617630b178db2b",
   "execution_count": 55
  },
  {
   "cell_type": "code",
   "outputs": [],
   "source": [
    "# save the sparse tensor\n",
    "torch.save(sparse_tensor, '../data/netflix/adjacency_matrix.pt')"
   ],
   "metadata": {
    "collapsed": false,
    "ExecuteTime": {
     "end_time": "2024-04-11T20:19:12.773131Z",
     "start_time": "2024-04-11T20:19:12.762615Z"
    }
   },
   "id": "f9a3ac6f5bcf77b7",
   "execution_count": 56
  },
  {
   "cell_type": "code",
   "outputs": [
    {
     "data": {
      "text/plain": "<13187x17366 sparse matrix of type '<class 'numpy.float64'>'\n\twith 68933 stored elements in Compressed Sparse Row format>"
     },
     "execution_count": 60,
     "metadata": {},
     "output_type": "execute_result"
    }
   ],
   "source": [
    "import pandas as pd\n",
    "data = pd.read_pickle('../data/netflix/train_mat')\n",
    "data"
   ],
   "metadata": {
    "collapsed": false,
    "ExecuteTime": {
     "end_time": "2024-04-11T20:24:02.405556Z",
     "start_time": "2024-04-11T20:24:02.400522Z"
    }
   },
   "id": "2a894e20853c912d",
   "execution_count": 60
  },
  {
   "cell_type": "code",
   "outputs": [],
   "source": [
    "coo = data.tocoo()\n",
    "\n",
    "# Convert the row and column indices to a single NumPy array\n",
    "indices = np.vstack((coo.row, coo.col))\n",
    "\n",
    "# Convert the NumPy array to a PyTorch tensor\n",
    "indices = torch.LongTensor(indices)\n",
    "\n",
    "values = torch.FloatTensor(coo.data)\n",
    "shape = torch.Size(coo.shape)\n",
    "sparse_tensor = torch.sparse_coo_tensor(indices, values, shape)"
   ],
   "metadata": {
    "collapsed": false,
    "ExecuteTime": {
     "end_time": "2024-04-11T20:24:15.162157Z",
     "start_time": "2024-04-11T20:24:15.157336Z"
    }
   },
   "id": "62e8a91727b4230e",
   "execution_count": 61
  },
  {
   "cell_type": "code",
   "outputs": [
    {
     "data": {
      "text/plain": "torch.Size([13187, 17366])"
     },
     "execution_count": 62,
     "metadata": {},
     "output_type": "execute_result"
    }
   ],
   "source": [
    "sparse_tensor.shape"
   ],
   "metadata": {
    "collapsed": false,
    "ExecuteTime": {
     "end_time": "2024-04-11T20:24:20.655843Z",
     "start_time": "2024-04-11T20:24:20.651214Z"
    }
   },
   "id": "a0c2bb35bf637461",
   "execution_count": 62
  },
  {
   "cell_type": "code",
   "outputs": [],
   "source": [
    "# save the sparse tensor\n",
    "torch.save(sparse_tensor, '../data/netflix/train_matrix.pt')"
   ],
   "metadata": {
    "collapsed": false,
    "ExecuteTime": {
     "end_time": "2024-04-11T20:25:26.112344Z",
     "start_time": "2024-04-11T20:25:26.106836Z"
    }
   },
   "id": "92110c75e525534b",
   "execution_count": 63
  },
  {
   "cell_type": "code",
   "outputs": [],
   "source": [
    "self = {\n",
    "    'n_users': 13187,\n",
    "    'n_items': 17366\n",
    "\n",
    "}\n",
    "import torch\n",
    "def create_adjacency_matrix(self, train_df):\n",
    "    \"\"\"\n",
    "    Create the adjacency matrix from the user-item interactions\n",
    "    :param train_df:  training data frame containing the user-item interactions data frame\n",
    "    :return:  None\n",
    "    \"\"\"\n",
    "    # check if the user_item_matrix is already created\n",
    "    R = sp.dok_matrix((self[\"n_users\"], self[\"n_items\"]), dtype=np.float32)\n",
    "    R[train_df['user_id'], train_df['item_id']] = 1.0\n",
    "    adj_mat = sp.dok_matrix(\n",
    "        (self[\"n_users\"] + self[\"n_items\"], self[\"n_users\"] + self[\"n_items\"]), dtype=np.float32\n",
    "    )\n",
    "    adj_mat = adj_mat.tolil()\n",
    "    R = R.tolil()\n",
    "\n",
    "    adj_mat[: self[\"n_users\"], self[\"n_users\"]:] = R\n",
    "    adj_mat[self[\"n_users\"]:, : self[\"n_users\"]] = R.T\n",
    "    adj_mat = adj_mat.todok()\n",
    "\n",
    "    row_sum = np.array(adj_mat.sum(1))\n",
    "    d_inv = np.power(row_sum + 1e-9, -0.5).flatten()\n",
    "    d_inv[np.isinf(d_inv)] = 0.0\n",
    "    d_mat_inv = sp.diags(d_inv)\n",
    "    norm_adj_mat = d_mat_inv.dot(adj_mat)\n",
    "    norm_adj_mat = norm_adj_mat.dot(d_mat_inv)\n",
    "\n",
    "    # Below Code is to convert the dok_matrix to sparse tensor.\n",
    "    norm_adj_mat_coo = norm_adj_mat.tocoo().astype(np.float32)\n",
    "    values = norm_adj_mat_coo.data\n",
    "    indices = np.vstack((norm_adj_mat_coo.row, norm_adj_mat_coo.col))\n",
    "    i = torch.LongTensor(indices)\n",
    "    v = torch.FloatTensor(values)\n",
    "    shape = norm_adj_mat_coo.shape\n",
    "\n",
    "    norm_adj_mat_sparse_tensor = torch.sparse_coo_tensor(i, v, torch.Size(shape))\n",
    "\n",
    "    return norm_adj_mat_sparse_tensor"
   ],
   "metadata": {
    "collapsed": false,
    "ExecuteTime": {
     "end_time": "2024-04-16T23:17:14.232054Z",
     "start_time": "2024-04-16T23:17:12.408068Z"
    }
   },
   "id": "721f56567dd2e18d",
   "execution_count": 8
  },
  {
   "cell_type": "code",
   "outputs": [
    {
     "data": {
      "text/plain": "{'0': [4755, 9066, 9765, 10734, 13503],\n '1': [2975, 5122, 8287, 10428],\n '2': [384, 993, 4962, 5759, 8639],\n '3': [17, 6646, 9253, 13560],\n '4': [2781, 4709, 8683, 12568, 14118],\n '5': [3052, 3964, 4154, 5958, 6416, 9585],\n '6': [1888, 5510, 6060, 7457, 10674, 11209, 14092],\n '7': [1203, 1491, 2817, 6335, 6837, 8999],\n '8': [5971, 14111, 14534, 14828, 15057, 15073, 15631],\n '9': [199, 2090, 2834, 3903, 8711],\n '10': [1181, 1347, 5424, 9861, 11376, 14588],\n '11': [3027, 3584, 3993, 5719, 7725, 12019],\n '12': [880, 2266, 3993, 5243, 5978, 13226],\n '13': [338, 1245, 5779, 6137, 9148],\n '14': [11763, 12342, 15901, 16262],\n '15': [4154, 7861, 9737, 14372, 15926, 16553],\n '16': [5403, 7565, 9524, 12782, 15765],\n '17': [1796, 3651, 3903, 12414, 14180],\n '18': [684, 3560, 8063, 10651],\n '19': [2587, 3759, 7738, 10974, 12161],\n '20': [2040, 7843, 12662, 12945, 13543],\n '21': [5644, 5703, 8501, 10466, 14767, 15219],\n '22': [2587, 2975, 3519, 3759],\n '23': [1868, 2377, 3629, 3942, 4511, 6178, 12494],\n '24': [3413, 3464, 4304, 5254, 5513, 5644, 6864],\n '25': [1347, 11905, 12657, 14643],\n '26': [1445, 1494, 2473, 3759, 8466],\n '27': [2232, 7723, 8999, 10136],\n '28': [764, 1804, 5318, 14767],\n '29': [1420, 9102, 13540],\n '30': [5718, 7843, 7921, 9467],\n '31': [59, 3269, 4163, 6193, 7978, 13540],\n '32': [1516, 5122, 12321, 12958],\n '33': [3190, 3867, 7281, 9440],\n '34': [30, 454, 1203, 7134, 9557, 11405, 14627],\n '35': [684, 3506, 11513, 13540],\n '36': [6335, 10486, 11946, 12498, 13300],\n '37': [5054, 5979, 12697],\n '38': [2920, 10743, 11319, 13560],\n '39': [972, 1585, 3560, 8458, 8716],\n '40': [319, 764, 7843, 16200, 16840],\n '41': [969, 3406, 10619, 16119],\n '42': [453, 4757, 9417, 11462],\n '43': [454, 2215, 3716, 7158, 7820],\n '44': [1910, 3052, 5261, 10125, 12568],\n '45': [3258, 3519, 8184, 13226],\n '46': [7038, 10551, 12473, 15175],\n '47': [764, 1898, 2422, 4458, 7067],\n '48': [5351, 10925, 11046, 11238],\n '49': [1513, 9927, 10300, 10303, 10624],\n '50': [533, 2377, 4757, 8999, 16419],\n '51': [184, 4460, 7240, 10366, 10925],\n '52': [614, 2266, 3581, 7978, 10195],\n '53': [764, 1796, 8999, 9052, 9765, 14670],\n '54': [1796, 2587, 5318, 10428, 10974],\n '55': [2587, 4343, 6241, 6248],\n '56': [161, 454, 2040, 9866, 13226, 13873],\n '57': [5587, 6275, 10768, 11578, 12281, 15183],\n '58': [2266, 2701, 3257, 3506],\n '59': [2930, 8063, 8110, 11750, 11971, 12595, 16655],\n '60': [1958, 3188, 3560, 6736, 9892, 12988],\n '61': [3081, 4551, 5318, 7436, 13206, 15219],\n '62': [1494, 2587, 3519, 3974, 5670, 6241, 8450],\n '63': [4488, 11842, 12005, 12747, 13752],\n '64': [1977, 3446, 9086, 11721, 17144],\n '65': [454, 1843, 7792, 10321, 13818, 14304],\n '66': [5386, 6569, 6698, 6980],\n '67': [1509, 8724, 12090, 12414, 13538, 15074],\n '68': [2823, 2834, 3670, 6520, 7336],\n '69': [3506, 6178, 12747, 16255],\n '70': [2587, 4001, 4202, 6740, 10136, 12054],\n '71': [20, 9759, 13991, 14180],\n '72': [4237, 4554, 10986, 12747, 14693, 15175],\n '73': [5876, 7067, 8501, 11433, 14023, 14337],\n '74': [2652, 4088, 4828, 9210],\n '75': [654, 1715, 8033, 9704, 11319],\n '76': [2232, 4075, 5713, 5739, 8595, 10909],\n '77': [1677, 4369, 6736, 10156, 12119, 16306, 16840],\n '78': [1494, 2587, 14023],\n '79': [972, 7946, 9467, 13750, 15487, 15637],\n '80': [7684, 7854, 8312, 11113],\n '81': [1677, 3238, 8683, 10195, 14465, 15012, 15175],\n '82': [2266, 9102, 10822, 13614, 15046],\n '83': [465, 11433, 12522, 14208, 16643],\n '84': [3874, 4659, 5759, 10931, 12568, 14023, 14109],\n '85': [2823, 4040, 4962, 9343, 13120],\n '86': [1818, 5510, 8063, 12649],\n '87': [464, 5263, 7012, 7529, 8579, 16636],\n '88': [1796, 4163, 5502, 7260, 10195, 16214],\n '89': [472, 5318, 7911, 9866, 13560],\n '90': [4887, 5567, 5794, 5797, 11815],\n '91': [1107, 7049, 10546, 13120, 14903],\n '92': [2587, 3665, 3958, 10974, 11513, 12161],\n '93': [1823, 2266, 4163, 10136, 10743],\n '94': [2587, 6321, 8751, 8999],\n '95': [89, 2043, 3045, 5227, 9749],\n '96': [543, 654, 1445, 3105, 5661],\n '97': [654, 2266, 8999, 10743, 11513, 12034],\n '98': [2072, 2310, 8501, 13709],\n '99': [3087, 5713, 6488, 10974, 13226],\n '100': [5614, 10931, 10987, 13105, 15052],\n '101': [3565, 9024, 9108, 12568],\n '102': [2266, 2473, 4668, 7738, 8450],\n '103': [880, 3958, 9052, 11346],\n '104': [2865, 6938, 7820, 9655, 10195],\n '105': [2710, 8328, 10405, 14118, 14513],\n '106': [2983, 3052, 5370, 9765, 11905, 12473],\n '107': [29, 7721, 9765, 11856],\n '108': [6449, 8104, 11032, 12245, 14803],\n '109': [953, 8683, 9413, 9866, 15315],\n '110': [4163, 5879, 6402, 9866],\n '111': [5958, 6846, 12025, 14092, 16306, 16952],\n '112': [1445, 2232, 5670, 8999, 12161],\n '113': [1796, 2266, 4661, 9584, 15705, 15926],\n '114': [654, 867, 2189, 9584],\n '115': [562, 8823, 10007, 11433],\n '116': [205, 1677, 4577, 6162, 11905, 14118],\n '117': [1570, 11065, 13037, 15046],\n '118': [1677, 6890, 9052, 12595],\n '119': [1347, 2215, 11750, 15637, 17082],\n '120': [620, 3665, 10909, 12054, 12803],\n '121': [2677, 3123, 3993, 4369],\n '122': [880, 2040, 3294, 5434, 5718, 6736],\n '123': [7843, 10332, 11235],\n '124': [1898, 3657, 4163, 5122, 5670, 6174],\n '125': [831, 880, 3088, 3506, 3728, 15487, 16570],\n '126': [235, 3338, 3879, 7978, 10369, 13469],\n '127': [764, 5794, 7820, 8722],\n '128': [896, 1323, 9068, 10655, 10905],\n '129': [880, 3903, 4163, 8287, 9063, 9467, 10822],\n '130': [701, 2266, 2823, 5370, 10389, 10822, 11513],\n '131': [384, 654, 8287, 8595, 10974, 14548],\n '132': [2162, 2587, 3519, 3600, 4695, 5670, 6050, 7067],\n '133': [2848, 3836, 5430, 10136],\n '134': [654, 2227, 7704, 10822, 11151, 16013],\n '135': [5571, 11379, 12555, 13511, 15238],\n '136': [808, 11480, 14219, 14504],\n '137': [654, 880, 2266, 7604, 12034],\n '138': [684, 2268, 7861, 9516, 16829],\n '139': [319, 880, 969, 3560, 6890, 8823, 16233],\n '140': [3903, 5791, 7610, 9063, 9210],\n '141': [2975, 3514, 5661, 5713, 6431],\n '142': [4163, 7048, 8110, 9109],\n '143': [11046, 12300, 14297, 15073],\n '144': [1783, 4511, 9971, 14134],\n '145': [1677, 5081, 6335, 6646],\n '146': [8245, 11133, 12744, 14023],\n '147': [1765, 10377, 10428],\n '148': [654, 5791, 10224, 13001, 13028],\n '149': [40, 5033, 9210, 13829, 15168],\n '150': [1214, 2215, 10743, 16233, 16988],\n '151': [1796, 5718, 10210, 14180, 14483],\n '152': [1038, 1181, 3152, 10822, 14796],\n '153': [2983, 3553, 6974, 9052, 12494, 15599],\n '154': [1677, 2189, 2930, 6938, 10156, 14513],\n '155': [24, 9765, 12595, 15175],\n '156': [1677, 3858, 4868, 6278, 8808, 11346],\n '157': [6219, 8010, 12945, 13142],\n '158': [3503, 4380, 10109, 10195],\n '159': [1660, 6335, 10911, 13745],\n '160': [2930, 3257, 4962, 6158, 11763],\n '161': [3086, 3217, 3332, 4757, 6111],\n '162': [59, 4556, 7018, 7158, 7820, 9950],\n '163': [2587, 3665, 4272, 6646, 8063, 10156],\n '164': [3190, 5670, 8184, 9063, 11065],\n '165': [2930, 3238, 6736, 8683, 11905, 13782, 15189, 15715],\n '166': [1364, 2893, 3412, 4228, 9413],\n '167': [59, 6646, 9210, 11707, 12243, 13614, 15515],\n '168': [59, 5494, 5616, 8601, 8781, 13543, 13719],\n '169': [364, 1911, 4022, 9063, 9610, 12473, 15448],\n '170': [9614, 10125, 10195, 14180],\n '171': [1181, 2410, 2608, 3519, 6881, 9981],\n '172': [880, 3861, 9253, 14483],\n '173': [684, 2823, 9417, 9863, 10689, 13511],\n '174': [2823, 13037, 14747, 14979],\n '175': [1677, 1879, 3238, 4928, 5779, 6938, 10156],\n '176': [4304, 6890, 7843, 12498],\n '177': [1011, 4088, 6979, 11151, 11963, 12354],\n '178': [1530, 3494, 6847, 7721, 8466, 10210, 12019, 12142],\n '179': [2608, 3665, 5661, 8450, 8999, 9109],\n '180': [3759, 7063, 10705],\n '181': [6580, 7781, 10479, 15621],\n '182': [1494, 3679, 6241, 7985],\n '183': [2266, 2268, 4962, 5670, 5944, 12467],\n '184': [1677, 5718, 6736, 8683, 14282, 16306],\n '185': [880, 3027, 3052, 6335, 7187, 8063],\n '186': [2673, 3257, 7561, 8063, 8639, 14544],\n '187': [3093, 3512, 5378, 7154, 10355, 12573],\n '188': [1203, 1351, 1898, 2072, 5802, 7243],\n '189': [4750, 5461, 8054, 8941, 14393],\n '190': [2587, 3519, 3759, 12165],\n '191': [2975, 3519, 3665, 4895, 6257, 10974],\n '192': [654, 3045, 3560, 8562],\n '193': [2072, 2587, 11433, 12747, 13226],\n '194': [4551, 8287, 12019, 14723, 14796],\n '195': [2863, 3033, 4998, 12270],\n '196': [1494, 2969, 3924, 6508, 7306, 9430, 11355],\n '197': [993, 5227, 10428, 10865, 16331],\n '198': [2253, 5315, 7990, 11007],\n '199': [1422, 2797, 3290, 4713, 5587, 10725, 14720],\n '200': [2941, 7665, 12278],\n '201': [9514, 10849, 10878, 11685, 12731],\n '202': [1364, 2928, 4558, 10156, 10210, 10822, 11707],\n '203': [4163, 8063, 9063, 10959, 12595, 13404, 14134, 14229],\n '204': [867, 5510, 5802, 9109, 10428],\n '205': [4069, 5743, 12112, 13080, 13921, 15004],\n '206': [1559, 2587, 3665, 4786, 6488, 12034, 12142],\n '207': [5317, 5973, 6678, 6938],\n '208': [4808, 7436, 10168, 10928, 11920, 12512, 12827],\n '209': [4750, 9301, 10689, 13001],\n '210': [42, 2420, 3563, 9439, 10052, 11670, 14054],\n '211': [247, 6198, 7012, 8646, 12273, 15894],\n '212': [2095, 2834, 14513, 14631],\n '213': [1494, 2991, 3665, 6241],\n '214': [3665, 4088, 5661, 8287, 15741],\n '215': [2377, 4558, 6170, 8328, 8808, 10822, 15926],\n '216': [2587, 3157, 5122, 6488],\n '217': [1503, 3371, 3665, 6050, 11237],\n '218': [472, 3416, 9523, 14767, 14895],\n '219': [3493, 5614, 7889, 8342],\n '220': [8063, 9765, 12119, 12945, 13543],\n '221': [2412, 6890, 7051, 8870, 12568],\n '222': [5439, 6208, 7839, 10321, 11513],\n '223': [543, 2991, 4668, 5570, 8184, 8724],\n '224': [364, 2983, 3506, 7803, 9417, 11462],\n '225': [490, 1149, 2975, 3665, 5232],\n '226': [4340, 6363, 9045, 12555, 12568, 12924],\n '227': [764, 8287, 8900, 11513],\n '228': [453, 2090, 6736, 8651, 9379, 12747],\n '229': [9264, 10855, 11529, 11673, 14166],\n '230': [4589, 7843, 9516, 11905, 12568],\n '231': [4578, 12142, 12200, 14801],\n '232': [1445, 3665, 3759, 4668, 6241, 8466],\n '233': [1559, 2587, 7839, 9765, 9967, 10974, 12142],\n '234': [364, 654, 1381, 5075, 10633],\n '235': [1677, 4601, 6810, 7012, 9765, 10497, 13511],\n '236': [654, 3736, 8798, 9584, 14304],\n '237': [2374, 6967, 12570, 13893, 14824, 14926],\n '238': [3052, 9614, 10428, 13300, 15175, 15270],\n '239': [533, 5959, 7820, 7843, 10033],\n '240': [2215, 3309, 4491, 8195, 13991, 14483],\n '241': [2200, 4992, 5461, 7067, 12731],\n '242': [1049, 3114, 3849, 4928, 15175, 15658],\n '243': [684, 2227, 3371, 3651],\n '244': [4079, 9313, 10743, 13005],\n '245': [7573, 9758, 10280, 10479, 12657, 12811],\n '246': [2823, 3103, 5791, 6890, 9765, 15350],\n '247': [2587, 3665, 5739, 8595, 14408],\n '248': [3246, 5741, 5759, 10919, 12494],\n '249': [24, 1445, 3519, 5670, 10974],\n '250': [969, 2510, 7843, 8823, 9765],\n '251': [764, 2521, 6449, 8818],\n '252': [17, 739, 2895, 7768, 8442, 12645, 15379],\n '253': [319, 3665, 8181, 10428],\n '254': [1203, 1796, 2410, 4054, 5734, 12034],\n '255': [3052, 9350, 9866, 11905],\n '256': [201, 262, 4659, 5713, 7134, 14627],\n '257': [1796, 3665, 4501, 6241],\n '258': [821, 1543, 7363, 8344, 12803],\n '259': [2659, 6849, 6890, 9424, 9765],\n '260': [880, 7974, 8255, 9992, 11046, 15848, 15944],\n '261': [4142, 5359, 8181, 9063, 10492, 11046],\n '262': [5081, 6416, 8722, 9087, 9430, 11846, 14377],\n '263': [2557, 5370, 11905, 14483, 15510],\n '264': [654, 808, 1559, 3874, 5583, 7723, 9230],\n '265': [2848, 4340, 7610, 9584, 12706],\n '266': [447, 6686, 9543, 11881, 15750],\n '267': [227, 5718, 10156, 13511, 14118, 15175, 16000],\n '268': [151, 1112, 3367, 3511, 4304, 11065, 14011],\n '269': [9109, 12030, 12491, 14979],\n '270': [2823, 3257, 6195, 7652, 9205, 12945],\n '271': [2620, 4022, 7436, 12495],\n '272': [2854, 3257, 4084, 11044, 15346],\n '273': [772, 821, 1181, 3584, 5583, 6054, 13614],\n '274': [2473, 5791, 6914, 9950, 11151],\n '275': [684, 3651, 12602],\n '276': [199, 1903, 1975, 2920],\n '277': [2587, 2975, 3759, 5670, 10428],\n '278': [1559, 8999, 12652, 15009],\n '279': [59, 454, 3038, 5510, 10919],\n '280': [1570, 1684, 2786, 5533, 10745, 12414],\n '281': [880, 2823, 5297, 9063],\n '282': [3105, 3309, 7082, 13946],\n '283': [2473, 3258, 4668, 6241, 8184],\n '284': [4928, 5526, 6736, 8981, 11701, 15336],\n '285': [1823, 5064, 11905, 12945, 14118],\n '286': [1016, 9379, 10759, 15131],\n '287': [684, 1494, 13226, 14045, 15765, 15890],\n '288': [1494, 2991, 6241, 10195],\n '289': [1280, 4798, 8505, 9253, 10278, 10862],\n '290': [2884, 4202, 6540, 7723, 10125],\n '291': [2733, 8751, 9514, 11649, 14023],\n '292': [6740, 7839, 9967, 12945],\n '293': [994, 3371, 8063, 8999],\n '294': [684, 6110, 6258, 7536],\n '295': [4133, 5085, 7568, 8986, 11097, 14219],\n '296': [2705, 3846, 5643, 8723, 11536, 15072],\n '297': [465, 654, 1898, 6335, 7729],\n '298': [465, 2266, 12034, 13226],\n '299': [986, 4154, 6736, 8029, 10939, 14895, 15617],\n '300': [2266, 3867, 7978, 9430, 10743, 11355],\n '301': [916, 7189, 8475, 10688, 11732],\n '302': [543, 4887, 4992, 5122, 6558],\n '303': [2729, 3903, 7886, 14670, 16360],\n '304': [11287, 12893, 15496],\n '305': [1445, 1984, 5122, 6193, 7049, 7937],\n '306': [465, 5583, 5713, 7573, 10925],\n '307': [202, 1181, 1883, 10278],\n '308': [259, 1338, 1364, 3226, 5434, 9195, 14201],\n '309': [1530, 2696, 11319, 14493, 15222],\n '310': [3736, 6309, 7363, 10825, 12568, 15251],\n '311': [858, 2268, 2983, 3506, 8798, 14118, 14631],\n '312': [456, 661, 2850, 4072, 8169, 9080],\n '313': [4340, 4870, 6365, 7978],\n '314': [1677, 2425, 4757, 6641, 10321],\n '315': [5883, 9573, 10579, 14332],\n '316': [7049, 10186, 10736, 12555],\n '317': [1475, 10189, 10822, 13560, 14332, 15248],\n '318': [654, 684, 2227, 4659, 5879, 6979],\n '319': [364, 684, 9102, 14337],\n '320': [235, 11883, 12011, 12443, 14556],\n '321': [445, 1381, 4490, 5782, 12031, 15173],\n '322': [1494, 2587, 3258, 5670, 6241, 13226],\n '323': [654, 4659, 6335, 7049, 8287],\n '324': [1796, 4805, 5879, 9063, 15296, 16155],\n '325': [2823, 3406, 4534, 10136, 10210],\n '326': [2422, 3657, 7067, 10974, 11513],\n '327': [1520, 6396, 11569, 13098, 16187],\n '328': [3678, 4301, 7843, 10447, 12945],\n '329': [2289, 6714, 7281, 8479, 15036],\n '330': [2799, 8063, 8644, 9388, 11046],\n '331': [3406, 14337, 14504, 14588, 15510],\n '332': [4414, 5583, 5703, 9108, 9737],\n '333': [1445, 1559, 4668, 4750, 8450],\n '334': [1520, 2371, 4501, 12019, 13490],\n '335': [24, 1559, 2975, 4460, 5318, 11433],\n '336': [4624, 5718, 7373, 9052],\n '337': [948, 5958, 10106, 12846, 16796],\n '338': [1428, 1779, 4798, 5020, 5567, 10404],\n '339': [6919, 10195, 10576, 11065],\n '340': [831, 3867, 4113, 13460],\n '341': [4695, 7459, 7473, 9230, 10136],\n '342': [880, 9063, 10199, 10321],\n '343': [2215, 3505, 4659, 7286, 8249, 9102],\n '344': [7843, 8683, 9943, 11905, 14332, 15175, 15226],\n '345': [2422, 5466, 6529, 9063, 9988, 13393],\n '346': [3258, 3519, 6468, 7063],\n '347': [8742, 10953, 12555],\n '348': [1203, 2410, 3328, 4340, 9301, 10224, 10790],\n '349': [1559, 5713, 6488, 8999, 11433],\n '350': [9576, 9951, 10116, 12631, 13299, 13452, 14517],\n '351': [7441, 8823, 9735, 10195, 14134],\n '352': [3169, 11080, 12568, 12747],\n '353': [2169, 2825, 4750, 6381, 6388, 7064, 7809, 15183],\n '354': [654, 880, 905, 4163, 9111],\n '355': [2587, 3258, 6241, 10979],\n '356': [1530, 7064, 7664, 16128],\n '357': [2605, 2703, 9971, 11462, 13105],\n '358': [6873, 7738, 10572, 14909],\n '359': [3665, 4668, 12034, 13614],\n '360': [1772, 10710, 12568],\n '361': [2279, 3190, 5718, 8645, 9253, 9955, 14483],\n '362': [453, 1850, 4272, 4304, 15248],\n '363': [2729, 3045, 10822, 14930],\n '364': [3404, 4658, 5192, 8184, 9765, 16244],\n '365': [1445, 2609, 3258, 5757, 8917, 9379, 9981],\n '366': [1445, 1494, 2473, 2991, 4717],\n '367': [1580, 3105, 3258, 13930],\n '368': [4113, 4317, 6370, 9431, 11318, 14023],\n '369': [1677, 8683, 8873, 9765, 13139],\n '370': [1823, 2930, 10130, 10195, 13540, 14134, 14513, 15765],\n '371': [4163, 9253, 9765, 10130],\n '372': [465, 4001, 8054, 10136],\n '373': [2421, 5222, 6195, 7652, 8320, 14983],\n '374': [6335, 8812, 10278, 14547, 16175, 16370],\n '375': [1677, 3257, 4484, 12766, 13652],\n '376': [40, 994, 2816, 3665, 4659, 6740],\n '377': [5032, 5795, 9927, 10099, 10210, 15592],\n '378': [1228, 3768, 5333, 10423],\n '379': [673, 4460, 7436, 9068, 13633],\n '380': [1494, 4188, 5802, 7470, 10790],\n '381': [235, 764, 858, 16161],\n '382': [4659, 5802, 7241, 8290, 10836],\n '383': [2587, 3665, 3881, 8166, 9765],\n '384': [610, 1677, 6646, 7049, 8823, 11905],\n '385': [1671, 2382, 7006, 8228],\n '386': [654, 4072, 4325, 5040, 8169],\n '387': [235, 1072, 2422, 2696, 3347, 4589, 5944],\n '388': [2495, 4309, 7266, 12690, 14716],\n '389': [3621, 5510, 7272, 7362, 10499, 11854, 12407, 15395],\n '390': [4992, 6740, 12007, 14570],\n '391': [423, 2377, 3992, 5243, 8893],\n '392': [5958, 10428, 12119, 12945, 14118, 15236],\n '393': [1530, 3238, 5717, 10195],\n '394': [155, 2310, 6221, 10321],\n '395': [8184, 9981, 10136, 11433, 12034, 14297],\n '396': [342, 6416, 6484, 6803, 8694, 10953, 12021],\n '397': [2825, 3287, 7756, 9319],\n '398': [465, 1677, 2189, 7049, 10195, 10437],\n '399': [1144, 1753, 3022, 4460, 14118],\n '400': [7843, 9467, 10195, 11905],\n '401': [3257, 6646, 8166, 8181, 8287, 9253],\n '402': [465, 764, 1898, 1991, 11133],\n '403': [3052, 5973, 6237, 7453, 9758],\n '404': [2232, 5262, 6402, 8683],\n '405': [490, 524, 1617, 4681, 12657],\n '406': [9052, 9253, 9375, 9765, 12945, 14180],\n '407': [1292, 4079, 6219, 6388, 7482, 8063],\n '408': [2235, 2614, 5852, 8111, 9212],\n '409': [3492, 5821, 7436, 7867],\n '410': [1765, 5075, 5611, 9109, 13848],\n '411': [996, 2983, 3665, 10321],\n '412': [2215, 5081, 9210, 9866, 11707],\n '413': [1075, 2823, 5026, 9052, 10195],\n '414': [1772, 2090, 4262, 7738, 12568],\n '415': [1677, 2722, 5141, 5228, 11194, 11905],\n '416': [364, 5315, 9125, 10278, 10822, 11462, 13452],\n '417': [2623, 12119, 13001, 14393],\n '418': [1617, 4977, 8751, 9836, 12657, 14854],\n '419': [2980, 7631, 9765, 13142],\n '420': [203, 877, 2482, 3665, 6102, 11071, 14443],\n '421': [2473, 2749, 6824, 8546],\n '422': [1324, 7610, 8798, 10224, 14297],\n '423': [8059, 10055, 11875, 11883, 12321],\n '424': [328, 2333, 10033, 13007, 13105, 14937],\n '425': [47, 3347, 4928, 16658, 16840],\n '426': [1129, 2090, 3257, 3258, 7158, 13136],\n '427': [184, 654, 1559, 5122, 5791, 8999],\n '428': [3716, 6193, 6687, 10136, 10531, 14122],\n '429': [1445, 2410, 5713, 10210, 12034],\n '430': [2377, 5554, 5567, 8126, 9026, 10822, 12569],\n '431': [858, 2973, 3119, 4790, 6866, 10743],\n '432': [1494, 2587, 2597, 4501, 5670, 8724, 11054],\n '433': [1494, 1559, 5876, 10136],\n '434': [319, 2587, 3665, 8147],\n '435': [662, 2513, 4219, 7158],\n '436': [2867, 3638, 8342, 9542, 10680, 11448],\n '437': [6174, 6890, 7311, 8798, 8871, 9253, 11553],\n '438': [1445, 2975, 3665, 5510, 14023, 14337],\n '439': [2834, 3190, 5791, 8249, 9765, 10822],\n '440': [1428, 1677, 2253, 5701],\n '441': [1445, 2040, 8184, 8751, 8999],\n '442': [5243, 5258, 7565, 8132, 15248],\n '443': [1850, 11673, 14519, 15202],\n '444': [2823, 3581, 4105, 10300, 13445],\n '445': [1352, 4384, 12887, 15530],\n '446': [2040, 2840, 3656, 7067, 9971, 10925, 14180],\n '447': [24, 654, 1823, 7158, 8944, 9674],\n '448': [3879, 4054, 5791, 6881, 9737, 10487, 13126],\n '449': [1338, 5960, 6241, 8751],\n '450': [860, 3169, 5718, 7049, 8063, 10799, 12568, 12688],\n '451': [764, 880, 3190, 10428, 11318],\n '452': [3519, 3534, 8639, 9230],\n '453': [764, 1898, 9253, 10136],\n '454': [1075, 1677, 7631, 9216, 12568, 13800, 14092, 15604],\n '455': [5779, 9737, 14059, 14118, 15715],\n '456': [1330, 4615, 6162, 8651, 10743, 13120],\n '457': [2991, 5510, 9024, 10743, 10822, 11843, 12744],\n '458': [654, 8287, 8798],\n '459': [1494, 3258, 4501, 4668],\n '460': [1677, 2781, 7151, 8683, 9765, 12034],\n '461': [319, 3993, 10156, 10744, 12822, 14011],\n '462': [164, 5718, 5779, 6411, 7646, 12107, 12256],\n '463': [2733, 3190, 14461, 14638, 14824],\n '464': [3101, 8063, 9209, 12747, 13848],\n '465': [3052, 9417, 10052, 11359, 11468, 11905],\n '466': [2168, 2266, 6187, 7049, 13226],\n '467': [6730, 7036, 13142, 15087],\n '468': [3665, 4369, 8999, 11627],\n '469': [636, 1203, 4558, 10224, 10405],\n '470': [2623, 10033, 10607, 11699, 12573, 13404, 15086],\n '471': [3993, 4808, 12142],\n '472': [1075, 3585, 5451, 7723, 8870, 12945],\n '473': [2823, 4551, 4803, 5136, 10551, 12473, 12657],\n '474': [608, 2252, 8751, 11371, 14205, 14873],\n '475': [473, 4040, 4805, 13880],\n '476': [10909, 13820, 13962, 15111],\n '477': [364, 7540, 13543, 14532, 16233],\n '478': [5510, 9052, 14663],\n '479': [3257, 6449, 6736, 9467],\n '480': [972, 11065, 13542, 14693, 15661, 15765],\n '481': [2090, 2410, 2991, 3220, 5739, 5960],\n '482': [2268, 7843, 9052, 10689, 12534, 12905],\n '483': [654, 5143, 10195, 10822],\n '484': [24, 2232, 2587, 2733, 8184, 9584, 9981],\n '485': [3125, 5795, 6195, 12573],\n '486': [1049, 2587, 3238, 5318, 6938, 7937, 8287],\n '487': [684, 880, 4659, 8798, 10743],\n '488': [2230, 5299, 9580, 10822],\n '489': [2979, 3188, 9749, 12689, 15956],\n '490': [654, 8287, 10136, 10278],\n '491': [1503, 2410, 9967, 11513],\n '492': [5703, 6278, 9052, 12470],\n '493': [1578, 1734, 8798, 10278, 11482, 14627],\n '494': [24, 1445, 1494, 5734, 8466],\n '495': [3534, 5758, 6042, 8283, 13788, 15778],\n '496': [1420, 3986, 9230, 11054, 12494],\n '497': [1892, 4084, 5948, 8645, 9378],\n '498': [2983, 7007, 15175, 15270, 16306],\n '499': [2587, 3258, 6241, 10974, 12161],\n '500': [3867, 5973, 5975, 8291, 9024],\n '501': [465, 7067, 10385, 11513, 13452, 14109],\n '502': [1975, 3232, 3759, 6568, 6883, 9198, 10428],\n '503': [2820, 5973, 9485, 11345, 12945],\n '504': [5567, 8063, 8947, 10928, 11035, 12558, 13953],\n '505': [1573, 3560, 7980, 10398, 11681],\n '506': [2678, 4910, 5126, 7937, 9608],\n '507': [1005, 2410, 3502, 10136, 10374, 16035],\n '508': [7843, 8599, 11449, 11905, 15993],\n '509': [1804, 4805, 5958, 7067, 12568, 14547],\n '510': [1796, 2268, 3052, 8063, 10195, 11905, 12945],\n '511': [1133, 3418, 8504, 12843],\n '512': [3200, 3917, 4887, 10531],\n '513': [1391, 5526, 7843, 9253, 10156, 12945, 15175],\n '514': [4659, 8063, 8192, 15765],\n '515': [3027, 4202, 6740, 8595, 8999, 12034, 12054],\n '516': [4378, 7557, 8740, 10590, 11465, 13113, 14362],\n '517': [5143, 5741, 6890, 10919, 14118],\n '518': [454, 1753, 7158, 10136, 10741],\n '519': [1928, 5243, 7854, 11397, 12522],\n '520': [1898, 3139, 5944, 7861],\n '521': [2178, 3190, 3309, 7067, 11402, 14023, 15150],\n '522': [59, 3257, 5243, 10822],\n '523': [2656, 3233, 5318, 8999, 11764],\n '524': [684, 7861, 9052, 10661, 12945, 13540],\n '525': [2266, 5713, 5759, 8999, 12034],\n '526': [764, 4344, 5232, 9516, 10136, 10743],\n '527': [2882, 6529, 10479, 10599, 13226],\n '528': [2235, 5713, 6525, 9765, 13841],\n '529': [3581, 4458, 5317, 6050, 7781, 9584, 10136],\n '530': [10125, 10156, 13142, 14118],\n '531': [176, 534, 6754, 9045, 10635, 13296],\n '532': [684, 2410, 5661, 6050, 6257],\n '533': [3550, 5791, 7074, 12555],\n '534': [214, 7998, 8126, 12568, 12747],\n '535': [4659, 5077, 14504, 16840],\n '536': [1395, 2974, 5494, 5567, 8723],\n '537': [1428, 4369, 6869, 8116, 8683, 8756, 11468, 12470],\n '538': [2930, 3309, 3736, 10822, 15969],\n '539': [654, 5064, 6321, 7067, 8184],\n '540': [3665, 4182, 5661, 7986, 8245, 11905, 12034],\n '541': [4079, 4659, 10965, 14483],\n '542': [2200, 2659, 5997, 9556, 13394],\n '543': [10189, 10531, 10623, 11011],\n '544': [1751, 3052, 6736, 8063, 14180, 16840],\n '545': [3287, 9109, 9933, 10756, 10822, 11815],\n '546': [1559, 3157, 6881, 8999, 9379, 10745],\n '547': [2090, 4887, 7369, 9584, 9937],\n '548': [269, 1107, 2058, 5481, 5879],\n '549': [826, 1553, 10086, 10343, 11529],\n '550': [4163, 5802, 6646, 9765, 10195, 11905],\n '551': [30, 1723, 3903, 8018, 10151, 11064],\n '552': [3232, 3434, 7771, 7843, 9063],\n '553': [705, 4194, 7652, 9354, 10759],\n '554': [878, 1677, 12747, 14118, 16347],\n '555': [1578, 5718, 9379, 9951],\n '556': [24, 1494, 6241, 9052, 10822],\n '557': [2422, 6736, 7631, 12119, 12747, 13001, 16306],\n '558': [722, 2178, 5228, 5757, 7488, 12747],\n '559': [1677, 8021, 9556, 14002, 14062],\n '560': [4202, 4958, 7723, 8595, 9794, 12273],\n '561': [1047, 3068, 6411, 8117, 10068, 11355, 14278],\n '562': [1538, 1677, 3350, 6938, 10125, 12747, 13653, 15175],\n '563': [729, 4769, 5962, 8645],\n '564': [5081, 6209, 7134, 14478, 14796, 15710],\n '565': [1628, 2597, 3665, 4668],\n '566': [7473, 7479, 13226, 14967, 15219],\n '567': [1675, 2696, 4001, 5958, 13539],\n '568': [2587, 3759, 6488, 11405],\n '569': [4808, 6659, 8999, 9967, 12993],\n '570': [205, 764, 6429, 15848],\n '571': [684, 5064, 8999, 10911],\n '572': [465, 511, 7781, 13105, 15236],\n '573': [2189, 3141, 5779, 9063, 13073],\n '574': [1494, 2614, 3903, 5670, 11422],\n '575': [1796, 4154, 5734, 7012, 7610],\n '576': [176, 1677, 4668, 8688, 8873],\n '577': [133, 551, 3038, 5663],\n '578': [3548, 4113, 8546, 10710],\n '579': [1364, 3665, 3759, 6076, 7866],\n '580': [329, 5079, 7820, 8756],\n '581': [2608, 8823, 9212, 10428, 11905, 13070, 14134],\n '582': [5718, 9429, 10007, 10082, 12568, 14513],\n '583': [3665, 8751, 8999, 10974, 12034],\n '584': [5122, 9429, 9673, 12657],\n '585': [1898, 2587, 3519, 5713, 6241, 10974, 12161],\n '586': [3511, 4499, 5720, 8202, 9109],\n '587': [764, 6157, 7479, 9855, 12881, 14716],\n '588': [1796, 2072, 7978, 11521, 12522, 12616, 12893],\n '589': [2930, 3665, 4272, 8670, 8999],\n '590': [3245, 7489, 8645, 9962, 12832, 13142],\n '591': [3903, 5661, 6736, 7067, 8751],\n '592': [2983, 3736, 9427, 10230, 10974],\n '593': [5571, 5888, 6736, 8514, 14133],\n '594': [94, 1420, 2587, 5670, 12161],\n '595': [6736, 10195, 10551, 11433, 11468, 13142, 15175],\n '596': [880, 3309, 9159, 11971, 14513, 15236],\n '597': [1058, 2153, 7221, 13367, 15940],\n '598': [4461, 5779, 6241, 6741, 9544, 15534, 16840],\n '599': [2410, 6050, 10136, 10743, 12034],\n '600': [133, 7132, 10889, 13956],\n '601': [6626, 7012, 7057, 9379, 9900],\n '602': [654, 684, 2703, 10300],\n '603': [2557, 3038, 8287, 9113, 10531],\n '604': [4228, 4429, 5815, 10745, 11750],\n '605': [6105, 8287, 8791, 9119, 16036],\n '606': [9334, 11957, 15898, 16169],\n '607': [1525, 2469, 7064, 16233],\n '608': [3665, 3903, 11905, 12945, 14483],\n '609': [1063, 4383, 4808, 11202, 14083],\n '610': [59, 8287, 9109, 14694, 15175],\n '611': [299, 2726, 4340, 7910, 10195],\n '612': [764, 3770, 5577, 9230],\n '613': [133, 674, 6646, 8063],\n '614': [5713, 7285, 8999, 11433],\n '615': [3190, 4105, 4113, 5983, 11104, 11433, 12569],\n '616': [1559, 5133, 5713, 6488, 6881, 10743],\n '617': [465, 2587, 3665, 6847, 9354, 10974, 12161],\n '618': [2377, 5345, 9978, 10822, 14513],\n '619': [4750, 5163, 7803, 10351, 10465, 12300, 12745],\n '620': [5713, 10186, 12034, 16155, 16398],\n '621': [2688, 2946, 4511, 4952, 5718, 15787],\n '622': [4659, 4949, 7864, 9791],\n '623': [4396, 6736, 11656, 15189, 16013],\n '624': [3665, 9063, 10300, 10822],\n '625': [1677, 6967, 7723, 9514, 12034],\n '626': [364, 3052, 4154, 7158, 9063],\n '627': [1765, 3560, 7459, 8132],\n '628': [5243, 6540, 7106, 16633],\n '629': [2215, 11513, 13908, 14424],\n '630': [141, 993, 2587, 4695, 7839, 10974],\n '631': [2040, 3584, 9584, 10300, 12404, 14023],\n '632': [465, 3257, 7843, 11905],\n '633': [1677, 3238, 9595, 10697],\n '634': [1677, 2587, 6241, 6938, 9765, 10195],\n '635': [500, 5481, 6080, 6572, 8393, 11730],\n '636': [199, 493, 1049, 5040, 5810, 10592, 14061, 15070],\n '637': [29, 2227, 3581, 5510, 6335, 8195],\n '638': [1868, 5701, 10156, 11920],\n '639': [1733, 6193, 6416, 7187, 7563],\n '640': [880, 1574, 2411, 3716, 4001, 5243, 5319, 16655],\n '641': [1559, 9651, 12744, 13226, 14011],\n '642': [620, 4154, 5137, 7725],\n '643': [1628, 6529, 7158, 9823],\n '644': [1445, 3258, 3321, 6687, 7978, 12880, 15041],\n '645': [2587, 5466, 6057, 10743],\n '646': [5143, 5370, 5718, 6646, 11235, 14513],\n '647': [364, 7610, 8724, 12555, 12747, 14424],\n '648': [3246, 6736, 12050, 12161, 13050, 13901, 14134],\n '649': [1268, 1530, 4808, 7756, 10878],\n '650': [1494, 4668, 6241, 13540],\n '651': [1506, 8812, 9198, 10744],\n '652': [2189, 2762, 7843, 10195, 10300],\n '653': [454, 4154, 8342, 10321, 13295, 15415],\n '654': [4154, 7039, 7843, 10106, 12945, 14670, 15175],\n '655': [2410, 5285, 5759, 10321, 16021],\n '656': [903, 2268, 2930, 5526, 8798, 10465, 12747],\n '657': [3770, 4798, 12569, 13560, 14393, 15824],\n '658': [5526, 6054, 9375, 13542, 15189],\n '659': [319, 3251, 5040, 9417, 15497],\n '660': [2975, 4645, 6488, 6626, 9557, 9708],\n '661': [10156, 13782, 15175, 16485],\n '662': [1445, 7652, 9063, 10689],\n '663': [1928, 6174, 9430, 11277, 11433, 12894, 13120],\n '664': [5075, 5703, 6938, 10029, 16161],\n '665': [6429, 6736, 11011, 12940, 13769],\n '666': [2410, 4695, 8639, 10278, 14133],\n '667': [858, 2957, 3257, 4589],\n '668': [3611, 3969, 6365, 6900, 7781, 10849],\n '669': [3371, 3491, 5876, 7738, 7820, 9011, 11402, 11905],\n '670': [94, 2676, 4558, 8645, 9063, 10531],\n '671': [4001, 7485, 7756, 9210],\n '672': [297, 645, 5196, 5703, 6548, 15506],\n '673': [322, 956, 5440, 9130, 10909],\n '674': [880, 1796, 2823, 3258, 5661],\n '675': [1420, 4589, 9253, 11905],\n '676': [2749, 9765, 9866, 10238, 12949],\n '677': [3052, 3257, 13540, 13634, 13788],\n '678': [1975, 3657, 6208, 8711],\n '679': [1116, 1323, 3049, 3644, 4369],\n '680': [0, 5259, 10224, 11113, 13326],\n '681': [658, 1734, 7861, 8798, 9866, 10300, 11054, 12620],\n '682': [1364, 7263, 7866, 10147, 14180],\n '683': [364, 899, 9672, 12950],\n '684': [1494, 5795, 9063, 11104, 15633],\n '685': [2040, 4228, 7485, 7803, 11288, 12300, 14388],\n '686': [3022, 4164, 7408, 8106, 9102],\n '687': [1503, 4943, 8063, 10125],\n '688': [1494, 2930, 4501, 4645, 5100, 7843, 8020],\n '689': [1494, 2232, 2608, 5661, 8184, 11513],\n '690': [0, 1677, 3147, 11422],\n '691': [1391, 2410, 9063, 9076, 10136, 10300],\n '692': [1683, 4353, 9556, 12811, 15765, 16840],\n '693': [454, 2422, 5081, 6736, 8722],\n '694': [4458, 4463, 4709, 6365, 7473, 8287, 9516],\n '695': [1428, 5952, 6425, 8927, 11462, 11468, 12568, 13553],\n '696': [24, 465, 1823, 2215, 7158, 12034],\n '697': [11346, 11971, 12161, 13878],\n '698': [654, 2823, 4774, 12690],\n '699': [2402, 5718, 7482, 9083, 13653, 14700],\n '700': [5, 684, 4709, 6193, 6402, 12657],\n '701': [1405, 5978, 6219, 6234, 10408, 12814, 13404],\n '702': [2232, 2266, 2982, 5670],\n '703': [191, 4228, 9080, 10961, 12614],\n '704': [6938, 11905, 14483],\n '705': [2072, 2258, 4558, 4750, 5133, 12119],\n '706': [2587, 3665, 6646, 8751, 13226],\n '707': [1122, 1503, 3885, 5802, 11002, 13540],\n '708': [360, 2410, 6162, 9383, 10136],\n '709': [183, 9052, 9253, 12804],\n '710': [2587, 3665, 5713, 6257],\n '711': [2587, 3665, 4501, 4668, 6241, 10979],\n '712': [364, 3464, 7158, 7854, 13451],\n '713': [10042, 10661, 11046, 12832, 13772],\n '714': [2983, 11518, 13614, 14023],\n '715': [7978, 10160, 11433, 12496],\n '716': [7134, 9765, 12275, 14483],\n '717': [543, 2902, 7067, 12649, 12949, 14693, 17013],\n '718': [59, 2232, 2257, 8216, 10300],\n '719': [1677, 8063, 8682, 11487],\n '720': [2232, 3519, 3759, 9584, 12034],\n '721': [4499, 5079, 8823, 9183, 12498],\n '722': [1975, 2118, 3974, 12880],\n '723': [2474, 2562, 2930, 6365],\n '724': [4586, 6736, 10539, 14588],\n '725': [8934, 14070, 15531, 16952],\n '726': [1677, 4975, 5502, 9109, 12945],\n '727': [831, 4340, 5759, 8287, 10136, 16161],\n '728': [5255, 6627, 7781, 13523, 13620],\n '729': [2266, 5583, 6740, 9028, 10115, 11440, 11513, 11536],\n '730': [654, 3581, 6558, 7721],\n '731': [2920, 4414, 5228, 5659, 7266],\n '732': [1445, 2410, 5670],\n '733': [1337, 3035, 5734, 10836, 12158, 12614],\n '734': [17, 2673, 8850, 10478, 13233, 15381, 15572],\n '735': [1047, 2049, 8090, 10636, 12568, 14023],\n '736': [364, 10822, 13069, 13367, 14157, 15464],\n '737': [8696, 10699, 11046, 12522],\n '738': [1494, 4668, 10125, 14513],\n '739': [3657, 3665, 5661, 5713, 7723, 8999, 11536],\n '740': [2422, 4460, 8838, 9210, 12631, 12921, 14513],\n '741': [6294, 6967, 10607, 14513],\n '742': [1765, 8791, 12555, 14180, 16796],\n '743': [2781, 4558, 9379, 9429, 11780],\n '744': [2975, 5661, 5713, 7072, 7886, 8999],\n '745': [6802, 10836, 12649, 13367],\n '746': [1530, 1559, 2422, 3051],\n '747': [654, 5133, 5734, 6050, 10300],\n '748': [880, 5552, 11971, 12649, 14916],\n '749': [3894, 4750, 5983, 7064, 7194, 8711, 12275],\n '750': [194, 7738, 8063, 9063, 10033],\n '751': [5143, 6736, 6938, 12747, 16306],\n '752': [543, 9109, 11376, 15592],\n '753': [5659, 7488, 7489, 10050, 12151, 15801, 16586],\n '754': [2608, 8450, 8751, 14023, 14337],\n '755': [1140, 2614, 2991, 6187, 13037],\n '756': [1445, 1494, 2473, 4717],\n '757': [684, 2232, 8999, 10974, 14045],\n '758': [1214, 1608, 4622, 8116, 9930, 11433],\n '759': [1677, 4369, 8756, 12568, 12945, 13142, 14608],\n '760': [880, 2930, 10136, 15787, 17047, 17272],\n '761': [4645, 7725, 10822, 14185],\n '762': [543, 6934, 8287, 9021, 9557, 11405, 14801],\n '763': [384, 1559, 10136, 11738],\n '764': [465, 880, 2266, 9063, 9210, 12445],\n '765': [5718, 7851, 8287, 10925, 12973],\n '766': [2781, 8166, 10300, 12945, 15032, 15709],\n '767': [164, 4798, 10743, 12470, 12494, 14926],\n '768': [3283, 5759, 6736, 12652, 12945],\n '769': [4057, 9063, 9971, 15205],\n '770': [1005, 1445, 2587, 3371, 3663],\n '771': [2696, 3581, 4022, 13001, 15222],\n '772': [880, 2215, 4163, 5430, 7610, 9063],\n '773': [393, 654, 4659, 14332],\n '774': [2189, 2215, 7978, 9109, 13543],\n '775': [1181, 8337, 11649, 14582],\n '776': [2189, 7843, 12811, 13226, 13404],\n '777': [2377, 3257, 10822, 14513],\n '778': [4585, 5035, 8808, 8870, 10718, 13037],\n '779': [858, 9109, 10300, 12034],\n '780': [684, 1823, 3506, 7509, 7978, 14979],\n '781': [59, 2268, 3189, 5243, 6335, 9034],\n '782': [1863, 2975, 5510, 13890],\n '783': [364, 3052, 3464, 4727, 10849, 12408, 13300],\n '784': [7843, 10195, 12119, 12945, 13142],\n '785': [880, 1098, 2819, 5064, 7781, 9520],\n '786': [2406, 4091, 6554, 9665, 15063, 15506],\n '787': [2268, 7803, 9417, 10052, 10743, 13614, 14304],\n '788': [1677, 6050, 6449, 15175],\n '789': [993, 1909, 2834, 6151, 10195, 12945, 13930],\n '790': [205, 7789, 9109, 12945, 13303],\n '791': [3093, 6848, 11627, 11721],\n '792': [1177, 1559, 3088, 6219, 9783, 14180],\n '793': [205, 764, 3309, 5370, 11113],\n '794': [1292, 2266, 6193, 7756],\n '795': [4501, 5670, 6241, 8184, 12161],\n '796': [59, 1494, 1677, 6938, 7820, 7843, 13543],\n '797': [2227, 3993, 7809, 7974, 8132],\n '798': [6736, 8287, 10121, 11513, 16638],\n '799': [24, 2266, 2410, 5081, 15926, 16255],\n '800': [1203, 5306, 7253, 10321],\n '801': [454, 7843, 10300, 10822, 12119],\n '802': [4709, 5759, 8331, 11433],\n '803': [2597, 4668, 4717, 6485],\n '804': [2333, 2668, 2980, 7861, 11230, 12945],\n '805': [1677, 3502, 10125, 11763, 13201],\n '806': [259, 972, 1677, 5143, 5779, 9052, 9467],\n '807': [59, 2040, 3257, 3545, 7910, 10147],\n '808': [608, 1477, 3052, 4219],\n '809': [2410, 8287, 9063, 14192, 16840],\n '810': [1158, 1191, 2227, 2614],\n '811': [1203, 2372, 2817, 4304, 4491, 7158, 8664],\n '812': [354, 10428, 11803, 13889, 14180],\n '813': [5659, 10224, 13158, 13614],\n '814': [2587, 4024, 4221, 12161],\n '815': [3560, 3736, 3903, 4163, 4621, 10428],\n '816': [701, 2771, 3665, 4491, 7978, 10147],\n '817': [2799, 7756, 8513, 10745, 11569],\n '818': [5791, 14045, 14118, 16306],\n '819': [3022, 5159, 9430, 10987, 11778, 13275],\n '820': [862, 1031, 5883, 6515, 14107, 14543, 15496],\n '821': [661, 1677, 4188, 5789, 7843, 9404, 14565, 16187],\n '822': [2178, 6736, 10224, 12747, 13614, 14465],\n '823': [2557, 3371, 3389, 5390, 7955, 9927],\n '824': [2285, 2475, 7744, 10849],\n '825': [1445, 2608, 4939, 5661],\n '826': [1677, 3728, 5713, 9212, 9230, 9929, 15396],\n '827': [1259, 1675, 1715, 4464, 7462, 10194],\n '828': [1511, 4072, 7843, 8063, 9556, 9686, 9971],\n '829': [808, 10607, 13538, 14377],\n '830': [6942, 8823, 13226, 14515, 15175, 16233, 16502],\n '831': [4140, 4250, 5461, 10428, 11209, 14723],\n '832': [24, 2930, 5370, 5802, 11500, 14693],\n '833': [764, 2104, 8287, 8999, 11513],\n '834': [2637, 4474, 4750, 5640, 6270, 8928, 10953],\n '835': [5659, 7652, 9059, 9210, 10636],\n '836': [2410, 4645, 5713],\n '837': [3085, 3258, 5670, 8184],\n '838': [1445, 2410, 4645, 5713, 9557],\n '839': [502, 9844, 10655, 12119, 14180],\n '840': [1796, 3052, 3506, 3903, 4805, 5243, 10428],\n '841': [7843, 8683, 13142, 15189],\n '842': [6323, 9584, 9765, 12747],\n '843': [3088, 8063, 8130, 11669, 13046],\n '844': [969, 5876, 6105, 7412, 8245, 15181],\n '845': [24, 10125, 10130, 10479, 11113],\n '846': [5510, 10551, 12290, 12747, 14297, 16013],\n '847': [2422, 2597, 3665, 12149, 16061],\n '848': [6050, 6178, 8126, 12090],\n '849': [1061, 3728, 10666, 11730],\n '850': [2377, 2661, 3220, 5033, 5243],\n '851': [364, 2374, 5802, 14716],\n '852': [500, 3257, 6540, 10351, 13001],\n '853': [4622, 5586, 5791, 7695],\n '854': [453, 3052, 7067, 10428, 15296],\n '855': [957, 5978, 8683, 11539, 16013],\n '856': [2268, 2620, 2882, 8181, 10579, 13001],\n '857': [465, 8287, 10136, 10531, 14304],\n '858': [4040, 6174, 11417, 11699],\n '859': [454, 1677, 10195, 15175],\n '860': [4750, 5133, 5759, 11462, 11707],\n '861': [453, 4046, 7263, 11355],\n '862': [1559, 4464, 9967, 11513],\n '863': [858, 2823, 13540, 14225],\n '864': [5952, 7610, 10079, 10822, 13470],\n '865': [903, 4369, 10745, 11468, 14025],\n '866': [1098, 3665, 7063],\n '867': [764, 10042, 13181, 15484],\n '868': [1131, 2040, 2298, 11433, 13206],\n '869': [867, 1796, 3867, 6881],\n '870': [1391, 3190, 4277, 4347, 9683],\n '871': [858, 959, 6646, 8063, 8645, 16636],\n '872': [2991, 3958, 6241, 6365, 7067, 14205],\n '873': [1796, 3560, 4120, 5095],\n '874': [1003, 1677, 3347, 4562, 6396, 12205],\n '875': [2090, 3665, 4041, 7482, 9063],\n '876': [1917, 6105, 10060, 11433, 12233],\n '877': [543, 3903, 4079, 7488, 8751],\n '878': [654, 2410, 5759, 8999, 9981],\n '879': [1774, 5319, 7843, 9342],\n '880': [616, 2805, 2957, 3403, 4270],\n '881': [2072, 5149, 6636, 7610, 12657],\n '882': [1957, 5126, 5607, 5879, 9211, 11369],\n '883': [360, 2410, 5243, 6627, 8287],\n '884': [322, 3309, 5572, 8155, 10822, 12119, 14326],\n '885': [59, 10743, 12414, 12955],\n '886': [4958, 6740, 13001, 13158, 14061, 15629],\n '887': [4717, 5779, 9102, 9253, 9694],\n '888': [3095, 3975, 9097, 10979, 14397, 15163],\n '889': [3955, 5209, 10140, 14118],\n '890': [1250, 4010, 4286, 6775, 15394],\n '891': [1320, 6488, 9052, 11843],\n '892': [1618, 3052, 5228, 5802, 6104],\n '893': [1191, 2266, 4022, 7781],\n '894': [7843, 11905, 14118, 14134, 16186],\n '895': [1677, 2848, 7756, 11841, 15439],\n '896': [3093, 3495, 3499, 5033, 15849],\n '897': [4656, 4891, 10085, 15507, 15934, 16796],\n '898': [808, 6881, 8999, 11433],\n '899': [59, 1823, 7067, 9866, 11572],\n '900': [1445, 1559, 2608, 3089, 6321, 7436, 8999],\n '901': [2620, 3770, 5315, 10385, 12469, 12471],\n '902': [1015, 4659, 9063, 9516, 14796],\n '903': [2848, 6050, 9063, 11841],\n '904': [24, 3665, 4668, 5670, 7946],\n '905': [94, 1093, 4659, 6299, 7064, 10125, 15057],\n '906': [1574, 2510, 3220, 4003, 4272, 4550, 6050, 6396],\n '907': [335, 1530, 1715, 4895, 7067],\n '908': [2928, 4344, 4992, 6468, 10160, 12495],\n '909': [2658, 4414, 10465, 12731, 13253],\n '910': [2865, 3993, 6219, 7809, 8513, 9737, 10822],\n '911': [3257, 3647, 9210, 9584, 9737],\n '912': [364, 4040, 9210, 12640],\n '913': [949, 3038, 5081, 8999, 12818, 13135],\n '914': [4369, 5928, 9791, 12097, 12488],\n '915': [2465, 4041, 6278, 10822, 11468],\n '916': [684, 10810, 13001, 15705],\n '917': [880, 7843, 8683, 11113, 14796, 16186],\n '918': [867, 2991, 6646, 7803, 7843],\n '919': [1796, 3759, 3772, 4717, 4887, 5080, 9391, 14556],\n '920': [7723, 8063, 9933, 9971, 11750],\n '921': [59, 5791, 9109, 14693],\n '922': [1445, 5027, 6540, 14304],\n '923': [5522, 9943, 14383],\n '924': [1284, 6299, 6388, 7211, 10106],\n '925': [2928, 5713, 6488, 9557, 10195, 11881],\n '926': [684, 1530, 6365, 7843, 8599, 8947],\n '927': [4140, 5430, 5587, 9614, 12473],\n '928': [1710, 2882, 3087, 8993, 10195],\n '929': [506, 3674, 7820, 13300],\n '930': [5743, 6166, 9467],\n '931': [59, 543, 8999, 9467, 10822, 11054, 15248],\n '932': [59, 5133, 8287, 8722, 10600, 11405],\n '933': [536, 7049, 8287, 11104, 12945, 14608],\n '934': [2422, 4251, 10835, 11513, 13367],\n '935': [4558, 4709, 5133, 5759, 14304],\n '936': [1879, 6736, 8645, 10195, 11905],\n '937': [4054, 5122, 11763, 12908, 13772],\n '938': [7792, 8822, 10925, 14767],\n '939': [764, 2266, 5661, 8999, 11513, 11664, 13722],\n '940': [319, 10428, 11707, 12161, 14340, 15236, 15399],\n '941': [2336, 3076, 6851, 7311, 7482, 15035],\n '942': [464, 625, 5142, 8823, 10060],\n '943': [999, 3716, 7874, 9712, 14346],\n '944': [2468, 2822, 3993, 8063],\n '945': [9765, 10136, 11433, 12695, 13614],\n '946': [3716, 3736, 6388, 6987, 7158, 7610, 10531],\n '947': [2823, 12914, 13490, 15052, 15236, 16347],\n '948': [2587, 3258, 11691, 12161, 13226],\n '949': [858, 2882, 5228, 9929, 11422, 15914, 16255],\n '950': [40, 878, 2072, 6050, 8944],\n '951': [1445, 4501, 5670, 10979, 12161],\n '952': [654, 5133, 6687, 10743, 12034],\n '953': [2930, 4798, 5567, 14658],\n '954': [654, 1577, 4695, 7067, 7473, 8501, 9091, 11518],\n '955': [5700, 7132, 9063, 9604, 13422],\n '956': [1072, 3309, 3898, 12905, 14340, 14519],\n '957': [4709, 5243, 7809, 9063],\n '958': [1778, 2167, 6972, 10657, 13105, 14324],\n '959': [199, 5026, 8241, 8364],\n '960': [3088, 5494, 9052, 9210, 9971, 10407, 15658],\n '961': [6054, 7241, 9595, 13880],\n '962': [654, 684, 764, 880, 5510],\n '963': [1898, 3258, 5700, 14767, 16482],\n '964': [1715, 2227, 3103, 3446, 7565],\n '965': [1399, 3736, 6093, 6691, 8882, 11113],\n '966': [1292, 2834, 8126, 8838, 11525, 14023],\n '967': [2226, 2558, 3035, 7836, 12457, 14648],\n '968': [319, 5022, 8981, 9040],\n '969': [364, 4163, 6050, 9305, 10160, 11433, 15248],\n '970': [880, 3257, 3560, 5560, 8063],\n '971': [319, 982, 1098, 9440, 13280],\n '972': [4113, 7886, 9097, 10195, 10925, 11202, 11905],\n '973': [1821, 12712, 14281, 14388, 15483],\n '974': [2410, 8063, 9109, 9765, 10321, 14180],\n '975': [1677, 2806, 3190, 11054, 11632],\n '976': [684, 3560, 5664, 12880],\n '977': [1844, 3917, 5779, 7864, 14409, 14583],\n '978': [2083, 2410, 6607, 7236, 9223, 10738],\n '979': [2089, 9619, 12011, 12754],\n '980': [5232, 6416, 7573, 12019, 12754, 14469, 14547],\n '981': [1494, 4668, 5670, 6646, 10195],\n '982': [4645, 5122, 7889, 15046, 15859],\n '983': [654, 1898, 2930, 4805, 8929, 16267],\n '984': [364, 9722, 10114, 12966],\n '985': [1559, 8999, 13356, 14118],\n '986': [4458, 4460, 8639, 8900, 9230, 9988, 15046],\n '987': [1131, 6736, 12568],\n '988': [3014, 5614, 9863, 14754],\n '989': [616, 4499, 5797, 6847, 13539],\n '990': [4369, 7266, 8466, 10195, 12470, 14118, 15175],\n '991': [551, 858, 1543, 6784, 9823],\n '992': [4075, 12945, 13880, 15252, 15926],\n '993': [2587, 2962, 3665, 7539, 10974, 12582],\n '994': [2232, 2410, 3665, 5713, 8999],\n '995': [908, 4369, 5002, 5419, 8063, 13182],\n '996': [1862, 2189, 2928, 6495],\n '997': [2584, 3258, 10677],\n '998': [5663, 8287, 10156, 10602],\n '999': [71, 3581, 4558, 4709],\n ...}"
     },
     "execution_count": 2,
     "metadata": {},
     "output_type": "execute_result"
    }
   ],
   "source": [
    "# read train dict\n",
    "import json\n",
    "with open('../data/netflix/train.json', 'r') as f:\n",
    "    train = json.load(f)\n",
    "train"
   ],
   "metadata": {
    "collapsed": false,
    "ExecuteTime": {
     "end_time": "2024-04-16T23:09:36.889476Z",
     "start_time": "2024-04-16T23:09:36.823684Z"
    }
   },
   "id": "40b8f630aca4fa05",
   "execution_count": 2
  },
  {
   "cell_type": "code",
   "outputs": [
    {
     "data": {
      "text/plain": "   user_id item_id\n0        0    4755\n0        0    9066\n0        0    9765\n0        0   10734\n0        0   13503\n..     ...     ...\n0    13186    9655\n0    13186   12744\n0    13186   13312\n0    13186   14588\n0    13186   15046\n\n[68933 rows x 2 columns]",
      "text/html": "<div>\n<style scoped>\n    .dataframe tbody tr th:only-of-type {\n        vertical-align: middle;\n    }\n\n    .dataframe tbody tr th {\n        vertical-align: top;\n    }\n\n    .dataframe thead th {\n        text-align: right;\n    }\n</style>\n<table border=\"1\" class=\"dataframe\">\n  <thead>\n    <tr style=\"text-align: right;\">\n      <th></th>\n      <th>user_id</th>\n      <th>item_id</th>\n    </tr>\n  </thead>\n  <tbody>\n    <tr>\n      <th>0</th>\n      <td>0</td>\n      <td>4755</td>\n    </tr>\n    <tr>\n      <th>0</th>\n      <td>0</td>\n      <td>9066</td>\n    </tr>\n    <tr>\n      <th>0</th>\n      <td>0</td>\n      <td>9765</td>\n    </tr>\n    <tr>\n      <th>0</th>\n      <td>0</td>\n      <td>10734</td>\n    </tr>\n    <tr>\n      <th>0</th>\n      <td>0</td>\n      <td>13503</td>\n    </tr>\n    <tr>\n      <th>...</th>\n      <td>...</td>\n      <td>...</td>\n    </tr>\n    <tr>\n      <th>0</th>\n      <td>13186</td>\n      <td>9655</td>\n    </tr>\n    <tr>\n      <th>0</th>\n      <td>13186</td>\n      <td>12744</td>\n    </tr>\n    <tr>\n      <th>0</th>\n      <td>13186</td>\n      <td>13312</td>\n    </tr>\n    <tr>\n      <th>0</th>\n      <td>13186</td>\n      <td>14588</td>\n    </tr>\n    <tr>\n      <th>0</th>\n      <td>13186</td>\n      <td>15046</td>\n    </tr>\n  </tbody>\n</table>\n<p>68933 rows × 2 columns</p>\n</div>"
     },
     "execution_count": 4,
     "metadata": {},
     "output_type": "execute_result"
    }
   ],
   "source": [
    "import pandas as pd\n",
    "# convert the dict to a data frame with two columns user_id and item_id (users while be repeated)\n",
    "def convert_dict_to_df(dict_):\n",
    "    df = pd.DataFrame(columns=['user_id', 'item_id'])\n",
    "    for user_id, items in dict_.items():\n",
    "        for item_id in items:\n",
    "            # use concat to avoid the warning\n",
    "            df = pd.concat([df, pd.DataFrame({'user_id': [int(user_id)], 'item_id': [int(item_id)]})])\n",
    "    return df\n",
    "\n",
    "train_df = convert_dict_to_df(train)\n",
    "train_df"
   ],
   "metadata": {
    "collapsed": false,
    "ExecuteTime": {
     "end_time": "2024-04-16T23:11:00.515450Z",
     "start_time": "2024-04-16T23:10:11.444092Z"
    }
   },
   "id": "e3d74863d4186777",
   "execution_count": 4
  },
  {
   "cell_type": "code",
   "outputs": [],
   "source": [
    "# apply the function to the train_df\n",
    "import scipy.sparse as sp\n",
    "import numpy as np\n",
    "matrix = create_adjacency_matrix(self,train_df)"
   ],
   "metadata": {
    "collapsed": false,
    "ExecuteTime": {
     "end_time": "2024-04-16T23:17:34.524370Z",
     "start_time": "2024-04-16T23:17:25.110873Z"
    }
   },
   "id": "57a85b6bb7dcdb38",
   "execution_count": 10
  },
  {
   "cell_type": "code",
   "outputs": [
    {
     "data": {
      "text/plain": "torch.Size([30553, 30553])"
     },
     "execution_count": 11,
     "metadata": {},
     "output_type": "execute_result"
    }
   ],
   "source": [
    "matrix.shape"
   ],
   "metadata": {
    "collapsed": false,
    "ExecuteTime": {
     "end_time": "2024-04-16T23:17:46.565361Z",
     "start_time": "2024-04-16T23:17:46.560716Z"
    }
   },
   "id": "d086f347a868ae74",
   "execution_count": 11
  },
  {
   "cell_type": "code",
   "outputs": [
    {
     "data": {
      "text/plain": "torch.Tensor"
     },
     "execution_count": 12,
     "metadata": {},
     "output_type": "execute_result"
    }
   ],
   "source": [
    "type(matrix)"
   ],
   "metadata": {
    "collapsed": false,
    "ExecuteTime": {
     "end_time": "2024-04-16T23:17:56.408284Z",
     "start_time": "2024-04-16T23:17:56.404398Z"
    }
   },
   "id": "b0858bf7283af491",
   "execution_count": 12
  },
  {
   "cell_type": "code",
   "outputs": [],
   "source": [
    "# save the matrix\n",
    "torch.save(matrix, '../data/netflix/adjacency_matrix.pt')"
   ],
   "metadata": {
    "collapsed": false,
    "ExecuteTime": {
     "end_time": "2024-04-16T23:18:09.582155Z",
     "start_time": "2024-04-16T23:18:09.573746Z"
    }
   },
   "id": "ef05d3dcc1557d67",
   "execution_count": 13
  },
  {
   "cell_type": "code",
   "outputs": [],
   "source": [],
   "metadata": {
    "collapsed": false
   },
   "id": "8e00bf73c6162bef"
  }
 ],
 "metadata": {
  "kernelspec": {
   "display_name": "Python 3",
   "language": "python",
   "name": "python3"
  },
  "language_info": {
   "codemirror_mode": {
    "name": "ipython",
    "version": 2
   },
   "file_extension": ".py",
   "mimetype": "text/x-python",
   "name": "python",
   "nbconvert_exporter": "python",
   "pygments_lexer": "ipython2",
   "version": "2.7.6"
  }
 },
 "nbformat": 4,
 "nbformat_minor": 5
}
