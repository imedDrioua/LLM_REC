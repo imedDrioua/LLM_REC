{
 "cells": [
  {
   "cell_type": "code",
   "execution_count": 21,
   "id": "initial_id",
   "metadata": {
    "collapsed": true,
    "ExecuteTime": {
     "end_time": "2024-03-20T22:36:21.866632Z",
     "start_time": "2024-03-20T22:36:21.694774Z"
    }
   },
   "outputs": [
    {
     "name": "stdout",
     "output_type": "stream",
     "text": [
      "Dimension des embeddings des images (33962, 1024)\n",
      "Dimension des embeddings des textes (33962, 1024)\n"
     ]
    }
   ],
   "source": [
    "import numpy as np\n",
    "import scipy.sparse as sp\n",
    "embed_image = np.load('../data/books/embed_image.npy')\n",
    "print(\"Dimension des embeddings des images\",embed_image.shape)\n",
    "\n",
    "embed_text = np.load('../data/books/embed_text.npy')\n",
    "print(\"Dimension des embeddings des textes\",embed_text.shape)"
   ]
  },
  {
   "cell_type": "code",
   "outputs": [
    {
     "name": "stdout",
     "output_type": "stream",
     "text": [
      "33962 items dans le dataset\n",
      "14790 users dans le dataset\n"
     ]
    }
   ],
   "source": [
    "import pandas as pd\n",
    "items = pd.read_csv('../data/books/items.txt') \n",
    "m = len(items)\n",
    "print(f'{m} items dans le dataset')\n",
    "users = pd.read_csv('../data/books/users.txt')\n",
    "n = len(users)\n",
    "print(f'{n} users dans le dataset')"
   ],
   "metadata": {
    "collapsed": false,
    "ExecuteTime": {
     "end_time": "2024-03-20T22:36:42.030126Z",
     "start_time": "2024-03-20T22:36:42.004211Z"
    }
   },
   "id": "595ad250b5376d42",
   "execution_count": 22
  },
  {
   "cell_type": "code",
   "outputs": [
    {
     "ename": "NameError",
     "evalue": "name 'data_dict' is not defined",
     "output_type": "error",
     "traceback": [
      "\u001B[1;31m---------------------------------------------------------------------------\u001B[0m",
      "\u001B[1;31mNameError\u001B[0m                                 Traceback (most recent call last)",
      "Cell \u001B[1;32mIn[5], line 38\u001B[0m\n\u001B[0;32m     35\u001B[0m     validation_dict[\u001B[38;5;28mstr\u001B[39m(user_id)]\u001B[38;5;241m.\u001B[39mappend(\u001B[38;5;28mint\u001B[39m(item_id))\n\u001B[0;32m     37\u001B[0m \u001B[38;5;28;01mwith\u001B[39;00m \u001B[38;5;28mopen\u001B[39m(\u001B[38;5;124m'\u001B[39m\u001B[38;5;124m../data/books/train.json\u001B[39m\u001B[38;5;124m'\u001B[39m, \u001B[38;5;124m'\u001B[39m\u001B[38;5;124mw\u001B[39m\u001B[38;5;124m'\u001B[39m) \u001B[38;5;28;01mas\u001B[39;00m f :\n\u001B[1;32m---> 38\u001B[0m     json\u001B[38;5;241m.\u001B[39mdump(\u001B[43mdata_dict\u001B[49m, f)\n\u001B[0;32m     40\u001B[0m \u001B[38;5;28;01mwith\u001B[39;00m \u001B[38;5;28mopen\u001B[39m(\u001B[38;5;124m'\u001B[39m\u001B[38;5;124m../data/books/test.json\u001B[39m\u001B[38;5;124m'\u001B[39m, \u001B[38;5;124m'\u001B[39m\u001B[38;5;124mw\u001B[39m\u001B[38;5;124m'\u001B[39m) \u001B[38;5;28;01mas\u001B[39;00m f :\n\u001B[0;32m     41\u001B[0m     json\u001B[38;5;241m.\u001B[39mdump(test_dict, f)\n",
      "\u001B[1;31mNameError\u001B[0m: name 'data_dict' is not defined"
     ]
    }
   ],
   "source": [
    "import json\n",
    "# Convertion des fichiers txt en json pour faciliter la manipulation avec le modèle\n",
    "# load the data\n",
    "train = pd.read_csv('../data/books/train.txt')\n",
    "test = pd.read_csv('../data/books/test.txt')\n",
    "validation = pd.read_csv('../data/books/validation.txt')\n",
    "\n",
    "train_dict = {}\n",
    "test_dict = {}\n",
    "validation_dict = {}\n",
    "\n",
    "train_ids = train['user'].unique()\n",
    "test_ids = test['user'].unique()\n",
    "validation_ids = validation['user'].unique()\n",
    "\n",
    "# Des boucles legères  \n",
    "for user_id in range(n):\n",
    "    train_dict[str(user_id)] = []\n",
    "for user_id in range(len(test_ids)):\n",
    "    test_dict[str(user_id)] = []\n",
    "for user_id in range(len(validation_ids)):\n",
    "    validation_dict[str(user_id)] = []\n",
    "    \n",
    "for index, row in train.iterrows():\n",
    "    user_id = row['user']\n",
    "    item_id = row['item']\n",
    "    train_dict[str(user_id)].append(int(item_id))\n",
    "\n",
    "for index, row in test.iterrows():\n",
    "    user_id = row['user']\n",
    "    item_id = row['item']\n",
    "    test_dict[str(user_id)].append(int(item_id))\n",
    "\n",
    "for index, row in validation.iterrows():\n",
    "    user_id = row['user']\n",
    "    item_id = row['item']\n",
    "    validation_dict[str(user_id)].append(int(item_id))"
   ],
   "metadata": {
    "collapsed": false,
    "ExecuteTime": {
     "end_time": "2024-03-20T22:13:13.711315Z",
     "start_time": "2024-03-20T22:13:00.393243Z"
    }
   },
   "id": "ff195539adb7beab",
   "execution_count": 5
  },
  {
   "cell_type": "code",
   "outputs": [],
   "source": [
    "with open('../data/books/train.json', 'w') as f :\n",
    "    json.dump(train_dict, f)\n",
    "\n",
    "with open('../data/books/test.json', 'w') as f :\n",
    "    json.dump(test_dict, f)\n",
    "\n",
    "with open('../data/books/validation.json', 'w') as f :\n",
    "    json.dump(validation_dict, f)"
   ],
   "metadata": {
    "collapsed": false,
    "ExecuteTime": {
     "end_time": "2024-03-20T22:13:33.923810Z",
     "start_time": "2024-03-20T22:13:33.332105Z"
    }
   },
   "id": "b8eabce2dec16bc4",
   "execution_count": 6
  },
  {
   "cell_type": "code",
   "outputs": [
    {
     "data": {
      "text/plain": "         ISBN                                              Title  \\\n0  0195153448                                Classical Mythology   \n1  0002005018                                       Clara Callan   \n2  0060973129                               Decision in Normandy   \n3  0374157065  Flu: The Story of the Great Influenza Pandemic...   \n4  0393045218                             The Mummies of Urumchi   \n\n                 Author  Year                Publisher  \n0    Mark P. O. Morford  2002  Oxford University Press  \n1  Richard Bruce Wright  2001    HarperFlamingo Canada  \n2          Carlo D'Este  1991          HarperPerennial  \n3      Gina Bari Kolata  1999     Farrar Straus Giroux  \n4       E. J. W. Barber  1999   W. W. Norton & Company  ",
      "text/html": "<div>\n<style scoped>\n    .dataframe tbody tr th:only-of-type {\n        vertical-align: middle;\n    }\n\n    .dataframe tbody tr th {\n        vertical-align: top;\n    }\n\n    .dataframe thead th {\n        text-align: right;\n    }\n</style>\n<table border=\"1\" class=\"dataframe\">\n  <thead>\n    <tr style=\"text-align: right;\">\n      <th></th>\n      <th>ISBN</th>\n      <th>Title</th>\n      <th>Author</th>\n      <th>Year</th>\n      <th>Publisher</th>\n    </tr>\n  </thead>\n  <tbody>\n    <tr>\n      <th>0</th>\n      <td>0195153448</td>\n      <td>Classical Mythology</td>\n      <td>Mark P. O. Morford</td>\n      <td>2002</td>\n      <td>Oxford University Press</td>\n    </tr>\n    <tr>\n      <th>1</th>\n      <td>0002005018</td>\n      <td>Clara Callan</td>\n      <td>Richard Bruce Wright</td>\n      <td>2001</td>\n      <td>HarperFlamingo Canada</td>\n    </tr>\n    <tr>\n      <th>2</th>\n      <td>0060973129</td>\n      <td>Decision in Normandy</td>\n      <td>Carlo D'Este</td>\n      <td>1991</td>\n      <td>HarperPerennial</td>\n    </tr>\n    <tr>\n      <th>3</th>\n      <td>0374157065</td>\n      <td>Flu: The Story of the Great Influenza Pandemic...</td>\n      <td>Gina Bari Kolata</td>\n      <td>1999</td>\n      <td>Farrar Straus Giroux</td>\n    </tr>\n    <tr>\n      <th>4</th>\n      <td>0393045218</td>\n      <td>The Mummies of Urumchi</td>\n      <td>E. J. W. Barber</td>\n      <td>1999</td>\n      <td>W. W. Norton &amp; Company</td>\n    </tr>\n  </tbody>\n</table>\n</div>"
     },
     "execution_count": 9,
     "metadata": {},
     "output_type": "execute_result"
    }
   ],
   "source": [
    "books = pd.read_csv('../data/books/Books.csv',sep=';')\n",
    "books.shape"
   ],
   "metadata": {
    "collapsed": false,
    "ExecuteTime": {
     "end_time": "2024-03-20T22:22:34.712027Z",
     "start_time": "2024-03-20T22:22:34.122627Z"
    }
   },
   "id": "ab2430487890eea4",
   "execution_count": 9
  },
  {
   "cell_type": "code",
   "outputs": [
    {
     "data": {
      "text/plain": "              ISBN                                              Title  \\\n1       0002005018                                       Clara Callan   \n3       0374157065  Flu: The Story of the Great Influenza Pandemic...   \n6       0425176428  What If?: The World's Foremost Military Histor...   \n10      0771074670                        Nights Below Station Street   \n14      1558746218  A Second Chicken Soup for the Woman's Soul (Ch...   \n...            ...                                                ...   \n235407  0312927339  Red Cloud's Revenge: Showdown on the Northern ...   \n240546  0553560557                                              Vixen   \n243216  0330353349                  The Ice House (TV Tie-In Edition)   \n243940  0394758250  The Lady in the Lake (Vintage Crime/ Black Liz...   \n247695  0373120486  Baby Verdict (Expecting) (Harlequin Presents, ...   \n\n                      Author  Year                 Publisher  \n1       Richard Bruce Wright  2001     HarperFlamingo Canada  \n3           Gina Bari Kolata  1999      Farrar Straus Giroux  \n6              Robert Cowley  2000  Berkley Publishing Group  \n10      David Adams Richards  1988           Emblem Editions  \n14             Jack Canfield  1998     Health Communications  \n...                      ...   ...                       ...  \n235407     Terry C. Johnston  1995        St. Martin's Press  \n240546          Jane Feather  1994              Bantam Books  \n243216       Minette Walters  1997      McClelland & Stewart  \n243940      Raymond Chandler  1992         Vintage Books USA  \n247695        Cathy Williams  1999                 Harlequin  \n\n[33963 rows x 5 columns]",
      "text/html": "<div>\n<style scoped>\n    .dataframe tbody tr th:only-of-type {\n        vertical-align: middle;\n    }\n\n    .dataframe tbody tr th {\n        vertical-align: top;\n    }\n\n    .dataframe thead th {\n        text-align: right;\n    }\n</style>\n<table border=\"1\" class=\"dataframe\">\n  <thead>\n    <tr style=\"text-align: right;\">\n      <th></th>\n      <th>ISBN</th>\n      <th>Title</th>\n      <th>Author</th>\n      <th>Year</th>\n      <th>Publisher</th>\n    </tr>\n  </thead>\n  <tbody>\n    <tr>\n      <th>1</th>\n      <td>0002005018</td>\n      <td>Clara Callan</td>\n      <td>Richard Bruce Wright</td>\n      <td>2001</td>\n      <td>HarperFlamingo Canada</td>\n    </tr>\n    <tr>\n      <th>3</th>\n      <td>0374157065</td>\n      <td>Flu: The Story of the Great Influenza Pandemic...</td>\n      <td>Gina Bari Kolata</td>\n      <td>1999</td>\n      <td>Farrar Straus Giroux</td>\n    </tr>\n    <tr>\n      <th>6</th>\n      <td>0425176428</td>\n      <td>What If?: The World's Foremost Military Histor...</td>\n      <td>Robert Cowley</td>\n      <td>2000</td>\n      <td>Berkley Publishing Group</td>\n    </tr>\n    <tr>\n      <th>10</th>\n      <td>0771074670</td>\n      <td>Nights Below Station Street</td>\n      <td>David Adams Richards</td>\n      <td>1988</td>\n      <td>Emblem Editions</td>\n    </tr>\n    <tr>\n      <th>14</th>\n      <td>1558746218</td>\n      <td>A Second Chicken Soup for the Woman's Soul (Ch...</td>\n      <td>Jack Canfield</td>\n      <td>1998</td>\n      <td>Health Communications</td>\n    </tr>\n    <tr>\n      <th>...</th>\n      <td>...</td>\n      <td>...</td>\n      <td>...</td>\n      <td>...</td>\n      <td>...</td>\n    </tr>\n    <tr>\n      <th>235407</th>\n      <td>0312927339</td>\n      <td>Red Cloud's Revenge: Showdown on the Northern ...</td>\n      <td>Terry C. Johnston</td>\n      <td>1995</td>\n      <td>St. Martin's Press</td>\n    </tr>\n    <tr>\n      <th>240546</th>\n      <td>0553560557</td>\n      <td>Vixen</td>\n      <td>Jane Feather</td>\n      <td>1994</td>\n      <td>Bantam Books</td>\n    </tr>\n    <tr>\n      <th>243216</th>\n      <td>0330353349</td>\n      <td>The Ice House (TV Tie-In Edition)</td>\n      <td>Minette Walters</td>\n      <td>1997</td>\n      <td>McClelland &amp; Stewart</td>\n    </tr>\n    <tr>\n      <th>243940</th>\n      <td>0394758250</td>\n      <td>The Lady in the Lake (Vintage Crime/ Black Liz...</td>\n      <td>Raymond Chandler</td>\n      <td>1992</td>\n      <td>Vintage Books USA</td>\n    </tr>\n    <tr>\n      <th>247695</th>\n      <td>0373120486</td>\n      <td>Baby Verdict (Expecting) (Harlequin Presents, ...</td>\n      <td>Cathy Williams</td>\n      <td>1999</td>\n      <td>Harlequin</td>\n    </tr>\n  </tbody>\n</table>\n<p>33963 rows × 5 columns</p>\n</div>"
     },
     "execution_count": 17,
     "metadata": {},
     "output_type": "execute_result"
    }
   ],
   "source": [
    "items = pd.read_csv('../data/books/items.txt')\n",
    "# adding title column ( dataframes are not equal)\n",
    "titles = books.loc[books['ISBN'].isin(items['ISBN'])]\n",
    "titles\n"
   ],
   "metadata": {
    "collapsed": false,
    "ExecuteTime": {
     "end_time": "2024-03-20T22:32:15.100221Z",
     "start_time": "2024-03-20T22:32:15.048311Z"
    }
   },
   "id": "825833b11768ff6b",
   "execution_count": 17
  },
  {
   "cell_type": "code",
   "outputs": [
    {
     "data": {
      "text/plain": "             ISBN  item_id                                              Title\n0      0385094787        0                                Archy and Mehitabel\n1      0886773083        1  The Shattered Chain (Darkover: The Renunciates...\n2      0373710291        2  Cowboy For Clementine (Home On The Ranch) (Har...\n3      0802135838        3          Patient: The True Story of a Rare Illness\n4      0684834553        4       Vineyard Blues : A Martha's Vineyard Mystery\n...           ...      ...                                                ...\n33958  0373708343    33957  Don'T Mess With Texans  (By The Year 2000:  Re...\n33959  0345421884    33958                                       Dragonshadow\n33960  0380731991    33959                    Cereus Blooms at Night: A Novel\n33961  0517580497    33960               Plains of Passage (Earth's Children)\n33962  0446677469    33961  Rich Dad's Guide to Investing: What the Rich I...\n\n[33963 rows x 3 columns]",
      "text/html": "<div>\n<style scoped>\n    .dataframe tbody tr th:only-of-type {\n        vertical-align: middle;\n    }\n\n    .dataframe tbody tr th {\n        vertical-align: top;\n    }\n\n    .dataframe thead th {\n        text-align: right;\n    }\n</style>\n<table border=\"1\" class=\"dataframe\">\n  <thead>\n    <tr style=\"text-align: right;\">\n      <th></th>\n      <th>ISBN</th>\n      <th>item_id</th>\n      <th>Title</th>\n    </tr>\n  </thead>\n  <tbody>\n    <tr>\n      <th>0</th>\n      <td>0385094787</td>\n      <td>0</td>\n      <td>Archy and Mehitabel</td>\n    </tr>\n    <tr>\n      <th>1</th>\n      <td>0886773083</td>\n      <td>1</td>\n      <td>The Shattered Chain (Darkover: The Renunciates...</td>\n    </tr>\n    <tr>\n      <th>2</th>\n      <td>0373710291</td>\n      <td>2</td>\n      <td>Cowboy For Clementine (Home On The Ranch) (Har...</td>\n    </tr>\n    <tr>\n      <th>3</th>\n      <td>0802135838</td>\n      <td>3</td>\n      <td>Patient: The True Story of a Rare Illness</td>\n    </tr>\n    <tr>\n      <th>4</th>\n      <td>0684834553</td>\n      <td>4</td>\n      <td>Vineyard Blues : A Martha's Vineyard Mystery</td>\n    </tr>\n    <tr>\n      <th>...</th>\n      <td>...</td>\n      <td>...</td>\n      <td>...</td>\n    </tr>\n    <tr>\n      <th>33958</th>\n      <td>0373708343</td>\n      <td>33957</td>\n      <td>Don'T Mess With Texans  (By The Year 2000:  Re...</td>\n    </tr>\n    <tr>\n      <th>33959</th>\n      <td>0345421884</td>\n      <td>33958</td>\n      <td>Dragonshadow</td>\n    </tr>\n    <tr>\n      <th>33960</th>\n      <td>0380731991</td>\n      <td>33959</td>\n      <td>Cereus Blooms at Night: A Novel</td>\n    </tr>\n    <tr>\n      <th>33961</th>\n      <td>0517580497</td>\n      <td>33960</td>\n      <td>Plains of Passage (Earth's Children)</td>\n    </tr>\n    <tr>\n      <th>33962</th>\n      <td>0446677469</td>\n      <td>33961</td>\n      <td>Rich Dad's Guide to Investing: What the Rich I...</td>\n    </tr>\n  </tbody>\n</table>\n<p>33963 rows × 3 columns</p>\n</div>"
     },
     "execution_count": 19,
     "metadata": {},
     "output_type": "execute_result"
    }
   ],
   "source": [
    "items_titles = pd.merge(items, titles[[\"ISBN\",\"Title\"]], on='ISBN')\n",
    "items_titles"
   ],
   "metadata": {
    "collapsed": false,
    "ExecuteTime": {
     "end_time": "2024-03-20T22:33:06.960023Z",
     "start_time": "2024-03-20T22:33:06.932399Z"
    }
   },
   "id": "e09ad591d8b9fda",
   "execution_count": 19
  },
  {
   "cell_type": "code",
   "outputs": [
    {
     "data": {
      "text/plain": "                                                   Title  Year  \\\n0                                    Archy and Mehitabel  1970   \n1      The Shattered Chain (Darkover: The Renunciates...  1988   \n2      Cowboy For Clementine (Home On The Ranch) (Har...  2001   \n3              Patient: The True Story of a Rare Illness  1998   \n4           Vineyard Blues : A Martha's Vineyard Mystery  2000   \n...                                                  ...   ...   \n33957  Don'T Mess With Texans  (By The Year 2000:  Re...  1999   \n33958                                       Dragonshadow  2000   \n33959                    Cereus Blooms at Night: A Novel  1999   \n33960               Plains of Passage (Earth's Children)  1990   \n33961  Rich Dad's Guide to Investing: What the Rich I...  2000   \n\n                      Author                                       Genres  \\\n0                Don Marquis                               Comedy, Poetry   \n1      Marion Zimmer Bradley                    Science fiction , Fantasy   \n2                Susan Floyd                            Romance , Western   \n3                   Ben Watt  Autobiographical novel , Health and Fitness   \n4            Philip R. Craig                             Mystery, Fiction   \n...                      ...                                          ...   \n33957        Peggy Nicholson                            Romance , Fiction   \n33958         Barbara Hambly                          Fantasy , Adventure   \n33959           Shani Mootoo                              Fiction , Drama   \n33960           Jean M. Auel                Fiction , Prehistoric Fiction   \n33961     Robert T. Kiyosaki                            Business, Finance   \n\n      Language  item_id  \n0      English        0  \n1      English        1  \n2      English        2  \n3      English        3  \n4      English        4  \n...        ...      ...  \n33957  English    33957  \n33958  English    33958  \n33959  English    33959  \n33960  English    33960  \n33961  English    33961  \n\n[33962 rows x 6 columns]",
      "text/html": "<div>\n<style scoped>\n    .dataframe tbody tr th:only-of-type {\n        vertical-align: middle;\n    }\n\n    .dataframe tbody tr th {\n        vertical-align: top;\n    }\n\n    .dataframe thead th {\n        text-align: right;\n    }\n</style>\n<table border=\"1\" class=\"dataframe\">\n  <thead>\n    <tr style=\"text-align: right;\">\n      <th></th>\n      <th>Title</th>\n      <th>Year</th>\n      <th>Author</th>\n      <th>Genres</th>\n      <th>Language</th>\n      <th>item_id</th>\n    </tr>\n  </thead>\n  <tbody>\n    <tr>\n      <th>0</th>\n      <td>Archy and Mehitabel</td>\n      <td>1970</td>\n      <td>Don Marquis</td>\n      <td>Comedy, Poetry</td>\n      <td>English</td>\n      <td>0</td>\n    </tr>\n    <tr>\n      <th>1</th>\n      <td>The Shattered Chain (Darkover: The Renunciates...</td>\n      <td>1988</td>\n      <td>Marion Zimmer Bradley</td>\n      <td>Science fiction , Fantasy</td>\n      <td>English</td>\n      <td>1</td>\n    </tr>\n    <tr>\n      <th>2</th>\n      <td>Cowboy For Clementine (Home On The Ranch) (Har...</td>\n      <td>2001</td>\n      <td>Susan Floyd</td>\n      <td>Romance , Western</td>\n      <td>English</td>\n      <td>2</td>\n    </tr>\n    <tr>\n      <th>3</th>\n      <td>Patient: The True Story of a Rare Illness</td>\n      <td>1998</td>\n      <td>Ben Watt</td>\n      <td>Autobiographical novel , Health and Fitness</td>\n      <td>English</td>\n      <td>3</td>\n    </tr>\n    <tr>\n      <th>4</th>\n      <td>Vineyard Blues : A Martha's Vineyard Mystery</td>\n      <td>2000</td>\n      <td>Philip R. Craig</td>\n      <td>Mystery, Fiction</td>\n      <td>English</td>\n      <td>4</td>\n    </tr>\n    <tr>\n      <th>...</th>\n      <td>...</td>\n      <td>...</td>\n      <td>...</td>\n      <td>...</td>\n      <td>...</td>\n      <td>...</td>\n    </tr>\n    <tr>\n      <th>33957</th>\n      <td>Don'T Mess With Texans  (By The Year 2000:  Re...</td>\n      <td>1999</td>\n      <td>Peggy Nicholson</td>\n      <td>Romance , Fiction</td>\n      <td>English</td>\n      <td>33957</td>\n    </tr>\n    <tr>\n      <th>33958</th>\n      <td>Dragonshadow</td>\n      <td>2000</td>\n      <td>Barbara Hambly</td>\n      <td>Fantasy , Adventure</td>\n      <td>English</td>\n      <td>33958</td>\n    </tr>\n    <tr>\n      <th>33959</th>\n      <td>Cereus Blooms at Night: A Novel</td>\n      <td>1999</td>\n      <td>Shani Mootoo</td>\n      <td>Fiction , Drama</td>\n      <td>English</td>\n      <td>33959</td>\n    </tr>\n    <tr>\n      <th>33960</th>\n      <td>Plains of Passage (Earth's Children)</td>\n      <td>1990</td>\n      <td>Jean M. Auel</td>\n      <td>Fiction , Prehistoric Fiction</td>\n      <td>English</td>\n      <td>33960</td>\n    </tr>\n    <tr>\n      <th>33961</th>\n      <td>Rich Dad's Guide to Investing: What the Rich I...</td>\n      <td>2000</td>\n      <td>Robert T. Kiyosaki</td>\n      <td>Business, Finance</td>\n      <td>English</td>\n      <td>33961</td>\n    </tr>\n  </tbody>\n</table>\n<p>33962 rows × 6 columns</p>\n</div>"
     },
     "execution_count": 38,
     "metadata": {},
     "output_type": "execute_result"
    }
   ],
   "source": [
    "import pandas as pd\n",
    "books = pd.read_csv('../data/books/items_with_attributes.csv',sep=';')\n",
    "books"
   ],
   "metadata": {
    "collapsed": false,
    "ExecuteTime": {
     "end_time": "2024-03-25T20:54:35.062940Z",
     "start_time": "2024-03-25T20:54:34.976335Z"
    }
   },
   "id": "fbe0c219e7666d20",
   "execution_count": 38
  },
  {
   "cell_type": "code",
   "outputs": [],
   "source": [
    "import pandas as pd\n",
    "import json\n",
    "with open('../data/books/train.json', 'r') as f:\n",
    "    train = json.load(f)\n",
    "df = pd.read_csv(\"../data/books/items_with_attributes.csv\",sep=';')\n",
    "import numpy as np"
   ],
   "metadata": {
    "collapsed": false,
    "ExecuteTime": {
     "end_time": "2024-03-28T01:30:56.979309Z",
     "start_time": "2024-03-28T01:30:56.876364Z"
    }
   },
   "id": "92fe6c1572e48b2f",
   "execution_count": 11
  },
  {
   "cell_type": "code",
   "outputs": [
    {
     "data": {
      "text/plain": "<14790x33962 sparse matrix of type '<class 'numpy.int8'>'\n\twith 317111 stored elements in Dictionary Of Keys format>"
     },
     "execution_count": 12,
     "metadata": {},
     "output_type": "execute_result"
    }
   ],
   "source": [
    "# create a function that convert the train dict to a dok matrix \n",
    "from scipy.sparse import dok_matrix\n",
    "def convert_dict_to_dok(dict_, n, m):\n",
    "    dok = dok_matrix((n,m), dtype=np.int8)\n",
    "    for user_id, items in dict_.items():\n",
    "        for item_id in items:\n",
    "            dok[int(user_id), int(item_id)] = 1\n",
    "    return dok\n",
    "# test the function\n",
    "train_dok = convert_dict_to_dok(train, len(train), len(df))\n",
    "train_dok"
   ],
   "metadata": {
    "collapsed": false,
    "ExecuteTime": {
     "end_time": "2024-03-28T01:31:00.591140Z",
     "start_time": "2024-03-28T01:30:57.919630Z"
    }
   },
   "id": "f745056523a896d4",
   "execution_count": 12
  },
  {
   "cell_type": "code",
   "outputs": [],
   "source": [
    "import json\n",
    "import pandas as pd\n",
    "with open('../data/books/test.json', 'r') as f:\n",
    "    train = json.load(f)"
   ],
   "metadata": {
    "collapsed": false,
    "ExecuteTime": {
     "end_time": "2024-03-30T01:10:03.129046Z",
     "start_time": "2024-03-30T01:10:02.676257Z"
    }
   },
   "id": "4766d65f8af04096",
   "execution_count": 1
  },
  {
   "cell_type": "code",
   "outputs": [],
   "source": [
    "# convert the dict to a data frame with two columns user_id and item_id (users while be repeated)\n",
    "def convert_dict_to_df(dict_):\n",
    "    df = pd.DataFrame(columns=['user_id', 'item_id'])\n",
    "    for user_id, items in dict_.items():\n",
    "        for item_id in items:\n",
    "            # use concat to avoid the warning\n",
    "            df = pd.concat([df, pd.DataFrame({'user_id': [int(user_id)], 'item_id': [int(item_id)]})])\n",
    "    return df"
   ],
   "metadata": {
    "collapsed": false,
    "ExecuteTime": {
     "end_time": "2024-03-30T01:10:03.824906Z",
     "start_time": "2024-03-30T01:10:03.820749Z"
    }
   },
   "id": "8ed2d030e6eb55a1",
   "execution_count": 2
  },
  {
   "cell_type": "code",
   "outputs": [],
   "source": [
    "train_df = convert_dict_to_df(train)"
   ],
   "metadata": {
    "collapsed": false,
    "ExecuteTime": {
     "end_time": "2024-03-30T01:10:19.534634Z",
     "start_time": "2024-03-30T01:10:04.998766Z"
    }
   },
   "id": "8ce70299e98f4b32",
   "execution_count": 3
  },
  {
   "cell_type": "code",
   "outputs": [
    {
     "data": {
      "text/plain": "   user_id item_id\n0        0   12457\n0        1   25847\n0        1    1776\n0        1   14988\n0        1   12668\n..     ...     ...\n0     5000    4925\n0     5000    3533\n0     5000   13370\n0     5000    2684\n0     5000   14074\n\n[33106 rows x 2 columns]",
      "text/html": "<div>\n<style scoped>\n    .dataframe tbody tr th:only-of-type {\n        vertical-align: middle;\n    }\n\n    .dataframe tbody tr th {\n        vertical-align: top;\n    }\n\n    .dataframe thead th {\n        text-align: right;\n    }\n</style>\n<table border=\"1\" class=\"dataframe\">\n  <thead>\n    <tr style=\"text-align: right;\">\n      <th></th>\n      <th>user_id</th>\n      <th>item_id</th>\n    </tr>\n  </thead>\n  <tbody>\n    <tr>\n      <th>0</th>\n      <td>0</td>\n      <td>12457</td>\n    </tr>\n    <tr>\n      <th>0</th>\n      <td>1</td>\n      <td>25847</td>\n    </tr>\n    <tr>\n      <th>0</th>\n      <td>1</td>\n      <td>1776</td>\n    </tr>\n    <tr>\n      <th>0</th>\n      <td>1</td>\n      <td>14988</td>\n    </tr>\n    <tr>\n      <th>0</th>\n      <td>1</td>\n      <td>12668</td>\n    </tr>\n    <tr>\n      <th>...</th>\n      <td>...</td>\n      <td>...</td>\n    </tr>\n    <tr>\n      <th>0</th>\n      <td>5000</td>\n      <td>4925</td>\n    </tr>\n    <tr>\n      <th>0</th>\n      <td>5000</td>\n      <td>3533</td>\n    </tr>\n    <tr>\n      <th>0</th>\n      <td>5000</td>\n      <td>13370</td>\n    </tr>\n    <tr>\n      <th>0</th>\n      <td>5000</td>\n      <td>2684</td>\n    </tr>\n    <tr>\n      <th>0</th>\n      <td>5000</td>\n      <td>14074</td>\n    </tr>\n  </tbody>\n</table>\n<p>33106 rows × 2 columns</p>\n</div>"
     },
     "execution_count": 4,
     "metadata": {},
     "output_type": "execute_result"
    }
   ],
   "source": [
    "train_df"
   ],
   "metadata": {
    "collapsed": false,
    "ExecuteTime": {
     "end_time": "2024-03-30T01:10:30.906420Z",
     "start_time": "2024-03-30T01:10:30.894454Z"
    }
   },
   "id": "a41c776095b821c5",
   "execution_count": 4
  },
  {
   "cell_type": "code",
   "outputs": [],
   "source": [
    "train_df.to_csv('../data/books/test_df.csv', index=False)"
   ],
   "metadata": {
    "collapsed": false,
    "ExecuteTime": {
     "end_time": "2024-03-30T01:11:13.436144Z",
     "start_time": "2024-03-30T01:11:13.406432Z"
    }
   },
   "id": "588fba58cdf621c9",
   "execution_count": 5
  },
  {
   "cell_type": "code",
   "outputs": [],
   "source": [
    "def matrix_to_tensor(numpy_matrix):\n",
    "    sparse_tensor = torch.sparse_coo_tensor(torch.from_numpy(np.argwhere(numpy_matrix != 0).T),\n",
    "                                            torch.from_numpy(numpy_matrix[np.nonzero(numpy_matrix)]),\n",
    "                                            numpy_matrix.shape,dtype=torch.float32)\n",
    "    return sparse_tensor\n",
    "\n",
    "\n",
    "def csr_norm(csr_mat, mean_flag=False):  # TODO: check if this function exists in a python library\n",
    "    rowsum = np.array(csr_mat.sum(1))\n",
    "    rowsum = np.power(rowsum + 1e-8, -0.5).flatten()\n",
    "    rowsum[np.isinf(rowsum)] = 0.\n",
    "    rowsum_diag = sp.diags(rowsum)\n",
    "    colsum = np.array(csr_mat.sum(0))\n",
    "    colsum = np.power(colsum + 1e-8, -0.5).flatten()\n",
    "    colsum[np.isinf(colsum)] = 0.\n",
    "    colsum_diag = sp.diags(colsum)\n",
    "    if mean_flag == False:\n",
    "        return rowsum_diag * csr_mat * colsum_diag\n",
    "    else:\n",
    "        return rowsum_diag * csr_mat"
   ],
   "metadata": {
    "collapsed": false
   },
   "id": "9f59b29130e691de"
  },
  {
   "cell_type": "code",
   "outputs": [
    {
     "data": {
      "text/plain": "<13187x17366 sparse matrix of type '<class 'numpy.float64'>'\n\twith 68933 stored elements in Compressed Sparse Row format>"
     },
     "execution_count": 58,
     "metadata": {},
     "output_type": "execute_result"
    }
   ],
   "source": [
    "import pandas as pd\n",
    "data = pd.read_pickle('../data/netflix/train_mat')\n",
    "data"
   ],
   "metadata": {
    "collapsed": false,
    "ExecuteTime": {
     "end_time": "2024-04-11T20:23:19.109891Z",
     "start_time": "2024-04-11T20:23:19.105270Z"
    }
   },
   "id": "b542497274c093d7",
   "execution_count": 58
  },
  {
   "cell_type": "code",
   "outputs": [
    {
     "data": {
      "text/plain": "(13187, 1536)"
     },
     "execution_count": 14,
     "metadata": {},
     "output_type": "execute_result"
    }
   ],
   "source": [
    "data.shape"
   ],
   "metadata": {
    "collapsed": false,
    "ExecuteTime": {
     "end_time": "2024-04-11T19:54:15.445468Z",
     "start_time": "2024-04-11T19:54:15.441402Z"
    }
   },
   "id": "fd8874217b4a5b89",
   "execution_count": 14
  },
  {
   "cell_type": "code",
   "outputs": [],
   "source": [
    "data = pd.read_pickle('../data/netflix/augmented_total_embed_dict')\n"
   ],
   "metadata": {
    "collapsed": false,
    "ExecuteTime": {
     "end_time": "2024-04-11T19:42:16.191947Z",
     "start_time": "2024-04-11T19:42:15.805952Z"
    }
   },
   "id": "a01c1a133b024d93",
   "execution_count": 6
  },
  {
   "cell_type": "code",
   "outputs": [
    {
     "data": {
      "text/plain": "(17366, 1536)"
     },
     "execution_count": 5,
     "metadata": {},
     "output_type": "execute_result"
    }
   ],
   "source": [
    "data[\"year\"].shape"
   ],
   "metadata": {
    "collapsed": false,
    "ExecuteTime": {
     "end_time": "2024-04-11T19:37:46.298612Z",
     "start_time": "2024-04-11T19:37:46.293084Z"
    }
   },
   "id": "6cb76b500796e98a",
   "execution_count": 5
  },
  {
   "cell_type": "code",
   "outputs": [],
   "source": [
    "import numpy as np \n",
    "embeddings_totaux = []\n",
    "for i in range(len(list(data.values())[0])):\n",
    "    total_embedding = np.zeros_like(list(data.values())[0][0])  # Initialisation de l'embedding total\n",
    "    for key, value in data.items():\n",
    "        total_embedding += value[i]  # Ajouter l'embedding de chaque attribut\n",
    "    embeddings_totaux.append(total_embedding)\n",
    "\n",
    "# Créer un DataFrame à partir des embeddings totaux\n",
    "df = pd.DataFrame(embeddings_totaux, columns=range(1536))"
   ],
   "metadata": {
    "collapsed": false,
    "ExecuteTime": {
     "end_time": "2024-04-11T19:49:42.310196Z",
     "start_time": "2024-04-11T19:49:33.118304Z"
    }
   },
   "id": "d1a96661c9db32ca",
   "execution_count": 9
  },
  {
   "cell_type": "code",
   "outputs": [],
   "source": [
    "# read .npz file\n",
    "import numpy as np\n",
    "data = np.load('../data/netflix/adjacency_matrix.npz')\n"
   ],
   "metadata": {
    "collapsed": false,
    "ExecuteTime": {
     "end_time": "2024-04-11T20:15:49.246574Z",
     "start_time": "2024-04-11T20:15:49.242763Z"
    }
   },
   "id": "a1818701f6156309",
   "execution_count": 46
  },
  {
   "cell_type": "code",
   "outputs": [
    {
     "name": "stdout",
     "output_type": "stream",
     "text": [
      "NpzFile '../data/netflix/adjacency_matrix.npz' with keys: indices, indptr, format, shape, data\n"
     ]
    }
   ],
   "source": [
    "# print dimension of the matrix\n",
    "print(data)"
   ],
   "metadata": {
    "collapsed": false,
    "ExecuteTime": {
     "end_time": "2024-04-11T20:15:49.850890Z",
     "start_time": "2024-04-11T20:15:49.847896Z"
    }
   },
   "id": "9e6a8f3dfd7df8a5",
   "execution_count": 47
  },
  {
   "cell_type": "code",
   "outputs": [
    {
     "data": {
      "text/plain": "numpy.lib.npyio.NpzFile"
     },
     "execution_count": 48,
     "metadata": {},
     "output_type": "execute_result"
    }
   ],
   "source": [
    "type(data)\n"
   ],
   "metadata": {
    "collapsed": false,
    "ExecuteTime": {
     "end_time": "2024-04-11T20:15:51.280063Z",
     "start_time": "2024-04-11T20:15:51.275414Z"
    }
   },
   "id": "1bde09270a39d11b",
   "execution_count": 48
  },
  {
   "cell_type": "code",
   "outputs": [],
   "source": [
    "# Extraire les données nécessaires\n",
    "import scipy.sparse as sp\n",
    "indices = data['indices']\n",
    "indptr = data['indptr']\n",
    "shape = tuple(data['shape'])\n",
    "data_sparse = data['data']\n",
    "format_sparse = data['format']\n",
    "\n",
    "# Créer une matrice creuse en utilisant les données extraites\n",
    "embedding_total_sparse = sp.csr_matrix((data_sparse, indices, indptr), shape=shape)"
   ],
   "metadata": {
    "collapsed": false,
    "ExecuteTime": {
     "end_time": "2024-04-11T20:15:58.869723Z",
     "start_time": "2024-04-11T20:15:57.925220Z"
    }
   },
   "id": "8d64a4d8d7a92d47",
   "execution_count": 49
  },
  {
   "cell_type": "code",
   "outputs": [
    {
     "data": {
      "text/plain": "(30553, 30553)"
     },
     "execution_count": 50,
     "metadata": {},
     "output_type": "execute_result"
    }
   ],
   "source": [
    "embedding_total_sparse.shape"
   ],
   "metadata": {
    "collapsed": false,
    "ExecuteTime": {
     "end_time": "2024-04-11T20:16:20.220403Z",
     "start_time": "2024-04-11T20:16:20.216135Z"
    }
   },
   "id": "3cebe127d637e196",
   "execution_count": 50
  },
  {
   "cell_type": "code",
   "outputs": [
    {
     "data": {
      "text/plain": "<30553x30553 sparse matrix of type '<class 'numpy.float64'>'\n\twith 168419 stored elements in Compressed Sparse Row format>"
     },
     "execution_count": 51,
     "metadata": {},
     "output_type": "execute_result"
    }
   ],
   "source": [
    "embedding_total_sparse\n"
   ],
   "metadata": {
    "collapsed": false,
    "ExecuteTime": {
     "end_time": "2024-04-11T20:16:27.324482Z",
     "start_time": "2024-04-11T20:16:27.319581Z"
    }
   },
   "id": "a012469fd2020262",
   "execution_count": 51
  },
  {
   "cell_type": "code",
   "outputs": [],
   "source": [
    "coo = embedding_total_sparse.tocoo()\n",
    "values = coo.data\n",
    "indices = torch.LongTensor([coo.row, coo.col])\n",
    "shape = torch.Size(coo.shape)\n",
    "sparse_tensor = torch.sparse_coo_tensor(indices, values, shape)"
   ],
   "metadata": {
    "collapsed": false,
    "ExecuteTime": {
     "end_time": "2024-04-11T20:23:47.644983Z",
     "start_time": "2024-04-11T20:23:47.585133Z"
    }
   },
   "id": "9af01745247d25ca",
   "execution_count": 59
  },
  {
   "cell_type": "code",
   "outputs": [],
   "source": [
    "coo = data.tocoo()\n",
    "\n",
    "# Convert the row and column indices to a single NumPy array\n",
    "indices = np.vstack((coo.row, coo.col))\n",
    "\n",
    "# Convert the NumPy array to a PyTorch tensor\n",
    "indices = torch.LongTensor(indices)\n",
    "\n",
    "values = torch.FloatTensor(coo.data)\n",
    "shape = torch.Size(coo.shape)\n",
    "sparse_tensor = torch.sparse_coo_tensor(indices, values, shape)"
   ],
   "metadata": {
    "collapsed": false,
    "ExecuteTime": {
     "end_time": "2024-04-11T20:18:18.699578Z",
     "start_time": "2024-04-11T20:18:18.692957Z"
    }
   },
   "id": "a1534cfbccbd8f59",
   "execution_count": 53
  },
  {
   "cell_type": "code",
   "outputs": [
    {
     "data": {
      "text/plain": "tensor(indices=tensor([[    0,     0,     0,  ..., 30550, 30551, 30552],\n                       [    0, 17942, 22253,  ..., 30550, 30551, 30552]]),\n       values=tensor([0.1667, 0.1667, 0.1667,  ..., 1.0000, 1.0000, 1.0000]),\n       size=(30553, 30553), nnz=168419, layout=torch.sparse_coo)"
     },
     "execution_count": 54,
     "metadata": {},
     "output_type": "execute_result"
    }
   ],
   "source": [
    "sparse_tensor"
   ],
   "metadata": {
    "collapsed": false,
    "ExecuteTime": {
     "end_time": "2024-04-11T20:18:24.769309Z",
     "start_time": "2024-04-11T20:18:24.762607Z"
    }
   },
   "id": "8a6d3ad4376e188c",
   "execution_count": 54
  },
  {
   "cell_type": "code",
   "outputs": [
    {
     "data": {
      "text/plain": "torch.Size([30553, 30553])"
     },
     "execution_count": 55,
     "metadata": {},
     "output_type": "execute_result"
    }
   ],
   "source": [
    "sparse_tensor.shape"
   ],
   "metadata": {
    "collapsed": false,
    "ExecuteTime": {
     "end_time": "2024-04-11T20:18:35.907670Z",
     "start_time": "2024-04-11T20:18:35.901539Z"
    }
   },
   "id": "c2617630b178db2b",
   "execution_count": 55
  },
  {
   "cell_type": "code",
   "outputs": [],
   "source": [
    "# save the sparse tensor\n",
    "torch.save(sparse_tensor, '../data/netflix/adjacency_matrix.pt')"
   ],
   "metadata": {
    "collapsed": false,
    "ExecuteTime": {
     "end_time": "2024-04-11T20:19:12.773131Z",
     "start_time": "2024-04-11T20:19:12.762615Z"
    }
   },
   "id": "f9a3ac6f5bcf77b7",
   "execution_count": 56
  },
  {
   "cell_type": "code",
   "outputs": [
    {
     "data": {
      "text/plain": "<13187x17366 sparse matrix of type '<class 'numpy.float64'>'\n\twith 68933 stored elements in Compressed Sparse Row format>"
     },
     "execution_count": 60,
     "metadata": {},
     "output_type": "execute_result"
    }
   ],
   "source": [
    "import pandas as pd\n",
    "data = pd.read_pickle('../data/netflix/train_mat')\n",
    "data"
   ],
   "metadata": {
    "collapsed": false,
    "ExecuteTime": {
     "end_time": "2024-04-11T20:24:02.405556Z",
     "start_time": "2024-04-11T20:24:02.400522Z"
    }
   },
   "id": "2a894e20853c912d",
   "execution_count": 60
  },
  {
   "cell_type": "code",
   "outputs": [],
   "source": [
    "coo = data.tocoo()\n",
    "\n",
    "# Convert the row and column indices to a single NumPy array\n",
    "indices = np.vstack((coo.row, coo.col))\n",
    "\n",
    "# Convert the NumPy array to a PyTorch tensor\n",
    "indices = torch.LongTensor(indices)\n",
    "\n",
    "values = torch.FloatTensor(coo.data)\n",
    "shape = torch.Size(coo.shape)\n",
    "sparse_tensor = torch.sparse_coo_tensor(indices, values, shape)"
   ],
   "metadata": {
    "collapsed": false,
    "ExecuteTime": {
     "end_time": "2024-04-11T20:24:15.162157Z",
     "start_time": "2024-04-11T20:24:15.157336Z"
    }
   },
   "id": "62e8a91727b4230e",
   "execution_count": 61
  },
  {
   "cell_type": "code",
   "outputs": [
    {
     "data": {
      "text/plain": "torch.Size([13187, 17366])"
     },
     "execution_count": 62,
     "metadata": {},
     "output_type": "execute_result"
    }
   ],
   "source": [
    "sparse_tensor.shape"
   ],
   "metadata": {
    "collapsed": false,
    "ExecuteTime": {
     "end_time": "2024-04-11T20:24:20.655843Z",
     "start_time": "2024-04-11T20:24:20.651214Z"
    }
   },
   "id": "a0c2bb35bf637461",
   "execution_count": 62
  },
  {
   "cell_type": "code",
   "outputs": [],
   "source": [
    "# save the sparse tensor\n",
    "torch.save(sparse_tensor, '../data/netflix/train_matrix.pt')"
   ],
   "metadata": {
    "collapsed": false,
    "ExecuteTime": {
     "end_time": "2024-04-11T20:25:26.112344Z",
     "start_time": "2024-04-11T20:25:26.106836Z"
    }
   },
   "id": "92110c75e525534b",
   "execution_count": 63
  },
  {
   "cell_type": "code",
   "outputs": [],
   "source": [],
   "metadata": {
    "collapsed": false
   },
   "id": "721f56567dd2e18d"
  }
 ],
 "metadata": {
  "kernelspec": {
   "display_name": "Python 3",
   "language": "python",
   "name": "python3"
  },
  "language_info": {
   "codemirror_mode": {
    "name": "ipython",
    "version": 2
   },
   "file_extension": ".py",
   "mimetype": "text/x-python",
   "name": "python",
   "nbconvert_exporter": "python",
   "pygments_lexer": "ipython2",
   "version": "2.7.6"
  }
 },
 "nbformat": 4,
 "nbformat_minor": 5
}
