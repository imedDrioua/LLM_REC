{
 "cells": [
  {
   "cell_type": "code",
   "execution_count": 1,
   "id": "initial_id",
   "metadata": {
    "collapsed": true,
    "ExecuteTime": {
     "end_time": "2024-04-07T20:56:33.695248Z",
     "start_time": "2024-04-07T20:56:30.825994Z"
    }
   },
   "outputs": [],
   "source": [
    "import pandas as pd\n",
    "\n",
    "from src.data_loader.data_loader import BooksDataset\n",
    "from src.models.mm_model import MmModel\n",
    "from src.train import Trainer\n",
    "import torch"
   ]
  },
  {
   "cell_type": "code",
   "outputs": [],
   "source": [
    "device = torch.device(\"cuda\" if torch.cuda.is_available() else \"cpu\")"
   ],
   "metadata": {
    "collapsed": false,
    "ExecuteTime": {
     "end_time": "2024-04-07T20:56:33.699621Z",
     "start_time": "2024-04-07T20:56:33.696348Z"
    }
   },
   "id": "61317a2fbf783557",
   "execution_count": 2
  },
  {
   "cell_type": "code",
   "outputs": [],
   "source": [
    "dataset = BooksDataset(data_dir=\"../data/books\")"
   ],
   "metadata": {
    "collapsed": false,
    "ExecuteTime": {
     "end_time": "2024-04-07T20:56:34.745729Z",
     "start_time": "2024-04-07T20:56:34.444068Z"
    }
   },
   "id": "ee13077813f83521",
   "execution_count": 3
  },
  {
   "cell_type": "code",
   "outputs": [
    {
     "data": {
      "text/plain": "MmModel(\n  (E0): Embedding(48752, 128)\n  (text_feat): Linear(in_features=1024, out_features=128, bias=True)\n  (text_feat_dropout): Dropout(p=0.1, inplace=False)\n  (image_feat): Linear(in_features=1024, out_features=128, bias=True)\n  (image_feat_dropout): Dropout(p=0.1, inplace=False)\n  (user_profiles): Linear(in_features=768, out_features=128, bias=True)\n  (user_profiles_dropout): Dropout(p=0.1, inplace=False)\n  (book_attributes): Linear(in_features=768, out_features=128, bias=True)\n  (book_attributes_dropout): Dropout(p=0.1, inplace=False)\n)"
     },
     "execution_count": 4,
     "metadata": {},
     "output_type": "execute_result"
    }
   ],
   "source": [
    "model = MmModel(n_users=dataset.n_users,n_items=dataset.n_items,adjacency_matrix=dataset.get_dataset(\"adjacency_matrix\"),interactions= dataset.get_dataset(\"interactions\") ,image_embeddings_data=dataset.get_dataset(\"images\"),text_embeddings_data=dataset.get_dataset(\"text\"),embed_size=128,n_layers=3,user_profiles_data=dataset.get_dataset(\"user_profiles\"),book_attributes_data=dataset.get_dataset(\"books_attributes\"))\n",
    "model.to(device)"
   ],
   "metadata": {
    "collapsed": false,
    "ExecuteTime": {
     "end_time": "2024-04-07T20:56:35.111066Z",
     "start_time": "2024-04-07T20:56:34.763364Z"
    }
   },
   "id": "fd0ffa6e74bd6c03",
   "execution_count": 4
  },
  {
   "cell_type": "code",
   "outputs": [],
   "source": [
    "trainer = Trainer(model=model,dataset=dataset,lr=0.005)"
   ],
   "metadata": {
    "collapsed": false,
    "ExecuteTime": {
     "end_time": "2024-04-07T20:56:37.597185Z",
     "start_time": "2024-04-07T20:56:35.954097Z"
    }
   },
   "id": "e7d567a61f623434",
   "execution_count": 5
  },
  {
   "cell_type": "code",
   "outputs": [
    {
     "name": "stderr",
     "output_type": "stream",
     "text": [
      "100%|██████████| 15/15 [00:05<00:00,  2.87it/s]\n",
      "100%|██████████| 1/1 [00:17<00:00, 17.38s/it]\n"
     ]
    },
    {
     "name": "stdout",
     "output_type": "stream",
     "text": [
      "{'precision': array([0.0071  , 0.005725, 0.00448 ]), 'recall': array([0.01007669, 0.01545939, 0.02780003]), 'ndcg': array([0.02703461, 0.03381015, 0.04744178]), 'hit_ratio': array([0.0575, 0.0825, 0.1275]), 'auc': 0.0}\n",
      "Epoch 0 Loss 88.86294682820638 Time 22.830434799194336\n"
     ]
    },
    {
     "name": "stderr",
     "output_type": "stream",
     "text": [
      "100%|██████████| 15/15 [00:04<00:00,  3.04it/s]\n",
      "100%|██████████| 1/1 [00:18<00:00, 18.85s/it]\n"
     ]
    },
    {
     "name": "stdout",
     "output_type": "stream",
     "text": [
      "{'precision': array([0.00985, 0.0079 , 0.00544]), 'recall': array([0.0163394 , 0.02725497, 0.04636342]), 'ndcg': array([0.03905457, 0.04905186, 0.06384936]), 'hit_ratio': array([0.0815, 0.1165, 0.165 ]), 'auc': 0.0}\n",
      "Epoch 1 Loss 9.569678656260173 Time 23.99320340156555\n"
     ]
    },
    {
     "name": "stderr",
     "output_type": "stream",
     "text": [
      "100%|██████████| 15/15 [00:05<00:00,  2.93it/s]\n",
      "100%|██████████| 1/1 [00:17<00:00, 17.67s/it]\n"
     ]
    },
    {
     "name": "stdout",
     "output_type": "stream",
     "text": [
      "{'precision': array([0.0087 , 0.0074 , 0.00558]), 'recall': array([0.01529628, 0.02542705, 0.04753287]), 'ndcg': array([0.03460715, 0.04484972, 0.06210806]), 'hit_ratio': array([0.074 , 0.1095, 0.169 ]), 'auc': 0.0}\n",
      "Epoch 2 Loss 4.300299978256225 Time 22.993314266204834\n"
     ]
    },
    {
     "name": "stderr",
     "output_type": "stream",
     "text": [
      "100%|██████████| 15/15 [00:05<00:00,  2.87it/s]\n",
      "100%|██████████| 1/1 [00:18<00:00, 18.09s/it]\n"
     ]
    },
    {
     "name": "stdout",
     "output_type": "stream",
     "text": [
      "{'precision': array([0.0092  , 0.007475, 0.00552 ]), 'recall': array([0.01662056, 0.02772745, 0.05178429]), 'ndcg': array([0.03466605, 0.04483455, 0.061672  ]), 'hit_ratio': array([0.078, 0.115, 0.172]), 'auc': 0.0}\n",
      "Epoch 3 Loss 4.410169967015585 Time 23.544707536697388\n"
     ]
    },
    {
     "name": "stderr",
     "output_type": "stream",
     "text": [
      "100%|██████████| 15/15 [00:04<00:00,  3.00it/s]\n",
      "100%|██████████| 1/1 [00:18<00:00, 18.26s/it]\n"
     ]
    },
    {
     "name": "stdout",
     "output_type": "stream",
     "text": [
      "{'precision': array([0.01025, 0.0077 , 0.00577]), 'recall': array([0.01931972, 0.03041069, 0.0554625 ]), 'ndcg': array([0.03968843, 0.04873389, 0.06717434]), 'hit_ratio': array([0.085 , 0.1155, 0.186 ]), 'auc': 0.0}\n",
      "Epoch 4 Loss 3.9063353379567465 Time 23.46857523918152\n"
     ]
    },
    {
     "name": "stderr",
     "output_type": "stream",
     "text": [
      "100%|██████████| 15/15 [00:05<00:00,  2.99it/s]\n",
      "100%|██████████| 1/1 [00:18<00:00, 18.30s/it]\n"
     ]
    },
    {
     "name": "stdout",
     "output_type": "stream",
     "text": [
      "{'precision': array([0.01065 , 0.009025, 0.00667 ]), 'recall': array([0.0218447 , 0.03447718, 0.06362671]), 'ndcg': array([0.03794911, 0.05009674, 0.06983708]), 'hit_ratio': array([0.0895, 0.132 , 0.1995]), 'auc': 0.0}\n",
      "Epoch 5 Loss 3.6012551466623943 Time 23.54867649078369\n"
     ]
    },
    {
     "name": "stderr",
     "output_type": "stream",
     "text": [
      "100%|██████████| 15/15 [00:05<00:00,  2.92it/s]\n",
      "100%|██████████| 1/1 [00:19<00:00, 19.05s/it]\n"
     ]
    },
    {
     "name": "stdout",
     "output_type": "stream",
     "text": [
      "{'precision': array([0.0117  , 0.009925, 0.00702 ]), 'recall': array([0.02275981, 0.0377526 , 0.06468567]), 'ndcg': array([0.0410974 , 0.05472485, 0.07447643]), 'hit_ratio': array([0.095 , 0.1415, 0.2095]), 'auc': 0.0}\n",
      "Epoch 6 Loss 3.6178314367930096 Time 24.392152070999146\n"
     ]
    },
    {
     "name": "stderr",
     "output_type": "stream",
     "text": [
      "100%|██████████| 15/15 [00:05<00:00,  2.98it/s]\n",
      "100%|██████████| 1/1 [00:17<00:00, 17.99s/it]\n"
     ]
    },
    {
     "name": "stdout",
     "output_type": "stream",
     "text": [
      "{'precision': array([0.0122  , 0.010025, 0.007   ]), 'recall': array([0.02311014, 0.0374351 , 0.06730164]), 'ndcg': array([0.04426012, 0.05737085, 0.07724212]), 'hit_ratio': array([0.1005, 0.1435, 0.213 ]), 'auc': 0.0}\n",
      "Epoch 7 Loss 4.2082620620727536 Time 23.256929636001587\n"
     ]
    },
    {
     "name": "stderr",
     "output_type": "stream",
     "text": [
      "100%|██████████| 15/15 [00:05<00:00,  2.95it/s]\n",
      "100%|██████████| 1/1 [00:18<00:00, 18.71s/it]\n"
     ]
    },
    {
     "name": "stdout",
     "output_type": "stream",
     "text": [
      "{'precision': array([0.01155 , 0.010225, 0.00717 ]), 'recall': array([0.02094473, 0.03906412, 0.06877693]), 'ndcg': array([0.04124796, 0.05678427, 0.07681142]), 'hit_ratio': array([0.093, 0.148, 0.215]), 'auc': 0.0}\n",
      "Epoch 8 Loss 3.6105868180592853 Time 23.997808933258057\n"
     ]
    },
    {
     "name": "stderr",
     "output_type": "stream",
     "text": [
      "100%|██████████| 15/15 [00:04<00:00,  3.01it/s]\n",
      "100%|██████████| 1/1 [00:18<00:00, 18.37s/it]"
     ]
    },
    {
     "name": "stdout",
     "output_type": "stream",
     "text": [
      "{'precision': array([0.01145, 0.0102 , 0.00737]), 'recall': array([0.01879762, 0.0398198 , 0.07323002]), 'ndcg': array([0.03998525, 0.05539494, 0.07710433]), 'hit_ratio': array([0.092 , 0.1485, 0.2225]), 'auc': 0.0}\n",
      "Epoch 9 Loss 4.678288062413533 Time 23.573596715927124\n"
     ]
    },
    {
     "name": "stderr",
     "output_type": "stream",
     "text": [
      "\n"
     ]
    }
   ],
   "source": [
    "trainer.train(epochs=10,batch_size=1024)"
   ],
   "metadata": {
    "collapsed": false,
    "ExecuteTime": {
     "end_time": "2024-04-07T21:00:33.830134Z",
     "start_time": "2024-04-07T20:56:38.226848Z"
    }
   },
   "id": "77c25e8e9577ae11",
   "execution_count": 6
  },
  {
   "cell_type": "code",
   "outputs": [],
   "source": [
    "import torch\n",
    "import  pandas as pd\n",
    "\n",
    "data = pd.read_pickle(\"../data/books/train_matrix.pkl\")"
   ],
   "metadata": {
    "collapsed": false,
    "ExecuteTime": {
     "end_time": "2024-03-31T00:03:37.160136Z",
     "start_time": "2024-03-31T00:03:35.964556Z"
    }
   },
   "id": "3f49d5248ad0e28a",
   "execution_count": 2
  },
  {
   "cell_type": "code",
   "outputs": [],
   "source": [
    "import numpy as np\n",
    "import scipy.sparse as sp\n",
    "def matrix_to_tensor(numpy_matrix):\n",
    "    sparse_tensor = torch.sparse_coo_tensor(torch.from_numpy(np.argwhere(numpy_matrix != 0).T),\n",
    "                                            torch.from_numpy(numpy_matrix[np.nonzero(numpy_matrix)]),\n",
    "                                            numpy_matrix.shape,dtype=torch.float32)\n",
    "    return sparse_tensor\n",
    "\n",
    "\n",
    "def csr_norm(csr_mat, mean_flag=False):  # TODO: check if this function exists in a python library\n",
    "    rowsum = np.array(csr_mat.sum(1))\n",
    "    rowsum = np.power(rowsum + 1e-8, -0.5).flatten()\n",
    "    rowsum[np.isinf(rowsum)] = 0.\n",
    "    rowsum_diag = sp.diags(rowsum)\n",
    "    colsum = np.array(csr_mat.sum(0))\n",
    "    colsum = np.power(colsum + 1e-8, -0.5).flatten()\n",
    "    colsum[np.isinf(colsum)] = 0.\n",
    "    colsum_diag = sp.diags(colsum)\n",
    "    if mean_flag == False:\n",
    "        return rowsum_diag * csr_mat * colsum_diag\n",
    "    else:\n",
    "        return rowsum_diag * csr_mat"
   ],
   "metadata": {
    "collapsed": false,
    "ExecuteTime": {
     "end_time": "2024-03-31T00:03:53.677057Z",
     "start_time": "2024-03-31T00:03:53.545409Z"
    }
   },
   "id": "841c1209973130c2",
   "execution_count": 4
  },
  {
   "cell_type": "code",
   "outputs": [],
   "source": [
    "data = matrix_to_tensor(csr_norm(data))"
   ],
   "metadata": {
    "collapsed": false,
    "ExecuteTime": {
     "end_time": "2024-03-31T00:04:36.786260Z",
     "start_time": "2024-03-31T00:04:03.797937Z"
    }
   },
   "id": "f5bb723a02aff91d",
   "execution_count": 5
  },
  {
   "cell_type": "code",
   "outputs": [],
   "source": [
    "# save the tensor\n",
    "torch.save(data, \"../data/books/train_matrix.pt\")"
   ],
   "metadata": {
    "collapsed": false,
    "ExecuteTime": {
     "end_time": "2024-03-31T00:04:45.364655Z",
     "start_time": "2024-03-31T00:04:45.347120Z"
    }
   },
   "id": "30e911882b9de1a",
   "execution_count": 6
  },
  {
   "cell_type": "code",
   "outputs": [],
   "source": [
    "import json\n",
    "with open(\"../data/books/test.json\", \"r\") as f:\n",
    "    test = json.load(f)"
   ],
   "metadata": {
    "collapsed": false,
    "ExecuteTime": {
     "end_time": "2024-03-31T00:32:30.993302Z",
     "start_time": "2024-03-31T00:32:30.983714Z"
    }
   },
   "id": "b8ea0dd61b1db7c4",
   "execution_count": 7
  },
  {
   "cell_type": "code",
   "outputs": [],
   "source": [
    "# create 2000 user dict\n",
    "user_dict = {}\n",
    "for i in range(2000):\n",
    "    user_dict[i] = test[str(i)]\n",
    "# save the user dict\n",
    "with open(\"../data/books/test.json\", \"w\") as f:\n",
    "    json.dump(user_dict, f)\n",
    "\n"
   ],
   "metadata": {
    "collapsed": false,
    "ExecuteTime": {
     "end_time": "2024-03-31T00:34:27.353081Z",
     "start_time": "2024-03-31T00:34:27.332623Z"
    }
   },
   "id": "f5c2657b1806267c",
   "execution_count": 11
  },
  {
   "cell_type": "code",
   "outputs": [],
   "source": [
    "import json\n",
    "with open(\"../data/books/augmented_interactions_dict.json\", \"r\") as f:\n",
    "    data = json.load(f)"
   ],
   "metadata": {
    "collapsed": false,
    "ExecuteTime": {
     "end_time": "2024-04-05T22:42:18.588107Z",
     "start_time": "2024-04-05T22:42:18.570419Z"
    }
   },
   "id": "372c91cda2d20a1f",
   "execution_count": 49
  },
  {
   "cell_type": "code",
   "outputs": [],
   "source": [
    "# convert all lists items to int and save the dict\n",
    "mauvais = {}\n",
    "for key in data.keys():\n",
    "    if type(data[key][0]) != int or type(data[key][1]) != int:\n",
    "        mauvais[key] = data[key]\n",
    "\n",
    "    "
   ],
   "metadata": {
    "collapsed": false,
    "ExecuteTime": {
     "end_time": "2024-04-05T22:42:28.467293Z",
     "start_time": "2024-04-05T22:42:28.459281Z"
    }
   },
   "id": "bc97fda7c42e5152",
   "execution_count": 51
  }
 ],
 "metadata": {
  "kernelspec": {
   "display_name": "Python 3",
   "language": "python",
   "name": "python3"
  },
  "language_info": {
   "codemirror_mode": {
    "name": "ipython",
    "version": 2
   },
   "file_extension": ".py",
   "mimetype": "text/x-python",
   "name": "python",
   "nbconvert_exporter": "python",
   "pygments_lexer": "ipython2",
   "version": "2.7.6"
  }
 },
 "nbformat": 4,
 "nbformat_minor": 5
}
