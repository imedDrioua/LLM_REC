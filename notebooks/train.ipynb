{
 "cells": [
  {
   "cell_type": "code",
   "execution_count": 2,
   "id": "initial_id",
   "metadata": {
    "collapsed": true,
    "ExecuteTime": {
     "end_time": "2024-04-05T21:52:23.301115Z",
     "start_time": "2024-04-05T21:52:22.701245Z"
    }
   },
   "outputs": [],
   "source": [
    "import pandas as pd\n",
    "\n",
    "from src.data_loader.data_loader import BooksDataset\n",
    "from src.models.mm_model import MmModel\n",
    "from src.train import Trainer\n",
    "import torch"
   ]
  },
  {
   "cell_type": "code",
   "outputs": [],
   "source": [
    "device = torch.device(\"cuda\" if torch.cuda.is_available() else \"cpu\")"
   ],
   "metadata": {
    "collapsed": false,
    "ExecuteTime": {
     "end_time": "2024-04-05T21:52:24.079426Z",
     "start_time": "2024-04-05T21:52:24.074931Z"
    }
   },
   "id": "61317a2fbf783557",
   "execution_count": 3
  },
  {
   "cell_type": "code",
   "outputs": [],
   "source": [
    "dataset = BooksDataset(data_dir=\"../data/books\")"
   ],
   "metadata": {
    "collapsed": false,
    "ExecuteTime": {
     "end_time": "2024-04-05T21:52:26.527459Z",
     "start_time": "2024-04-05T21:52:24.755589Z"
    }
   },
   "id": "ee13077813f83521",
   "execution_count": 4
  },
  {
   "cell_type": "code",
   "outputs": [
    {
     "data": {
      "text/plain": "MmModel(\n  (E0): Embedding(48752, 128)\n  (text_feat): Linear(in_features=1024, out_features=128, bias=True)\n  (text_feat_dropout): Dropout(p=0.2, inplace=False)\n  (image_feat): Linear(in_features=1024, out_features=128, bias=True)\n  (image_feat_dropout): Dropout(p=0.2, inplace=False)\n  (user_profiles): Linear(in_features=768, out_features=128, bias=True)\n  (user_profiles_dropout): Dropout(p=0.2, inplace=False)\n  (book_attributes): Linear(in_features=768, out_features=128, bias=True)\n  (book_attributes_dropout): Dropout(p=0.2, inplace=False)\n)"
     },
     "execution_count": 5,
     "metadata": {},
     "output_type": "execute_result"
    }
   ],
   "source": [
    "model = MmModel(n_users=dataset.n_users,n_items=dataset.n_items,adjacency_matrix=dataset.get_dataset(\"adjacency_matrix\"),interactions= dataset.get_dataset(\"interactions\") ,image_embeddings_data=dataset.get_dataset(\"images\"),text_embeddings_data=dataset.get_dataset(\"text\"),embed_size=128,n_layers=3,user_profiles_data=dataset.get_dataset(\"user_profiles\"),book_attributes_data=dataset.get_dataset(\"books_attributes\"))\n",
    "model.to(device)"
   ],
   "metadata": {
    "collapsed": false,
    "ExecuteTime": {
     "end_time": "2024-04-05T21:52:30.093431Z",
     "start_time": "2024-04-05T21:52:29.505697Z"
    }
   },
   "id": "fd0ffa6e74bd6c03",
   "execution_count": 5
  },
  {
   "cell_type": "code",
   "outputs": [],
   "source": [
    "trainer = Trainer(model=model,dataset=dataset,lr=0.01)"
   ],
   "metadata": {
    "collapsed": false,
    "ExecuteTime": {
     "end_time": "2024-04-05T21:52:34.097647Z",
     "start_time": "2024-04-05T21:52:31.899029Z"
    }
   },
   "id": "e7d567a61f623434",
   "execution_count": 6
  },
  {
   "cell_type": "code",
   "outputs": [
    {
     "name": "stderr",
     "output_type": "stream",
     "text": [
      "100%|██████████| 15/15 [00:06<00:00,  2.36it/s]\n",
      "100%|██████████| 1/1 [00:21<00:00, 21.28s/it]\n"
     ]
    },
    {
     "name": "stdout",
     "output_type": "stream",
     "text": [
      "{'precision': array([0.0031 , 0.0024 , 0.00171]), 'recall': array([0.00307618, 0.00589307, 0.01184239]), 'ndcg': array([0.01337923, 0.01705062, 0.02296211]), 'hit_ratio': array([0.027 , 0.04  , 0.0645]), 'auc': 0.0}\n",
      "Epoch 0 Loss 448.20237884521487 Time 27.889414072036743\n"
     ]
    },
    {
     "name": "stderr",
     "output_type": "stream",
     "text": [
      "100%|██████████| 15/15 [00:05<00:00,  2.78it/s]\n",
      "  0%|          | 0/1 [00:21<?, ?it/s]\n"
     ]
    },
    {
     "ename": "KeyboardInterrupt",
     "evalue": "",
     "output_type": "error",
     "traceback": [
      "\u001B[1;31m---------------------------------------------------------------------------\u001B[0m",
      "\u001B[1;31mKeyboardInterrupt\u001B[0m                         Traceback (most recent call last)",
      "Cell \u001B[1;32mIn[7], line 1\u001B[0m\n\u001B[1;32m----> 1\u001B[0m \u001B[43mtrainer\u001B[49m\u001B[38;5;241;43m.\u001B[39;49m\u001B[43mtrain\u001B[49m\u001B[43m(\u001B[49m\u001B[43mepochs\u001B[49m\u001B[38;5;241;43m=\u001B[39;49m\u001B[38;5;241;43m10\u001B[39;49m\u001B[43m,\u001B[49m\u001B[43mbatch_size\u001B[49m\u001B[38;5;241;43m=\u001B[39;49m\u001B[38;5;241;43m1024\u001B[39;49m\u001B[43m)\u001B[49m\n",
      "File \u001B[1;32m~\\Desktop\\LLMrec_ppd\\src\\train.py:119\u001B[0m, in \u001B[0;36mTrainer.train\u001B[1;34m(self, epochs, batch_size)\u001B[0m\n\u001B[0;32m    117\u001B[0m \u001B[38;5;28;01mdel\u001B[39;00m embeddings_dict\n\u001B[0;32m    118\u001B[0m test_users \u001B[38;5;241m=\u001B[39m \u001B[38;5;28mself\u001B[39m\u001B[38;5;241m.\u001B[39mdataset\u001B[38;5;241m.\u001B[39mget_dataset(\u001B[38;5;124m'\u001B[39m\u001B[38;5;124mtest_dict\u001B[39m\u001B[38;5;124m'\u001B[39m)\n\u001B[1;32m--> 119\u001B[0m evaluation_results \u001B[38;5;241m=\u001B[39m \u001B[38;5;28;43mself\u001B[39;49m\u001B[38;5;241;43m.\u001B[39;49m\u001B[43mevaluate\u001B[49m\u001B[43m(\u001B[49m\u001B[43mtest_users\u001B[49m\u001B[43m)\u001B[49m\n\u001B[0;32m    120\u001B[0m \u001B[38;5;28mprint\u001B[39m(evaluation_results)\n\u001B[0;32m    121\u001B[0m \u001B[38;5;28mprint\u001B[39m(\u001B[38;5;124mf\u001B[39m\u001B[38;5;124m'\u001B[39m\u001B[38;5;124mEpoch \u001B[39m\u001B[38;5;132;01m{\u001B[39;00mepoch\u001B[38;5;132;01m}\u001B[39;00m\u001B[38;5;124m Loss \u001B[39m\u001B[38;5;132;01m{\u001B[39;00mloss\u001B[38;5;250m \u001B[39m\u001B[38;5;241m/\u001B[39m\u001B[38;5;250m \u001B[39mn_batch\u001B[38;5;132;01m}\u001B[39;00m\u001B[38;5;124m Time \u001B[39m\u001B[38;5;132;01m{\u001B[39;00mtime()\u001B[38;5;250m \u001B[39m\u001B[38;5;241m-\u001B[39m\u001B[38;5;250m \u001B[39mstart\u001B[38;5;132;01m}\u001B[39;00m\u001B[38;5;124m'\u001B[39m)\n",
      "File \u001B[1;32m~\\Desktop\\LLMrec_ppd\\src\\train.py:135\u001B[0m, in \u001B[0;36mTrainer.evaluate\u001B[1;34m(self, test_users)\u001B[0m\n\u001B[0;32m    132\u001B[0m \u001B[38;5;28;01mwith\u001B[39;00m torch\u001B[38;5;241m.\u001B[39mno_grad():\n\u001B[0;32m    133\u001B[0m     user_embeddings, item_embeddings, _, _, _, _, _, _, _, _ \u001B[38;5;241m=\u001B[39m \u001B[38;5;28mself\u001B[39m\u001B[38;5;241m.\u001B[39mmodel\u001B[38;5;241m.\u001B[39mpropagate()\n\u001B[1;32m--> 135\u001B[0m     \u001B[38;5;28;01mreturn\u001B[39;00m \u001B[38;5;28;43mself\u001B[39;49m\u001B[38;5;241;43m.\u001B[39;49m\u001B[43mtester\u001B[49m\u001B[38;5;241;43m.\u001B[39;49m\u001B[43mtest\u001B[49m\u001B[43m(\u001B[49m\u001B[43muser_embeddings\u001B[49m\u001B[43m,\u001B[49m\u001B[43m \u001B[49m\u001B[43mitem_embeddings\u001B[49m\u001B[43m,\u001B[49m\u001B[43m \u001B[49m\u001B[38;5;28;43mself\u001B[39;49m\u001B[38;5;241;43m.\u001B[39;49m\u001B[43mdataset\u001B[49m\u001B[38;5;241;43m.\u001B[39;49m\u001B[43mbatch_size\u001B[49m\u001B[43m,\u001B[49m\n\u001B[0;32m    136\u001B[0m \u001B[43m                            \u001B[49m\u001B[38;5;28;43;01mFalse\u001B[39;49;00m\u001B[43m,\u001B[49m\n\u001B[0;32m    137\u001B[0m \u001B[43m                            \u001B[49m\u001B[38;5;28;43;01mFalse\u001B[39;49;00m\u001B[43m)\u001B[49m\n",
      "File \u001B[1;32m~\\Desktop\\LLMrec_ppd\\src\\test.py:98\u001B[0m, in \u001B[0;36mTester.test\u001B[1;34m(self, ua_embeddings, ia_embeddings, batch_size, is_val, batch_test_flag)\u001B[0m\n\u001B[0;32m     95\u001B[0m rate_batch \u001B[38;5;241m=\u001B[39m rate_batch\u001B[38;5;241m.\u001B[39mdetach()\u001B[38;5;241m.\u001B[39mcpu()\u001B[38;5;241m.\u001B[39mnumpy()\n\u001B[0;32m     96\u001B[0m user_batch_rating_uid \u001B[38;5;241m=\u001B[39m \u001B[38;5;28mzip\u001B[39m(rate_batch, user_batch, [is_val] \u001B[38;5;241m*\u001B[39m \u001B[38;5;28mlen\u001B[39m(user_batch))\n\u001B[1;32m---> 98\u001B[0m batch_result \u001B[38;5;241m=\u001B[39m \u001B[43mpool\u001B[49m\u001B[38;5;241;43m.\u001B[39;49m\u001B[43mmap\u001B[49m\u001B[43m(\u001B[49m\u001B[38;5;28;43mself\u001B[39;49m\u001B[38;5;241;43m.\u001B[39;49m\u001B[43mtest_one_user\u001B[49m\u001B[43m,\u001B[49m\u001B[43m \u001B[49m\u001B[43muser_batch_rating_uid\u001B[49m\u001B[43m)\u001B[49m\n\u001B[0;32m     99\u001B[0m count \u001B[38;5;241m+\u001B[39m\u001B[38;5;241m=\u001B[39m \u001B[38;5;28mlen\u001B[39m(batch_result)\n\u001B[0;32m    101\u001B[0m \u001B[38;5;28;01mfor\u001B[39;00m re \u001B[38;5;129;01min\u001B[39;00m batch_result:\n",
      "File \u001B[1;32m~\\AppData\\Local\\Programs\\Python\\Python312\\Lib\\multiprocessing\\pool.py:367\u001B[0m, in \u001B[0;36mPool.map\u001B[1;34m(self, func, iterable, chunksize)\u001B[0m\n\u001B[0;32m    362\u001B[0m \u001B[38;5;28;01mdef\u001B[39;00m \u001B[38;5;21mmap\u001B[39m(\u001B[38;5;28mself\u001B[39m, func, iterable, chunksize\u001B[38;5;241m=\u001B[39m\u001B[38;5;28;01mNone\u001B[39;00m):\n\u001B[0;32m    363\u001B[0m \u001B[38;5;250m    \u001B[39m\u001B[38;5;124;03m'''\u001B[39;00m\n\u001B[0;32m    364\u001B[0m \u001B[38;5;124;03m    Apply `func` to each element in `iterable`, collecting the results\u001B[39;00m\n\u001B[0;32m    365\u001B[0m \u001B[38;5;124;03m    in a list that is returned.\u001B[39;00m\n\u001B[0;32m    366\u001B[0m \u001B[38;5;124;03m    '''\u001B[39;00m\n\u001B[1;32m--> 367\u001B[0m     \u001B[38;5;28;01mreturn\u001B[39;00m \u001B[38;5;28;43mself\u001B[39;49m\u001B[38;5;241;43m.\u001B[39;49m\u001B[43m_map_async\u001B[49m\u001B[43m(\u001B[49m\u001B[43mfunc\u001B[49m\u001B[43m,\u001B[49m\u001B[43m \u001B[49m\u001B[43miterable\u001B[49m\u001B[43m,\u001B[49m\u001B[43m \u001B[49m\u001B[43mmapstar\u001B[49m\u001B[43m,\u001B[49m\u001B[43m \u001B[49m\u001B[43mchunksize\u001B[49m\u001B[43m)\u001B[49m\u001B[38;5;241;43m.\u001B[39;49m\u001B[43mget\u001B[49m\u001B[43m(\u001B[49m\u001B[43m)\u001B[49m\n",
      "File \u001B[1;32m~\\AppData\\Local\\Programs\\Python\\Python312\\Lib\\multiprocessing\\pool.py:768\u001B[0m, in \u001B[0;36mApplyResult.get\u001B[1;34m(self, timeout)\u001B[0m\n\u001B[0;32m    767\u001B[0m \u001B[38;5;28;01mdef\u001B[39;00m \u001B[38;5;21mget\u001B[39m(\u001B[38;5;28mself\u001B[39m, timeout\u001B[38;5;241m=\u001B[39m\u001B[38;5;28;01mNone\u001B[39;00m):\n\u001B[1;32m--> 768\u001B[0m     \u001B[38;5;28;43mself\u001B[39;49m\u001B[38;5;241;43m.\u001B[39;49m\u001B[43mwait\u001B[49m\u001B[43m(\u001B[49m\u001B[43mtimeout\u001B[49m\u001B[43m)\u001B[49m\n\u001B[0;32m    769\u001B[0m     \u001B[38;5;28;01mif\u001B[39;00m \u001B[38;5;129;01mnot\u001B[39;00m \u001B[38;5;28mself\u001B[39m\u001B[38;5;241m.\u001B[39mready():\n\u001B[0;32m    770\u001B[0m         \u001B[38;5;28;01mraise\u001B[39;00m \u001B[38;5;167;01mTimeoutError\u001B[39;00m\n",
      "File \u001B[1;32m~\\AppData\\Local\\Programs\\Python\\Python312\\Lib\\multiprocessing\\pool.py:765\u001B[0m, in \u001B[0;36mApplyResult.wait\u001B[1;34m(self, timeout)\u001B[0m\n\u001B[0;32m    764\u001B[0m \u001B[38;5;28;01mdef\u001B[39;00m \u001B[38;5;21mwait\u001B[39m(\u001B[38;5;28mself\u001B[39m, timeout\u001B[38;5;241m=\u001B[39m\u001B[38;5;28;01mNone\u001B[39;00m):\n\u001B[1;32m--> 765\u001B[0m     \u001B[38;5;28;43mself\u001B[39;49m\u001B[38;5;241;43m.\u001B[39;49m\u001B[43m_event\u001B[49m\u001B[38;5;241;43m.\u001B[39;49m\u001B[43mwait\u001B[49m\u001B[43m(\u001B[49m\u001B[43mtimeout\u001B[49m\u001B[43m)\u001B[49m\n",
      "File \u001B[1;32m~\\AppData\\Local\\Programs\\Python\\Python312\\Lib\\threading.py:655\u001B[0m, in \u001B[0;36mEvent.wait\u001B[1;34m(self, timeout)\u001B[0m\n\u001B[0;32m    653\u001B[0m signaled \u001B[38;5;241m=\u001B[39m \u001B[38;5;28mself\u001B[39m\u001B[38;5;241m.\u001B[39m_flag\n\u001B[0;32m    654\u001B[0m \u001B[38;5;28;01mif\u001B[39;00m \u001B[38;5;129;01mnot\u001B[39;00m signaled:\n\u001B[1;32m--> 655\u001B[0m     signaled \u001B[38;5;241m=\u001B[39m \u001B[38;5;28;43mself\u001B[39;49m\u001B[38;5;241;43m.\u001B[39;49m\u001B[43m_cond\u001B[49m\u001B[38;5;241;43m.\u001B[39;49m\u001B[43mwait\u001B[49m\u001B[43m(\u001B[49m\u001B[43mtimeout\u001B[49m\u001B[43m)\u001B[49m\n\u001B[0;32m    656\u001B[0m \u001B[38;5;28;01mreturn\u001B[39;00m signaled\n",
      "File \u001B[1;32m~\\AppData\\Local\\Programs\\Python\\Python312\\Lib\\threading.py:355\u001B[0m, in \u001B[0;36mCondition.wait\u001B[1;34m(self, timeout)\u001B[0m\n\u001B[0;32m    353\u001B[0m \u001B[38;5;28;01mtry\u001B[39;00m:    \u001B[38;5;66;03m# restore state no matter what (e.g., KeyboardInterrupt)\u001B[39;00m\n\u001B[0;32m    354\u001B[0m     \u001B[38;5;28;01mif\u001B[39;00m timeout \u001B[38;5;129;01mis\u001B[39;00m \u001B[38;5;28;01mNone\u001B[39;00m:\n\u001B[1;32m--> 355\u001B[0m         \u001B[43mwaiter\u001B[49m\u001B[38;5;241;43m.\u001B[39;49m\u001B[43macquire\u001B[49m\u001B[43m(\u001B[49m\u001B[43m)\u001B[49m\n\u001B[0;32m    356\u001B[0m         gotit \u001B[38;5;241m=\u001B[39m \u001B[38;5;28;01mTrue\u001B[39;00m\n\u001B[0;32m    357\u001B[0m     \u001B[38;5;28;01melse\u001B[39;00m:\n",
      "\u001B[1;31mKeyboardInterrupt\u001B[0m: "
     ]
    }
   ],
   "source": [
    "trainer.train(epochs=10,batch_size=1024)"
   ],
   "metadata": {
    "collapsed": false,
    "ExecuteTime": {
     "end_time": "2024-04-05T21:53:31.104601Z",
     "start_time": "2024-04-05T21:52:35.221455Z"
    }
   },
   "id": "77c25e8e9577ae11",
   "execution_count": 7
  },
  {
   "cell_type": "code",
   "outputs": [],
   "source": [
    "import torch\n",
    "import  pandas as pd\n",
    "\n",
    "data = pd.read_pickle(\"../data/books/train_matrix.pkl\")"
   ],
   "metadata": {
    "collapsed": false,
    "ExecuteTime": {
     "end_time": "2024-03-31T00:03:37.160136Z",
     "start_time": "2024-03-31T00:03:35.964556Z"
    }
   },
   "id": "3f49d5248ad0e28a",
   "execution_count": 2
  },
  {
   "cell_type": "code",
   "outputs": [],
   "source": [
    "import numpy as np\n",
    "import scipy.sparse as sp\n",
    "def matrix_to_tensor(numpy_matrix):\n",
    "    sparse_tensor = torch.sparse_coo_tensor(torch.from_numpy(np.argwhere(numpy_matrix != 0).T),\n",
    "                                            torch.from_numpy(numpy_matrix[np.nonzero(numpy_matrix)]),\n",
    "                                            numpy_matrix.shape,dtype=torch.float32)\n",
    "    return sparse_tensor\n",
    "\n",
    "\n",
    "def csr_norm(csr_mat, mean_flag=False):  # TODO: check if this function exists in a python library\n",
    "    rowsum = np.array(csr_mat.sum(1))\n",
    "    rowsum = np.power(rowsum + 1e-8, -0.5).flatten()\n",
    "    rowsum[np.isinf(rowsum)] = 0.\n",
    "    rowsum_diag = sp.diags(rowsum)\n",
    "    colsum = np.array(csr_mat.sum(0))\n",
    "    colsum = np.power(colsum + 1e-8, -0.5).flatten()\n",
    "    colsum[np.isinf(colsum)] = 0.\n",
    "    colsum_diag = sp.diags(colsum)\n",
    "    if mean_flag == False:\n",
    "        return rowsum_diag * csr_mat * colsum_diag\n",
    "    else:\n",
    "        return rowsum_diag * csr_mat"
   ],
   "metadata": {
    "collapsed": false,
    "ExecuteTime": {
     "end_time": "2024-03-31T00:03:53.677057Z",
     "start_time": "2024-03-31T00:03:53.545409Z"
    }
   },
   "id": "841c1209973130c2",
   "execution_count": 4
  },
  {
   "cell_type": "code",
   "outputs": [],
   "source": [
    "data = matrix_to_tensor(csr_norm(data))"
   ],
   "metadata": {
    "collapsed": false,
    "ExecuteTime": {
     "end_time": "2024-03-31T00:04:36.786260Z",
     "start_time": "2024-03-31T00:04:03.797937Z"
    }
   },
   "id": "f5bb723a02aff91d",
   "execution_count": 5
  },
  {
   "cell_type": "code",
   "outputs": [],
   "source": [
    "# save the tensor\n",
    "torch.save(data, \"../data/books/train_matrix.pt\")"
   ],
   "metadata": {
    "collapsed": false,
    "ExecuteTime": {
     "end_time": "2024-03-31T00:04:45.364655Z",
     "start_time": "2024-03-31T00:04:45.347120Z"
    }
   },
   "id": "30e911882b9de1a",
   "execution_count": 6
  },
  {
   "cell_type": "code",
   "outputs": [],
   "source": [
    "import json\n",
    "with open(\"../data/books/test.json\", \"r\") as f:\n",
    "    test = json.load(f)"
   ],
   "metadata": {
    "collapsed": false,
    "ExecuteTime": {
     "end_time": "2024-03-31T00:32:30.993302Z",
     "start_time": "2024-03-31T00:32:30.983714Z"
    }
   },
   "id": "b8ea0dd61b1db7c4",
   "execution_count": 7
  },
  {
   "cell_type": "code",
   "outputs": [],
   "source": [
    "# create 2000 user dict\n",
    "user_dict = {}\n",
    "for i in range(2000):\n",
    "    user_dict[i] = test[str(i)]\n",
    "# save the user dict\n",
    "with open(\"../data/books/test.json\", \"w\") as f:\n",
    "    json.dump(user_dict, f)\n",
    "\n"
   ],
   "metadata": {
    "collapsed": false,
    "ExecuteTime": {
     "end_time": "2024-03-31T00:34:27.353081Z",
     "start_time": "2024-03-31T00:34:27.332623Z"
    }
   },
   "id": "f5c2657b1806267c",
   "execution_count": 11
  },
  {
   "cell_type": "code",
   "outputs": [],
   "source": [],
   "metadata": {
    "collapsed": false
   },
   "id": "843a5e50705a61ef"
  }
 ],
 "metadata": {
  "kernelspec": {
   "display_name": "Python 3",
   "language": "python",
   "name": "python3"
  },
  "language_info": {
   "codemirror_mode": {
    "name": "ipython",
    "version": 2
   },
   "file_extension": ".py",
   "mimetype": "text/x-python",
   "name": "python",
   "nbconvert_exporter": "python",
   "pygments_lexer": "ipython2",
   "version": "2.7.6"
  }
 },
 "nbformat": 4,
 "nbformat_minor": 5
}
