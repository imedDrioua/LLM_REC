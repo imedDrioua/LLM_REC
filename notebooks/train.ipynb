{
 "cells": [
  {
   "cell_type": "code",
   "execution_count": 1,
   "id": "initial_id",
   "metadata": {
    "collapsed": true,
    "ExecuteTime": {
     "end_time": "2024-03-29T01:58:08.824889Z",
     "start_time": "2024-03-29T01:58:06.040679Z"
    }
   },
   "outputs": [],
   "source": [
    "from src.data_loader.data_loader import BooksDataset\n",
    "from src.models.mm_model import MmModel\n",
    "import pandas as pd\n",
    "from src.train import Trainer\n",
    "import torch"
   ]
  },
  {
   "cell_type": "code",
   "outputs": [],
   "source": [
    "# make auto reload\n",
    "%load_ext autoreload\n",
    "%autoreload 2"
   ],
   "metadata": {
    "collapsed": false
   },
   "id": "2f5fc647082d2e11"
  },
  {
   "cell_type": "code",
   "outputs": [],
   "source": [
    "device = torch.device(\"cuda\" if torch.cuda.is_available() else \"cpu\")"
   ],
   "metadata": {
    "collapsed": false,
    "ExecuteTime": {
     "end_time": "2024-03-29T01:58:08.916562Z",
     "start_time": "2024-03-29T01:58:08.825909Z"
    }
   },
   "id": "61317a2fbf783557",
   "execution_count": 2
  },
  {
   "cell_type": "code",
   "outputs": [],
   "source": [
    "dataset = BooksDataset(data_dir=\"../data/books\")"
   ],
   "metadata": {
    "collapsed": false,
    "ExecuteTime": {
     "end_time": "2024-03-29T01:58:09.347311Z",
     "start_time": "2024-03-29T01:58:08.917562Z"
    }
   },
   "id": "ee13077813f83521",
   "execution_count": 3
  },
  {
   "cell_type": "code",
   "outputs": [],
   "source": [
    "model = MmModel(n_users=dataset.n_users,n_items=dataset.n_items,adjacency_matrix=dataset.get_dataset(\"adjacency_matrix\"),embed_size=64,n_layers=3)"
   ],
   "metadata": {
    "collapsed": false,
    "ExecuteTime": {
     "end_time": "2024-03-29T01:58:09.495005Z",
     "start_time": "2024-03-29T01:58:09.348334Z"
    }
   },
   "id": "fd0ffa6e74bd6c03",
   "execution_count": 4
  },
  {
   "cell_type": "code",
   "outputs": [],
   "source": [
    "trainer = Trainer(model=model,dataset=dataset)"
   ],
   "metadata": {
    "collapsed": false,
    "ExecuteTime": {
     "end_time": "2024-03-29T01:58:10.923218Z",
     "start_time": "2024-03-29T01:58:09.496007Z"
    }
   },
   "id": "e7d567a61f623434",
   "execution_count": 5
  },
  {
   "cell_type": "code",
   "outputs": [
    {
     "name": "stderr",
     "output_type": "stream",
     "text": [
      "100%|██████████| 15/15 [00:07<00:00,  1.92it/s]\n"
     ]
    },
    {
     "name": "stdout",
     "output_type": "stream",
     "text": [
      "{'precision': array([0.00903819, 0.00764847, 0.00563087]), 'recall': array([0.01540955, 0.02586903, 0.04656824]), 'ndcg': array([0.03485256, 0.04540221, 0.06153235]), 'hit_ratio': array([0.07458508, 0.11177764, 0.16496701]), 'auc': 0.0}\n",
      "Epoch 0 Loss 0.6931116183598837 Time 54.91503047943115\n"
     ]
    },
    {
     "name": "stderr",
     "output_type": "stream",
     "text": [
      "100%|██████████| 15/15 [00:08<00:00,  1.73it/s]\n"
     ]
    },
    {
     "name": "stdout",
     "output_type": "stream",
     "text": [
      "{'precision': array([0.00959808, 0.00804839, 0.00585883]), 'recall': array([0.01630843, 0.02759412, 0.04839477]), 'ndcg': array([0.03518603, 0.04613352, 0.06311885]), 'hit_ratio': array([0.0779844 , 0.11737652, 0.17456509]), 'auc': 0.0}\n",
      "Epoch 1 Loss 0.6930795907974243 Time 56.11346197128296\n"
     ]
    }
   ],
   "source": [
    "trainer.train(epochs=2,batch_size=1024)"
   ],
   "metadata": {
    "collapsed": false,
    "ExecuteTime": {
     "end_time": "2024-03-29T02:02:57.203195Z",
     "start_time": "2024-03-29T02:01:06.045755Z"
    }
   },
   "id": "77c25e8e9577ae11",
   "execution_count": 7
  }
 ],
 "metadata": {
  "kernelspec": {
   "display_name": "Python 3",
   "language": "python",
   "name": "python3"
  },
  "language_info": {
   "codemirror_mode": {
    "name": "ipython",
    "version": 2
   },
   "file_extension": ".py",
   "mimetype": "text/x-python",
   "name": "python",
   "nbconvert_exporter": "python",
   "pygments_lexer": "ipython2",
   "version": "2.7.6"
  }
 },
 "nbformat": 4,
 "nbformat_minor": 5
}
