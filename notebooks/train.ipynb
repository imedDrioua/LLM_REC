{
 "cells": [
  {
   "cell_type": "code",
   "execution_count": 1,
   "id": "initial_id",
   "metadata": {
    "collapsed": true,
    "ExecuteTime": {
     "end_time": "2024-04-04T18:57:54.993651Z",
     "start_time": "2024-04-04T18:57:39.380289Z"
    }
   },
   "outputs": [],
   "source": [
    "import pandas as pd\n",
    "\n",
    "from src.data_loader.data_loader import BooksDataset\n",
    "from src.models.mm_model import MmModel\n",
    "from src.train import Trainer\n",
    "import torch"
   ]
  },
  {
   "cell_type": "code",
   "outputs": [],
   "source": [
    "device = torch.device(\"cuda\" if torch.cuda.is_available() else \"cpu\")"
   ],
   "metadata": {
    "collapsed": false,
    "ExecuteTime": {
     "end_time": "2024-03-31T01:26:26.211047Z",
     "start_time": "2024-03-31T01:26:26.206881Z"
    }
   },
   "id": "61317a2fbf783557",
   "execution_count": 2
  },
  {
   "cell_type": "code",
   "outputs": [],
   "source": [
    "dataset = BooksDataset(data_dir=\"../data/books\")"
   ],
   "metadata": {
    "collapsed": false,
    "ExecuteTime": {
     "end_time": "2024-03-31T01:26:26.510450Z",
     "start_time": "2024-03-31T01:26:26.212154Z"
    }
   },
   "id": "ee13077813f83521",
   "execution_count": 3
  },
  {
   "cell_type": "code",
   "outputs": [
    {
     "name": "stdout",
     "output_type": "stream",
     "text": [
      "([14314, 3675, 5335], [27299, 2081, 28955], [21310, 30431, 13975])\n",
      "([13323, 9463, 6984], [2714, 7366, 27138], [14043, 1182, 2311])\n",
      "([224], [954], [2030])\n"
     ]
    }
   ],
   "source": [
    "print(dataset.sample(3))\n",
    "print(dataset.sample( 3))\n",
    "print(dataset.sample(1))"
   ],
   "metadata": {
    "collapsed": false,
    "ExecuteTime": {
     "end_time": "2024-03-31T01:26:26.518048Z",
     "start_time": "2024-03-31T01:26:26.511519Z"
    }
   },
   "id": "b8b53aef9be4ae49",
   "execution_count": 4
  },
  {
   "cell_type": "code",
   "outputs": [
    {
     "data": {
      "text/plain": "MmModel(\n  (E0): Embedding(48752, 64)\n  (text_feat): Linear(in_features=1024, out_features=64, bias=True)\n  (text_feat_dropout): Dropout(p=0.2, inplace=False)\n  (image_feat): Linear(in_features=1024, out_features=64, bias=True)\n  (image_feat_dropout): Dropout(p=0.2, inplace=False)\n)"
     },
     "execution_count": 5,
     "metadata": {},
     "output_type": "execute_result"
    }
   ],
   "source": [
    "model = MmModel(n_users=dataset.n_users,n_items=dataset.n_items,adjacency_matrix=dataset.get_dataset(\"adjacency_matrix\"),interactions= dataset.get_dataset(\"interactions\") ,image_embeddings_data=dataset.get_dataset(\"images\"),text_embeddings_data=dataset.get_dataset(\"text\"),embed_size=64,n_layers=3)\n",
    "model.to(device)"
   ],
   "metadata": {
    "collapsed": false,
    "ExecuteTime": {
     "end_time": "2024-03-31T01:26:27.504904Z",
     "start_time": "2024-03-31T01:26:27.260572Z"
    }
   },
   "id": "fd0ffa6e74bd6c03",
   "execution_count": 5
  },
  {
   "cell_type": "code",
   "outputs": [],
   "source": [
    "trainer = Trainer(model=model,dataset=dataset,lr=0.001)"
   ],
   "metadata": {
    "collapsed": false,
    "ExecuteTime": {
     "end_time": "2024-03-31T01:26:30.242088Z",
     "start_time": "2024-03-31T01:26:28.747704Z"
    }
   },
   "id": "e7d567a61f623434",
   "execution_count": 6
  },
  {
   "cell_type": "code",
   "outputs": [
    {
     "name": "stderr",
     "output_type": "stream",
     "text": [
      "100%|██████████| 15/15 [00:02<00:00,  5.67it/s]\n",
      "100%|██████████| 1/1 [00:17<00:00, 17.48s/it]\n"
     ]
    },
    {
     "name": "stdout",
     "output_type": "stream",
     "text": [
      "{'precision': array([0.01416667]), 'recall': array([0.007266]), 'ndcg': array([0.03350272]), 'hit_ratio': array([0.041]), 'auc': 0.0}\n",
      "Epoch 0 Loss 0.6942788561185201 Time 20.2837393283844\n"
     ]
    },
    {
     "name": "stderr",
     "output_type": "stream",
     "text": [
      "100%|██████████| 15/15 [00:02<00:00,  5.85it/s]\n",
      "100%|██████████| 1/1 [00:17<00:00, 17.55s/it]\n"
     ]
    },
    {
     "name": "stdout",
     "output_type": "stream",
     "text": [
      "{'precision': array([0.01433333]), 'recall': array([0.0071972]), 'ndcg': array([0.03343726]), 'hit_ratio': array([0.0415]), 'auc': 0.0}\n",
      "Epoch 1 Loss 0.6933048288027446 Time 20.285451650619507\n"
     ]
    },
    {
     "name": "stderr",
     "output_type": "stream",
     "text": [
      "100%|██████████| 15/15 [00:02<00:00,  6.11it/s]\n",
      "100%|██████████| 1/1 [00:17<00:00, 17.73s/it]\n"
     ]
    },
    {
     "name": "stdout",
     "output_type": "stream",
     "text": [
      "{'precision': array([0.01466667]), 'recall': array([0.00806657]), 'ndcg': array([0.03453102]), 'hit_ratio': array([0.043]), 'auc': 0.0}\n",
      "Epoch 2 Loss 0.693122414747874 Time 20.32788848876953\n"
     ]
    },
    {
     "name": "stderr",
     "output_type": "stream",
     "text": [
      "100%|██████████| 15/15 [00:02<00:00,  6.11it/s]\n",
      "100%|██████████| 1/1 [00:17<00:00, 17.84s/it]\n"
     ]
    },
    {
     "name": "stdout",
     "output_type": "stream",
     "text": [
      "{'precision': array([0.015]), 'recall': array([0.00817674]), 'ndcg': array([0.03501755]), 'hit_ratio': array([0.0445]), 'auc': 0.0}\n",
      "Epoch 3 Loss 0.6930138389269511 Time 20.482635259628296\n"
     ]
    },
    {
     "name": "stderr",
     "output_type": "stream",
     "text": [
      "100%|██████████| 15/15 [00:02<00:00,  5.66it/s]\n",
      "100%|██████████| 1/1 [00:17<00:00, 17.73s/it]\n"
     ]
    },
    {
     "name": "stdout",
     "output_type": "stream",
     "text": [
      "{'precision': array([0.0155]), 'recall': array([0.00849004]), 'ndcg': array([0.03575866]), 'hit_ratio': array([0.0445]), 'auc': 0.0}\n",
      "Epoch 4 Loss 0.6929102420806885 Time 20.517237901687622\n"
     ]
    },
    {
     "name": "stderr",
     "output_type": "stream",
     "text": [
      "100%|██████████| 15/15 [00:02<00:00,  6.11it/s]\n",
      "100%|██████████| 1/1 [00:18<00:00, 18.00s/it]\n"
     ]
    },
    {
     "name": "stdout",
     "output_type": "stream",
     "text": [
      "{'precision': array([0.01566667]), 'recall': array([0.00850312]), 'ndcg': array([0.03616195]), 'hit_ratio': array([0.0455]), 'auc': 0.0}\n",
      "Epoch 5 Loss 0.69280477364858 Time 20.60312795639038\n"
     ]
    },
    {
     "name": "stderr",
     "output_type": "stream",
     "text": [
      "100%|██████████| 15/15 [00:02<00:00,  6.10it/s]\n",
      "100%|██████████| 1/1 [00:17<00:00, 17.75s/it]\n"
     ]
    },
    {
     "name": "stdout",
     "output_type": "stream",
     "text": [
      "{'precision': array([0.01533333]), 'recall': array([0.00872221]), 'ndcg': array([0.03596555]), 'hit_ratio': array([0.0445]), 'auc': 0.0}\n",
      "Epoch 6 Loss 0.6926687995592753 Time 20.348026752471924\n"
     ]
    },
    {
     "name": "stderr",
     "output_type": "stream",
     "text": [
      "100%|██████████| 15/15 [00:02<00:00,  5.84it/s]\n",
      "100%|██████████| 1/1 [00:17<00:00, 17.66s/it]\n"
     ]
    },
    {
     "name": "stdout",
     "output_type": "stream",
     "text": [
      "{'precision': array([0.01516667]), 'recall': array([0.0085156]), 'ndcg': array([0.03467838]), 'hit_ratio': array([0.0435]), 'auc': 0.0}\n",
      "Epoch 7 Loss 0.6925490657488506 Time 20.386708736419678\n"
     ]
    },
    {
     "name": "stderr",
     "output_type": "stream",
     "text": [
      "100%|██████████| 15/15 [00:02<00:00,  6.05it/s]\n",
      "100%|██████████| 1/1 [00:17<00:00, 17.55s/it]\n"
     ]
    },
    {
     "name": "stdout",
     "output_type": "stream",
     "text": [
      "{'precision': array([0.01583333]), 'recall': array([0.00900694]), 'ndcg': array([0.03615306]), 'hit_ratio': array([0.046]), 'auc': 0.0}\n",
      "Epoch 8 Loss 0.6923970897992452 Time 20.215401887893677\n"
     ]
    },
    {
     "name": "stderr",
     "output_type": "stream",
     "text": [
      "100%|██████████| 15/15 [00:02<00:00,  5.97it/s]\n",
      "100%|██████████| 1/1 [00:17<00:00, 17.67s/it]"
     ]
    },
    {
     "name": "stdout",
     "output_type": "stream",
     "text": [
      "{'precision': array([0.015]), 'recall': array([0.00843883]), 'ndcg': array([0.03582413]), 'hit_ratio': array([0.044]), 'auc': 0.0}\n",
      "Epoch 9 Loss 0.692205262184143 Time 20.33605194091797\n"
     ]
    },
    {
     "name": "stderr",
     "output_type": "stream",
     "text": [
      "\n"
     ]
    }
   ],
   "source": [
    "trainer.train(epochs=10,batch_size=1024)"
   ],
   "metadata": {
    "collapsed": false,
    "ExecuteTime": {
     "end_time": "2024-03-31T01:29:54.500863Z",
     "start_time": "2024-03-31T01:26:30.710272Z"
    }
   },
   "id": "77c25e8e9577ae11",
   "execution_count": 7
  },
  {
   "cell_type": "code",
   "outputs": [],
   "source": [
    "import torch\n",
    "import  pandas as pd\n",
    "\n",
    "data = pd.read_pickle(\"../data/books/train_matrix.pkl\")"
   ],
   "metadata": {
    "collapsed": false,
    "ExecuteTime": {
     "end_time": "2024-03-31T00:03:37.160136Z",
     "start_time": "2024-03-31T00:03:35.964556Z"
    }
   },
   "id": "3f49d5248ad0e28a",
   "execution_count": 2
  },
  {
   "cell_type": "code",
   "outputs": [],
   "source": [
    "import numpy as np\n",
    "import scipy.sparse as sp\n",
    "def matrix_to_tensor(numpy_matrix):\n",
    "    sparse_tensor = torch.sparse_coo_tensor(torch.from_numpy(np.argwhere(numpy_matrix != 0).T),\n",
    "                                            torch.from_numpy(numpy_matrix[np.nonzero(numpy_matrix)]),\n",
    "                                            numpy_matrix.shape,dtype=torch.float32)\n",
    "    return sparse_tensor\n",
    "\n",
    "\n",
    "def csr_norm(csr_mat, mean_flag=False):  # TODO: check if this function exists in a python library\n",
    "    rowsum = np.array(csr_mat.sum(1))\n",
    "    rowsum = np.power(rowsum + 1e-8, -0.5).flatten()\n",
    "    rowsum[np.isinf(rowsum)] = 0.\n",
    "    rowsum_diag = sp.diags(rowsum)\n",
    "    colsum = np.array(csr_mat.sum(0))\n",
    "    colsum = np.power(colsum + 1e-8, -0.5).flatten()\n",
    "    colsum[np.isinf(colsum)] = 0.\n",
    "    colsum_diag = sp.diags(colsum)\n",
    "    if mean_flag == False:\n",
    "        return rowsum_diag * csr_mat * colsum_diag\n",
    "    else:\n",
    "        return rowsum_diag * csr_mat"
   ],
   "metadata": {
    "collapsed": false,
    "ExecuteTime": {
     "end_time": "2024-03-31T00:03:53.677057Z",
     "start_time": "2024-03-31T00:03:53.545409Z"
    }
   },
   "id": "841c1209973130c2",
   "execution_count": 4
  },
  {
   "cell_type": "code",
   "outputs": [],
   "source": [
    "data = matrix_to_tensor(csr_norm(data))"
   ],
   "metadata": {
    "collapsed": false,
    "ExecuteTime": {
     "end_time": "2024-03-31T00:04:36.786260Z",
     "start_time": "2024-03-31T00:04:03.797937Z"
    }
   },
   "id": "f5bb723a02aff91d",
   "execution_count": 5
  },
  {
   "cell_type": "code",
   "outputs": [],
   "source": [
    "# save the tensor\n",
    "torch.save(data, \"../data/books/train_matrix.pt\")"
   ],
   "metadata": {
    "collapsed": false,
    "ExecuteTime": {
     "end_time": "2024-03-31T00:04:45.364655Z",
     "start_time": "2024-03-31T00:04:45.347120Z"
    }
   },
   "id": "30e911882b9de1a",
   "execution_count": 6
  },
  {
   "cell_type": "code",
   "outputs": [],
   "source": [
    "import json\n",
    "with open(\"../data/books/test.json\", \"r\") as f:\n",
    "    test = json.load(f)"
   ],
   "metadata": {
    "collapsed": false,
    "ExecuteTime": {
     "end_time": "2024-03-31T00:32:30.993302Z",
     "start_time": "2024-03-31T00:32:30.983714Z"
    }
   },
   "id": "b8ea0dd61b1db7c4",
   "execution_count": 7
  },
  {
   "cell_type": "code",
   "outputs": [],
   "source": [
    "# create 2000 user dict\n",
    "user_dict = {}\n",
    "for i in range(2000):\n",
    "    user_dict[i] = test[str(i)]\n",
    "# save the user dict\n",
    "with open(\"../data/books/test.json\", \"w\") as f:\n",
    "    json.dump(user_dict, f)\n",
    "\n"
   ],
   "metadata": {
    "collapsed": false,
    "ExecuteTime": {
     "end_time": "2024-03-31T00:34:27.353081Z",
     "start_time": "2024-03-31T00:34:27.332623Z"
    }
   },
   "id": "f5c2657b1806267c",
   "execution_count": 11
  },
  {
   "cell_type": "code",
   "outputs": [],
   "source": [],
   "metadata": {
    "collapsed": false
   },
   "id": "843a5e50705a61ef"
  }
 ],
 "metadata": {
  "kernelspec": {
   "display_name": "Python 3",
   "language": "python",
   "name": "python3"
  },
  "language_info": {
   "codemirror_mode": {
    "name": "ipython",
    "version": 2
   },
   "file_extension": ".py",
   "mimetype": "text/x-python",
   "name": "python",
   "nbconvert_exporter": "python",
   "pygments_lexer": "ipython2",
   "version": "2.7.6"
  }
 },
 "nbformat": 4,
 "nbformat_minor": 5
}
