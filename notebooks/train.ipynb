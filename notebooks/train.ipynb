{
 "cells": [
  {
   "cell_type": "code",
   "execution_count": 1,
   "id": "initial_id",
   "metadata": {
    "collapsed": true,
    "ExecuteTime": {
     "end_time": "2024-05-01T19:28:27.892809Z",
     "start_time": "2024-05-01T19:28:25.091332Z"
    }
   },
   "outputs": [],
   "source": [
    "from src.data_loader.data_loader import BooksDataset\n",
    "from src.models.mm_model import MmModel\n",
    "import pandas as pd\n",
    "from src.train import Trainer\n",
    "import torch"
   ]
  },
  {
   "cell_type": "code",
   "outputs": [],
   "source": [
    "device = torch.device(\"cuda\" if torch.cuda.is_available() else \"cpu\")"
   ],
   "metadata": {
    "collapsed": false,
    "ExecuteTime": {
     "end_time": "2024-05-01T19:28:27.897085Z",
     "start_time": "2024-05-01T19:28:27.893902Z"
    }
   },
   "id": "61317a2fbf783557",
   "execution_count": 2
  },
  {
   "cell_type": "code",
   "outputs": [],
   "source": [
    "dataset = BooksDataset(data_dir=\"../data/books\")"
   ],
   "metadata": {
    "collapsed": false,
    "ExecuteTime": {
     "end_time": "2024-05-01T19:28:31.038713Z",
     "start_time": "2024-05-01T19:28:30.563995Z"
    }
   },
   "id": "ee13077813f83521",
   "execution_count": 3
  },
  {
   "cell_type": "code",
   "outputs": [
    {
     "data": {
      "text/plain": "MmModel(\n  (E0): Embedding(48752, 64)\n)"
     },
     "execution_count": 4,
     "metadata": {},
     "output_type": "execute_result"
    }
   ],
   "source": [
    "model = MmModel(n_users=dataset.n_users,n_items=dataset.n_items,adjacency_matrix=dataset.get_dataset(\"adjacency_matrix\"),embed_size=64,n_layers=3)\n",
    "model.to(device)"
   ],
   "metadata": {
    "collapsed": false,
    "ExecuteTime": {
     "end_time": "2024-05-01T19:28:32.290995Z",
     "start_time": "2024-05-01T19:28:32.154982Z"
    }
   },
   "id": "fd0ffa6e74bd6c03",
   "execution_count": 4
  },
  {
   "cell_type": "code",
   "outputs": [],
   "source": [
    "trainer = Trainer(model=model,dataset=dataset,lr=0.005)"
   ],
   "metadata": {
    "collapsed": false,
    "ExecuteTime": {
     "end_time": "2024-05-01T19:28:34.304228Z",
     "start_time": "2024-05-01T19:28:32.918600Z"
    }
   },
   "id": "e7d567a61f623434",
   "execution_count": 5
  },
  {
   "cell_type": "code",
   "outputs": [
    {
     "name": "stderr",
     "output_type": "stream",
     "text": [
      "100%|██████████| 15/15 [00:01<00:00,  9.47it/s]\n",
      "100%|██████████| 1/1 [00:17<00:00, 17.99s/it]\n"
     ]
    },
    {
     "name": "stdout",
     "output_type": "stream",
     "text": [
      "{'precision': array([0.00915 , 0.007525, 0.00577 ]), 'recall': array([0.01734349, 0.02958431, 0.05241878]), 'ndcg': array([0.03906762, 0.0491048 , 0.06690311]), 'hit_ratio': array([0.08 , 0.115, 0.176]), 'auc': 0.0}\n",
      "Epoch 0 Loss 0.4149689642712474 Time 19.725087881088257\n"
     ]
    },
    {
     "name": "stderr",
     "output_type": "stream",
     "text": [
      "100%|██████████| 15/15 [00:01<00:00,  9.16it/s]\n",
      "100%|██████████| 1/1 [00:18<00:00, 18.07s/it]\n"
     ]
    },
    {
     "name": "stdout",
     "output_type": "stream",
     "text": [
      "{'precision': array([0.0093  , 0.007525, 0.00578 ]), 'recall': array([0.01740971, 0.02958431, 0.05291878]), 'ndcg': array([0.03927314, 0.04913443, 0.06702069]), 'hit_ratio': array([0.0805, 0.115 , 0.1765]), 'auc': 0.0}\n",
      "Epoch 1 Loss 0.07198358078797658 Time 19.842944622039795\n"
     ]
    },
    {
     "name": "stderr",
     "output_type": "stream",
     "text": [
      "100%|██████████| 15/15 [00:01<00:00, 10.64it/s]\n",
      "100%|██████████| 1/1 [00:19<00:00, 19.95s/it]\n"
     ]
    },
    {
     "name": "stdout",
     "output_type": "stream",
     "text": [
      "{'precision': array([0.0093  , 0.007525, 0.00577 ]), 'recall': array([0.01740971, 0.02958431, 0.05290596]), 'ndcg': array([0.03927314, 0.04912666, 0.06700197]), 'hit_ratio': array([0.0805, 0.115 , 0.1765]), 'auc': 0.0}\n",
      "Epoch 2 Loss 0.08363075653711954 Time 21.47930908203125\n"
     ]
    },
    {
     "name": "stderr",
     "output_type": "stream",
     "text": [
      "100%|██████████| 15/15 [00:01<00:00, 10.32it/s]\n",
      "100%|██████████| 1/1 [00:20<00:00, 20.04s/it]\n"
     ]
    },
    {
     "name": "stdout",
     "output_type": "stream",
     "text": [
      "{'precision': array([0.0094  , 0.007575, 0.00577 ]), 'recall': array([0.01759742, 0.03010055, 0.05290596]), 'ndcg': array([0.0395836 , 0.04931942, 0.06698555]), 'hit_ratio': array([0.0815, 0.116 , 0.1765]), 'auc': 0.0}\n",
      "Epoch 3 Loss 0.08550391693909963 Time 21.616456508636475\n"
     ]
    },
    {
     "name": "stderr",
     "output_type": "stream",
     "text": [
      "100%|██████████| 15/15 [00:01<00:00, 10.45it/s]\n",
      "100%|██████████| 1/1 [00:21<00:00, 21.04s/it]\n"
     ]
    },
    {
     "name": "stdout",
     "output_type": "stream",
     "text": [
      "{'precision': array([0.0094 , 0.00755, 0.00577]), 'recall': array([0.01759742, 0.02985055, 0.05265742]), 'ndcg': array([0.03956281, 0.04916536, 0.06697954]), 'hit_ratio': array([0.0815, 0.1155, 0.1765]), 'auc': 0.0}\n",
      "Epoch 4 Loss 0.08495533565680186 Time 22.60104751586914\n"
     ]
    },
    {
     "name": "stderr",
     "output_type": "stream",
     "text": [
      "100%|██████████| 15/15 [00:01<00:00, 10.75it/s]\n",
      "100%|██████████| 1/1 [00:20<00:00, 20.06s/it]\n"
     ]
    },
    {
     "name": "stdout",
     "output_type": "stream",
     "text": [
      "{'precision': array([0.00925 , 0.007425, 0.00577 ]), 'recall': array([0.01683006, 0.02878499, 0.05290742]), 'ndcg': array([0.03927967, 0.04869168, 0.06700746]), 'hit_ratio': array([0.08  , 0.1135, 0.1765]), 'auc': 0.0}\n",
      "Epoch 5 Loss 0.09199740837017695 Time 21.589897632598877\n"
     ]
    },
    {
     "name": "stderr",
     "output_type": "stream",
     "text": [
      "100%|██████████| 15/15 [00:01<00:00,  9.19it/s]\n",
      "100%|██████████| 1/1 [00:20<00:00, 20.49s/it]\n"
     ]
    },
    {
     "name": "stdout",
     "output_type": "stream",
     "text": [
      "{'precision': array([0.00925 , 0.007425, 0.00579 ]), 'recall': array([0.01683006, 0.02878499, 0.05291776]), 'ndcg': array([0.03925259, 0.0486578 , 0.06701974]), 'hit_ratio': array([0.08  , 0.1135, 0.1765]), 'auc': 0.0}\n",
      "Epoch 6 Loss 0.08202279359102249 Time 22.233035802841187\n"
     ]
    },
    {
     "name": "stderr",
     "output_type": "stream",
     "text": [
      "100%|██████████| 15/15 [00:01<00:00, 10.02it/s]\n",
      "100%|██████████| 1/1 [00:19<00:00, 19.59s/it]\n"
     ]
    },
    {
     "name": "stdout",
     "output_type": "stream",
     "text": [
      "{'precision': array([0.00925 , 0.007425, 0.0058  ]), 'recall': array([0.01683006, 0.02878499, 0.05268802]), 'ndcg': array([0.03925259, 0.04865712, 0.06703569]), 'hit_ratio': array([0.08  , 0.1135, 0.1765]), 'auc': 0.0}\n",
      "Epoch 7 Loss 0.08030623445908229 Time 21.209127187728882\n"
     ]
    },
    {
     "name": "stderr",
     "output_type": "stream",
     "text": [
      "100%|██████████| 15/15 [00:01<00:00, 10.67it/s]\n",
      "100%|██████████| 1/1 [00:19<00:00, 19.31s/it]\n"
     ]
    },
    {
     "name": "stdout",
     "output_type": "stream",
     "text": [
      "{'precision': array([0.00925, 0.0074 , 0.00579]), 'recall': array([0.01683006, 0.02878051, 0.05274356]), 'ndcg': array([0.03924792, 0.04865231, 0.06704506]), 'hit_ratio': array([0.08  , 0.1135, 0.1765]), 'auc': 0.0}\n",
      "Epoch 8 Loss 0.08755200554927191 Time 20.8336021900177\n"
     ]
    },
    {
     "name": "stderr",
     "output_type": "stream",
     "text": [
      "100%|██████████| 15/15 [00:01<00:00,  9.43it/s]\n",
      "100%|██████████| 1/1 [00:20<00:00, 20.00s/it]"
     ]
    },
    {
     "name": "stdout",
     "output_type": "stream",
     "text": [
      "{'precision': array([0.0092  , 0.007425, 0.00581 ]), 'recall': array([0.01764949, 0.02884908, 0.05275677]), 'ndcg': array([0.03915367, 0.04864751, 0.06701804]), 'hit_ratio': array([0.08  , 0.1135, 0.1765]), 'auc': 0.0}\n",
      "Epoch 9 Loss 0.07683867464462917 Time 21.728339672088623\n"
     ]
    },
    {
     "name": "stderr",
     "output_type": "stream",
     "text": [
      "\n"
     ]
    }
   ],
   "source": [
    "trainer.train(epochs=10,batch_size=1024)"
   ],
   "metadata": {
    "collapsed": false,
    "ExecuteTime": {
     "end_time": "2024-05-01T19:32:07.611056Z",
     "start_time": "2024-05-01T19:28:34.749286Z"
    }
   },
   "id": "77c25e8e9577ae11",
   "execution_count": 6
  },
  {
   "cell_type": "code",
   "outputs": [
    {
     "data": {
      "text/plain": "device(type='cuda')"
     },
     "execution_count": 5,
     "metadata": {},
     "output_type": "execute_result"
    }
   ],
   "source": [
    "device"
   ],
   "metadata": {
    "collapsed": false,
    "ExecuteTime": {
     "end_time": "2024-03-29T16:22:54.244921Z",
     "start_time": "2024-03-29T16:22:54.239430Z"
    }
   },
   "id": "3f49d5248ad0e28a",
   "execution_count": 5
  },
  {
   "cell_type": "code",
   "outputs": [
    {
     "ename": "RuntimeError",
     "evalue": "self must be a matrix",
     "output_type": "error",
     "traceback": [
      "\u001B[1;31m---------------------------------------------------------------------------\u001B[0m",
      "\u001B[1;31mRuntimeError\u001B[0m                              Traceback (most recent call last)",
      "Cell \u001B[1;32mIn[15], line 4\u001B[0m\n\u001B[0;32m      2\u001B[0m item \u001B[38;5;241m=\u001B[39m torch\u001B[38;5;241m.\u001B[39mtensor([\u001B[38;5;241m0\u001B[39m,\u001B[38;5;241m2\u001B[39m,\u001B[38;5;241m3\u001B[39m])\u001B[38;5;241m.\u001B[39mto(device)\n\u001B[0;32m      3\u001B[0m user \u001B[38;5;241m=\u001B[39m torch\u001B[38;5;241m.\u001B[39mtensor([\u001B[38;5;241m0\u001B[39m,\u001B[38;5;241m2\u001B[39m,\u001B[38;5;241m3\u001B[39m])\u001B[38;5;241m.\u001B[39mto(device)\n\u001B[1;32m----> 4\u001B[0m \u001B[43mtorch\u001B[49m\u001B[38;5;241;43m.\u001B[39;49m\u001B[43mmm\u001B[49m\u001B[43m(\u001B[49m\u001B[43muser\u001B[49m\u001B[43m,\u001B[49m\u001B[43mitem\u001B[49m\u001B[38;5;241;43m.\u001B[39;49m\u001B[43mview\u001B[49m\u001B[43m(\u001B[49m\u001B[38;5;241;43m-\u001B[39;49m\u001B[38;5;241;43m1\u001B[39;49m\u001B[43m,\u001B[49m\u001B[38;5;241;43m1\u001B[39;49m\u001B[43m)\u001B[49m\u001B[43m)\u001B[49m\n",
      "\u001B[1;31mRuntimeError\u001B[0m: self must be a matrix"
     ]
    }
   ],
   "source": [
    "# create a tenor with 3 items\n",
    "item = torch.tensor([0,2,3]).to(device)\n",
    "user = torch.tensor([0,2,3]).to(device)\n",
    "torch.mm(user,item.view(-1,1))\n",
    "\n",
    "\n",
    "\n"
   ],
   "metadata": {
    "collapsed": false,
    "ExecuteTime": {
     "end_time": "2024-03-29T16:27:40.345060Z",
     "start_time": "2024-03-29T16:27:40.328824Z"
    }
   },
   "id": "88a08200e42befa4",
   "execution_count": 15
  },
  {
   "cell_type": "code",
   "outputs": [
    {
     "data": {
      "text/plain": "0.4"
     },
     "execution_count": 13,
     "metadata": {},
     "output_type": "execute_result"
    }
   ],
   "source": [
    "import numpy as np\n",
    "def precision_at_k(r, k):\n",
    "    \"\"\"Score is precision @ k\n",
    "    Relevance is binary (nonzero is relevant).\n",
    "    Returns:\n",
    "        Precision @ k\n",
    "    Raises:\n",
    "        ValueError: len(r) must be >= k\n",
    "    \"\"\"\n",
    "    assert k >= 1\n",
    "    r = np.asarray(r)[:k]\n",
    "    return np.mean(r)\n",
    "# test\n",
    "r = [0,1,1,0,0,1,0,0,0,1]\n",
    "precision_at_k(r, 5)"
   ],
   "metadata": {
    "collapsed": false,
    "ExecuteTime": {
     "end_time": "2024-03-30T00:06:03.841255Z",
     "start_time": "2024-03-30T00:06:03.835482Z"
    }
   },
   "id": "da7e7b1c8def633e",
   "execution_count": 13
  },
  {
   "cell_type": "code",
   "outputs": [
    {
     "data": {
      "text/plain": "1.0"
     },
     "execution_count": 27,
     "metadata": {},
     "output_type": "execute_result"
    }
   ],
   "source": [
    "def recall(rank, ground_truth, N):\n",
    "    return len(set(rank[:N]) & set(ground_truth)) / float(len(set(ground_truth)))\n",
    "# test\n",
    "rank = [0,1,1,0,0,1,0,0,0,1]\n",
    "ground_truth = [0]\n",
    "recall(rank, ground_truth, 5)"
   ],
   "metadata": {
    "collapsed": false,
    "ExecuteTime": {
     "end_time": "2024-03-30T00:16:01.123937Z",
     "start_time": "2024-03-30T00:16:01.117772Z"
    }
   },
   "id": "c119f88e4c5b18bd",
   "execution_count": 27
  },
  {
   "cell_type": "code",
   "outputs": [
    {
     "data": {
      "text/plain": "{0}"
     },
     "execution_count": 28,
     "metadata": {},
     "output_type": "execute_result"
    }
   ],
   "source": [
    "set(rank[:5]) & set(ground_truth) # this operation is the intersection of the two sets"
   ],
   "metadata": {
    "collapsed": false,
    "ExecuteTime": {
     "end_time": "2024-03-30T00:16:02.255354Z",
     "start_time": "2024-03-30T00:16:02.249736Z"
    }
   },
   "id": "4af17a34919d0865",
   "execution_count": 28
  },
  {
   "cell_type": "code",
   "outputs": [
    {
     "data": {
      "text/plain": "12"
     },
     "execution_count": 9,
     "metadata": {},
     "output_type": "execute_result"
    }
   ],
   "source": [
    "import multiprocessing\n",
    "multiprocessing.cpu_count()\n"
   ],
   "metadata": {
    "collapsed": false,
    "ExecuteTime": {
     "end_time": "2024-03-30T01:57:04.991015Z",
     "start_time": "2024-03-30T01:57:04.986235Z"
    }
   },
   "id": "da107442eeb11e3e",
   "execution_count": 9
  },
  {
   "cell_type": "code",
   "outputs": [
    {
     "data": {
      "text/plain": "([1, 0, 0, 0, 0], 0.0)"
     },
     "execution_count": 2,
     "metadata": {},
     "output_type": "execute_result"
    }
   ],
   "source": [
    "import heapq\n",
    "Ks = [5]\n",
    "\n",
    "def rank_list_by_heapq(rating, user_pos_test, test_items):\n",
    "    item_score = {}\n",
    "    for i in test_items:\n",
    "        item_score[i] = rating[i]\n",
    "\n",
    "    K_max = max(Ks)\n",
    "    K_max_item_score = heapq.nlargest(K_max, item_score, key=item_score.get)\n",
    "\n",
    "    r = []\n",
    "    for i in K_max_item_score:\n",
    "        if i in user_pos_test:\n",
    "            r.append(1)\n",
    "        else:\n",
    "            r.append(0)\n",
    "    auc = 0.\n",
    "    return r, auc\n",
    "\n",
    "rating = [0.9,0.2,0.3,0.4,0.5,0.6,0.7,0.8]\n",
    "user_pos_test = [0,1,2]\n",
    "test_items = [0,1,2,3,4,5,6,7]\n",
    "rank_list_by_heapq(rating, user_pos_test, test_items)"
   ],
   "metadata": {
    "collapsed": false,
    "ExecuteTime": {
     "end_time": "2024-03-30T16:46:17.607763Z",
     "start_time": "2024-03-30T16:46:17.600130Z"
    }
   },
   "id": "28edc60ce9acb7ac",
   "execution_count": 2
  },
  {
   "cell_type": "code",
   "outputs": [],
   "source": [
    "item_score = {}\n",
    "for i in test_items:\n",
    "    item_score[str(i)] = rating[i]\n"
   ],
   "metadata": {
    "collapsed": false,
    "ExecuteTime": {
     "end_time": "2024-03-30T16:57:24.188308Z",
     "start_time": "2024-03-30T16:57:24.184751Z"
    }
   },
   "id": "db9eb50b9657ae07",
   "execution_count": 26
  },
  {
   "cell_type": "code",
   "outputs": [
    {
     "data": {
      "text/plain": "{'0': 0.9,\n '1': 0.2,\n '2': 0.3,\n '3': 0.4,\n '4': 0.5,\n '5': 0.6,\n '6': 0.7,\n '7': 0.8}"
     },
     "execution_count": 27,
     "metadata": {},
     "output_type": "execute_result"
    }
   ],
   "source": [
    "item_score"
   ],
   "metadata": {
    "collapsed": false,
    "ExecuteTime": {
     "end_time": "2024-03-30T16:57:24.814303Z",
     "start_time": "2024-03-30T16:57:24.809860Z"
    }
   },
   "id": "7b91350691ed5289",
   "execution_count": 27
  },
  {
   "cell_type": "code",
   "outputs": [
    {
     "data": {
      "text/plain": "     0    1    2    3    4    5    6    7\n0  0.9  0.2  0.3  0.4  0.5  0.6  0.7  0.8",
      "text/html": "<div>\n<style scoped>\n    .dataframe tbody tr th:only-of-type {\n        vertical-align: middle;\n    }\n\n    .dataframe tbody tr th {\n        vertical-align: top;\n    }\n\n    .dataframe thead th {\n        text-align: right;\n    }\n</style>\n<table border=\"1\" class=\"dataframe\">\n  <thead>\n    <tr style=\"text-align: right;\">\n      <th></th>\n      <th>0</th>\n      <th>1</th>\n      <th>2</th>\n      <th>3</th>\n      <th>4</th>\n      <th>5</th>\n      <th>6</th>\n      <th>7</th>\n    </tr>\n  </thead>\n  <tbody>\n    <tr>\n      <th>0</th>\n      <td>0.9</td>\n      <td>0.2</td>\n      <td>0.3</td>\n      <td>0.4</td>\n      <td>0.5</td>\n      <td>0.6</td>\n      <td>0.7</td>\n      <td>0.8</td>\n    </tr>\n  </tbody>\n</table>\n</div>"
     },
     "execution_count": 30,
     "metadata": {},
     "output_type": "execute_result"
    }
   ],
   "source": [
    "import pandas as pd\n",
    "\n",
    "#create data frame with colmuns as items keys and values as scores\n",
    "df = pd.DataFrame(item_score,index=[0])\n",
    "df\n"
   ],
   "metadata": {
    "collapsed": false,
    "ExecuteTime": {
     "end_time": "2024-03-30T16:58:13.619213Z",
     "start_time": "2024-03-30T16:58:13.609504Z"
    }
   },
   "id": "c0047f5c5ec44ee8",
   "execution_count": 30
  },
  {
   "cell_type": "code",
   "outputs": [
    {
     "data": {
      "text/plain": "   item  score\n0     0    0.9\n1     1    0.2\n2     2    0.3\n3     3    0.4\n4     4    0.5\n5     5    0.6\n6     6    0.7\n7     7    0.8",
      "text/html": "<div>\n<style scoped>\n    .dataframe tbody tr th:only-of-type {\n        vertical-align: middle;\n    }\n\n    .dataframe tbody tr th {\n        vertical-align: top;\n    }\n\n    .dataframe thead th {\n        text-align: right;\n    }\n</style>\n<table border=\"1\" class=\"dataframe\">\n  <thead>\n    <tr style=\"text-align: right;\">\n      <th></th>\n      <th>item</th>\n      <th>score</th>\n    </tr>\n  </thead>\n  <tbody>\n    <tr>\n      <th>0</th>\n      <td>0</td>\n      <td>0.9</td>\n    </tr>\n    <tr>\n      <th>1</th>\n      <td>1</td>\n      <td>0.2</td>\n    </tr>\n    <tr>\n      <th>2</th>\n      <td>2</td>\n      <td>0.3</td>\n    </tr>\n    <tr>\n      <th>3</th>\n      <td>3</td>\n      <td>0.4</td>\n    </tr>\n    <tr>\n      <th>4</th>\n      <td>4</td>\n      <td>0.5</td>\n    </tr>\n    <tr>\n      <th>5</th>\n      <td>5</td>\n      <td>0.6</td>\n    </tr>\n    <tr>\n      <th>6</th>\n      <td>6</td>\n      <td>0.7</td>\n    </tr>\n    <tr>\n      <th>7</th>\n      <td>7</td>\n      <td>0.8</td>\n    </tr>\n  </tbody>\n</table>\n</div>"
     },
     "execution_count": 15,
     "metadata": {},
     "output_type": "execute_result"
    }
   ],
   "source": [
    "items"
   ],
   "metadata": {
    "collapsed": false,
    "ExecuteTime": {
     "end_time": "2024-03-30T16:54:05.580650Z",
     "start_time": "2024-03-30T16:54:05.571042Z"
    }
   },
   "id": "40fb743c50c865aa",
   "execution_count": 15
  },
  {
   "cell_type": "code",
   "outputs": [
    {
     "data": {
      "text/plain": "{'0': 0.9,\n '1': 0.2,\n '2': 0.3,\n '3': 0.4,\n '4': 0.5,\n '5': 0.6,\n '6': 0.7,\n '7': 0.8}"
     },
     "execution_count": 32,
     "metadata": {},
     "output_type": "execute_result"
    }
   ],
   "source": [
    "# convert data frame to dict \n",
    "items = df.to_dict(orient=\"records\")\n",
    "items[0]"
   ],
   "metadata": {
    "collapsed": false,
    "ExecuteTime": {
     "end_time": "2024-03-30T17:18:25.899867Z",
     "start_time": "2024-03-30T17:18:25.893785Z"
    }
   },
   "id": "e3df7654768d36bb",
   "execution_count": 32
  },
  {
   "cell_type": "code",
   "outputs": [],
   "source": [],
   "metadata": {
    "collapsed": false
   },
   "id": "41565b79816ae6b3"
  }
 ],
 "metadata": {
  "kernelspec": {
   "display_name": "Python 3",
   "language": "python",
   "name": "python3"
  },
  "language_info": {
   "codemirror_mode": {
    "name": "ipython",
    "version": 2
   },
   "file_extension": ".py",
   "mimetype": "text/x-python",
   "name": "python",
   "nbconvert_exporter": "python",
   "pygments_lexer": "ipython2",
   "version": "2.7.6"
  }
 },
 "nbformat": 4,
 "nbformat_minor": 5
}
