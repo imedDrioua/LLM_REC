{
 "cells": [
  {
   "cell_type": "code",
   "execution_count": 1,
   "id": "initial_id",
   "metadata": {
    "collapsed": true,
    "ExecuteTime": {
     "end_time": "2024-04-16T22:27:59.693666Z",
     "start_time": "2024-04-16T22:27:56.627027Z"
    }
   },
   "outputs": [],
   "source": [
    "import pandas as pd\n",
    "\n",
    "from src.data_loader.data_loader import BooksDataset\n",
    "from src.models.mm_model import MmModel\n",
    "from src.train import Trainer\n",
    "import torch"
   ]
  },
  {
   "cell_type": "code",
   "outputs": [],
   "source": [
    "device = torch.device(\"cuda\" if torch.cuda.is_available() else \"cpu\")"
   ],
   "metadata": {
    "collapsed": false,
    "ExecuteTime": {
     "end_time": "2024-04-16T22:27:59.697327Z",
     "start_time": "2024-04-16T22:27:59.694693Z"
    }
   },
   "id": "61317a2fbf783557",
   "execution_count": 2
  },
  {
   "cell_type": "code",
   "outputs": [],
   "source": [
    "dataset = BooksDataset(data_dir=\"../data/netflix\")"
   ],
   "metadata": {
    "collapsed": false,
    "ExecuteTime": {
     "end_time": "2024-04-16T22:28:00.367531Z",
     "start_time": "2024-04-16T22:28:00.173331Z"
    }
   },
   "id": "ee13077813f83521",
   "execution_count": 3
  },
  {
   "cell_type": "code",
   "outputs": [
    {
     "data": {
      "text/plain": "MmModel(\n  (E0): Embedding(30553, 64)\n  (image_feat): Linear(in_features=512, out_features=64, bias=True)\n  (text_feat_dropout): Dropout(p=0, inplace=False)\n  (text_feat): Linear(in_features=768, out_features=64, bias=True)\n  (image_feat_dropout): Dropout(p=0, inplace=False)\n  (user_profiles): Linear(in_features=1536, out_features=64, bias=True)\n  (user_profiles_dropout): Dropout(p=0, inplace=False)\n  (book_attributes): Linear(in_features=1536, out_features=64, bias=True)\n  (book_attributes_dropout): Dropout(p=0, inplace=False)\n)"
     },
     "execution_count": 4,
     "metadata": {},
     "output_type": "execute_result"
    }
   ],
   "source": [
    "model = MmModel(n_users=dataset.n_users,n_items=dataset.n_items,adjacency_matrix=dataset.get_dataset(\"adjacency_matrix\"),interactions= dataset.get_dataset(\"interactions\") ,interactions_t= dataset.get_dataset(\"interactions_T\") ,image_embeddings_data=dataset.get_dataset(\"images\"),text_embeddings_data=dataset.get_dataset(\"text\"),embed_size=64,n_layers=2,user_profiles_data=dataset.get_dataset(\"user_profiles\"),book_attributes_data=dataset.get_dataset(\"books_attributes\"))\n",
    "model.to(device)"
   ],
   "metadata": {
    "collapsed": false,
    "ExecuteTime": {
     "end_time": "2024-04-16T22:28:00.971261Z",
     "start_time": "2024-04-16T22:28:00.852977Z"
    }
   },
   "id": "fd0ffa6e74bd6c03",
   "execution_count": 4
  },
  {
   "cell_type": "code",
   "outputs": [
    {
     "name": "stdout",
     "output_type": "stream",
     "text": [
      "2024-04-17 00:28:  PID: 7012\n",
      "2024-04-17 00:28:  \n",
      "Dataset             Shape                \n",
      "----------------------------------------\n",
      "images              (17366, 512)\n",
      "text                (17366, 768)\n",
      "user_profiles       (13187, 1536)\n",
      "books_attributes    (17366, 1536)\n",
      "train_dict          13187\n",
      "test_dict           1845\n",
      "val_dict            5000\n",
      "adjacency_matrix    30553\n",
      "interactions        13187\n",
      "interactions_T      17366\n",
      "\n",
      "Number of interactions: 68933\n",
      "Sparsity: 99.97%\n"
     ]
    }
   ],
   "source": [
    "trainer = Trainer(model=model,dataset=dataset,lr=0.0001)"
   ],
   "metadata": {
    "collapsed": false,
    "ExecuteTime": {
     "end_time": "2024-04-16T22:28:03.290213Z",
     "start_time": "2024-04-16T22:28:01.668041Z"
    }
   },
   "id": "e7d567a61f623434",
   "execution_count": 5
  },
  {
   "cell_type": "code",
   "outputs": [
    {
     "name": "stderr",
     "output_type": "stream",
     "text": [
      "100%|██████████| 68/68 [00:07<00:00,  9.13it/s]\n"
     ]
    },
    {
     "ename": "TypeError",
     "evalue": "new(): invalid data type 'str'",
     "output_type": "error",
     "traceback": [
      "\u001B[1;31m---------------------------------------------------------------------------\u001B[0m",
      "\u001B[1;31mTypeError\u001B[0m                                 Traceback (most recent call last)",
      "Cell \u001B[1;32mIn[6], line 1\u001B[0m\n\u001B[1;32m----> 1\u001B[0m \u001B[43mtrainer\u001B[49m\u001B[38;5;241;43m.\u001B[39;49m\u001B[43mtrain\u001B[49m\u001B[43m(\u001B[49m\u001B[43mepochs\u001B[49m\u001B[38;5;241;43m=\u001B[39;49m\u001B[38;5;241;43m10\u001B[39;49m\u001B[43m,\u001B[49m\u001B[43mbatch_size\u001B[49m\u001B[38;5;241;43m=\u001B[39;49m\u001B[38;5;241;43m1024\u001B[39;49m\u001B[43m)\u001B[49m\n",
      "File \u001B[1;32m~\\Desktop\\LLMrec_ppd\\src\\train.py:100\u001B[0m, in \u001B[0;36mTrainer.train\u001B[1;34m(self, epochs, batch_size)\u001B[0m\n\u001B[0;32m     98\u001B[0m \u001B[38;5;28;01mdel\u001B[39;00m embeddings_dict\n\u001B[0;32m     99\u001B[0m test_users \u001B[38;5;241m=\u001B[39m \u001B[38;5;28mself\u001B[39m\u001B[38;5;241m.\u001B[39mdataset\u001B[38;5;241m.\u001B[39mget_dataset(\u001B[38;5;124m'\u001B[39m\u001B[38;5;124mtest_dict\u001B[39m\u001B[38;5;124m'\u001B[39m)\n\u001B[1;32m--> 100\u001B[0m evaluation_results \u001B[38;5;241m=\u001B[39m \u001B[38;5;28;43mself\u001B[39;49m\u001B[38;5;241;43m.\u001B[39;49m\u001B[43mevaluate\u001B[49m\u001B[43m(\u001B[49m\u001B[43mtest_users\u001B[49m\u001B[43m)\u001B[49m\n\u001B[0;32m    101\u001B[0m \u001B[38;5;28mprint\u001B[39m(evaluation_results)\n",
      "File \u001B[1;32m~\\Desktop\\LLMrec_ppd\\src\\train.py:115\u001B[0m, in \u001B[0;36mTrainer.evaluate\u001B[1;34m(self, test_users)\u001B[0m\n\u001B[0;32m    113\u001B[0m user_embeddings, item_embeddings, _, _, _, _, _, _, _, _ \u001B[38;5;241m=\u001B[39m \u001B[38;5;28mself\u001B[39m\u001B[38;5;241m.\u001B[39mmodel\u001B[38;5;241m.\u001B[39mpropagate()\n\u001B[0;32m    114\u001B[0m users_to_test \u001B[38;5;241m=\u001B[39m \u001B[38;5;28mlist\u001B[39m(test_users\u001B[38;5;241m.\u001B[39mkeys())\n\u001B[1;32m--> 115\u001B[0m \u001B[38;5;28;01mreturn\u001B[39;00m \u001B[43mtest_torch\u001B[49m\u001B[43m(\u001B[49m\u001B[43muser_embeddings\u001B[49m\u001B[43m,\u001B[49m\u001B[43m \u001B[49m\u001B[43mitem_embeddings\u001B[49m\u001B[43m,\u001B[49m\u001B[43musers_to_test\u001B[49m\u001B[43m)\u001B[49m\n",
      "File \u001B[1;32m~\\Desktop\\LLMrec_ppd\\src\\test_b.py:87\u001B[0m, in \u001B[0;36mtest_torch\u001B[1;34m(ua_embeddings, ia_embeddings, users_to_test, is_val, drop_flag, batch_test_flag)\u001B[0m\n\u001B[0;32m     85\u001B[0m \u001B[38;5;28;01melse\u001B[39;00m:\n\u001B[0;32m     86\u001B[0m     item_batch \u001B[38;5;241m=\u001B[39m \u001B[38;5;28mrange\u001B[39m(ITEM_NUM)\n\u001B[1;32m---> 87\u001B[0m     u_g_embeddings \u001B[38;5;241m=\u001B[39m \u001B[43mua_embeddings\u001B[49m\u001B[43m[\u001B[49m\u001B[43muser_batch\u001B[49m\u001B[43m]\u001B[49m\n\u001B[0;32m     88\u001B[0m     i_g_embeddings \u001B[38;5;241m=\u001B[39m ia_embeddings[item_batch]\n\u001B[0;32m     89\u001B[0m     rate_batch \u001B[38;5;241m=\u001B[39m torch\u001B[38;5;241m.\u001B[39mmatmul(u_g_embeddings, torch\u001B[38;5;241m.\u001B[39mtranspose(i_g_embeddings, \u001B[38;5;241m0\u001B[39m, \u001B[38;5;241m1\u001B[39m))\n",
      "\u001B[1;31mTypeError\u001B[0m: new(): invalid data type 'str'"
     ]
    }
   ],
   "source": [
    "trainer.train(epochs=10,batch_size=1024)"
   ],
   "metadata": {
    "collapsed": false,
    "ExecuteTime": {
     "end_time": "2024-04-16T22:28:11.546428Z",
     "start_time": "2024-04-16T22:28:03.697512Z"
    }
   },
   "id": "77c25e8e9577ae11",
   "execution_count": 6
  },
  {
   "cell_type": "code",
   "outputs": [],
   "source": [
    "import numpy as np\n",
    "import scipy.sparse as sp\n",
    "def matrix_to_tensor(numpy_matrix):\n",
    "    sparse_tensor = torch.sparse_coo_tensor(torch.from_numpy(np.argwhere(numpy_matrix != 0).T),\n",
    "                                            torch.from_numpy(numpy_matrix[np.nonzero(numpy_matrix)]),\n",
    "                                            numpy_matrix.shape,dtype=torch.float32)\n",
    "    return sparse_tensor\n",
    "\n",
    "\n",
    "def csr_norm(csr_mat, mean_flag=False):  # TODO: check if this function exists in a python library\n",
    "    rowsum = np.array(csr_mat.sum(1))\n",
    "    rowsum = np.power(rowsum + 1e-8, -0.5).flatten()\n",
    "    rowsum[np.isinf(rowsum)] = 0.\n",
    "    rowsum_diag = sp.diags(rowsum)\n",
    "    colsum = np.array(csr_mat.sum(0))\n",
    "    colsum = np.power(colsum + 1e-8, -0.5).flatten()\n",
    "    colsum[np.isinf(colsum)] = 0.\n",
    "    colsum_diag = sp.diags(colsum)\n",
    "    if mean_flag == False:\n",
    "        return rowsum_diag * csr_mat * colsum_diag\n",
    "    else:\n",
    "        return rowsum_diag * csr_mat"
   ],
   "metadata": {
    "collapsed": false,
    "ExecuteTime": {
     "end_time": "2024-03-31T00:03:53.677057Z",
     "start_time": "2024-03-31T00:03:53.545409Z"
    }
   },
   "id": "841c1209973130c2",
   "execution_count": 4
  },
  {
   "cell_type": "code",
   "outputs": [],
   "source": [
    "data = matrix_to_tensor(csr_norm(data))"
   ],
   "metadata": {
    "collapsed": false,
    "ExecuteTime": {
     "end_time": "2024-03-31T00:04:36.786260Z",
     "start_time": "2024-03-31T00:04:03.797937Z"
    }
   },
   "id": "f5bb723a02aff91d",
   "execution_count": 5
  },
  {
   "cell_type": "code",
   "outputs": [],
   "source": [
    "# save the tensor\n",
    "torch.save(data, \"../data/books/train_matrix.pt\")"
   ],
   "metadata": {
    "collapsed": false,
    "ExecuteTime": {
     "end_time": "2024-03-31T00:04:45.364655Z",
     "start_time": "2024-03-31T00:04:45.347120Z"
    }
   },
   "id": "30e911882b9de1a",
   "execution_count": 6
  },
  {
   "cell_type": "code",
   "outputs": [],
   "source": [
    "import json\n",
    "with open(\"../data/books/test.json\", \"r\") as f:\n",
    "    test = json.load(f)"
   ],
   "metadata": {
    "collapsed": false,
    "ExecuteTime": {
     "end_time": "2024-03-31T00:32:30.993302Z",
     "start_time": "2024-03-31T00:32:30.983714Z"
    }
   },
   "id": "b8ea0dd61b1db7c4",
   "execution_count": 7
  },
  {
   "cell_type": "code",
   "outputs": [],
   "source": [
    "# create 2000 user dict\n",
    "user_dict = {}\n",
    "for i in range(2000):\n",
    "    user_dict[i] = test[str(i)]\n",
    "# save the user dict\n",
    "with open(\"../data/books/test.json\", \"w\") as f:\n",
    "    json.dump(user_dict, f)\n",
    "\n"
   ],
   "metadata": {
    "collapsed": false,
    "ExecuteTime": {
     "end_time": "2024-03-31T00:34:27.353081Z",
     "start_time": "2024-03-31T00:34:27.332623Z"
    }
   },
   "id": "f5c2657b1806267c",
   "execution_count": 11
  },
  {
   "cell_type": "code",
   "outputs": [],
   "source": [
    "import json\n",
    "with open(\"../data/books/augmented_interactions_dict.json\", \"r\") as f:\n",
    "    data = json.load(f)"
   ],
   "metadata": {
    "collapsed": false,
    "ExecuteTime": {
     "end_time": "2024-04-05T22:42:18.588107Z",
     "start_time": "2024-04-05T22:42:18.570419Z"
    }
   },
   "id": "372c91cda2d20a1f",
   "execution_count": 49
  },
  {
   "cell_type": "code",
   "outputs": [],
   "source": [
    "# convert all lists items to int and save the dict\n",
    "mauvais = {}\n",
    "for key in data.keys():\n",
    "    if type(data[key][0]) != int or type(data[key][1]) != int:\n",
    "        mauvais[key] = data[key]\n",
    "\n",
    "    "
   ],
   "metadata": {
    "collapsed": false,
    "ExecuteTime": {
     "end_time": "2024-04-05T22:42:28.467293Z",
     "start_time": "2024-04-05T22:42:28.459281Z"
    }
   },
   "id": "bc97fda7c42e5152",
   "execution_count": 51
  },
  {
   "cell_type": "code",
   "outputs": [
    {
     "data": {
      "text/plain": "tensor([[ 2,  4,  6],\n        [ 5,  7,  9],\n        [ 8, 10, 12]])"
     },
     "execution_count": 11,
     "metadata": {},
     "output_type": "execute_result"
    }
   ],
   "source": [
    "a = torch.tensor([[1,2,3],[4,5,6],[7,8,9]])\n",
    "a +=  torch.tensor([1,2,3],requires_grad=False)\n",
    "a"
   ],
   "metadata": {
    "collapsed": false,
    "ExecuteTime": {
     "end_time": "2024-04-16T22:03:56.953987Z",
     "start_time": "2024-04-16T22:03:56.948356Z"
    }
   },
   "id": "a31788622bfbad05",
   "execution_count": 11
  },
  {
   "cell_type": "code",
   "outputs": [],
   "source": [],
   "metadata": {
    "collapsed": false
   },
   "id": "cd6460abb1e5c2e9"
  }
 ],
 "metadata": {
  "kernelspec": {
   "display_name": "Python 3",
   "language": "python",
   "name": "python3"
  },
  "language_info": {
   "codemirror_mode": {
    "name": "ipython",
    "version": 2
   },
   "file_extension": ".py",
   "mimetype": "text/x-python",
   "name": "python",
   "nbconvert_exporter": "python",
   "pygments_lexer": "ipython2",
   "version": "2.7.6"
  }
 },
 "nbformat": 4,
 "nbformat_minor": 5
}
