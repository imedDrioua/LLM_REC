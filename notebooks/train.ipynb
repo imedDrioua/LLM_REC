{
 "cells": [
  {
   "cell_type": "code",
   "execution_count": 1,
   "id": "initial_id",
   "metadata": {
    "collapsed": true,
    "ExecuteTime": {
     "end_time": "2024-04-05T22:43:30.730851Z",
     "start_time": "2024-04-05T22:43:27.676021Z"
    }
   },
   "outputs": [],
   "source": [
    "import pandas as pd\n",
    "\n",
    "from src.data_loader.data_loader import BooksDataset\n",
    "from src.models.mm_model import MmModel\n",
    "from src.train import Trainer\n",
    "import torch"
   ]
  },
  {
   "cell_type": "code",
   "outputs": [],
   "source": [
    "device = torch.device(\"cuda\" if torch.cuda.is_available() else \"cpu\")"
   ],
   "metadata": {
    "collapsed": false,
    "ExecuteTime": {
     "end_time": "2024-04-05T22:43:31.185206Z",
     "start_time": "2024-04-05T22:43:31.181856Z"
    }
   },
   "id": "61317a2fbf783557",
   "execution_count": 2
  },
  {
   "cell_type": "code",
   "outputs": [],
   "source": [
    "dataset = BooksDataset(data_dir=\"../data/books\")"
   ],
   "metadata": {
    "collapsed": false,
    "ExecuteTime": {
     "end_time": "2024-04-05T22:43:32.019959Z",
     "start_time": "2024-04-05T22:43:31.569433Z"
    }
   },
   "id": "ee13077813f83521",
   "execution_count": 3
  },
  {
   "cell_type": "code",
   "outputs": [
    {
     "data": {
      "text/plain": "MmModel(\n  (E0): Embedding(48752, 128)\n  (text_feat): Linear(in_features=1024, out_features=128, bias=True)\n  (text_feat_dropout): Dropout(p=0.2, inplace=False)\n  (image_feat): Linear(in_features=1024, out_features=128, bias=True)\n  (image_feat_dropout): Dropout(p=0.2, inplace=False)\n  (user_profiles): Linear(in_features=768, out_features=128, bias=True)\n  (user_profiles_dropout): Dropout(p=0.2, inplace=False)\n  (book_attributes): Linear(in_features=768, out_features=128, bias=True)\n  (book_attributes_dropout): Dropout(p=0.2, inplace=False)\n)"
     },
     "execution_count": 4,
     "metadata": {},
     "output_type": "execute_result"
    }
   ],
   "source": [
    "model = MmModel(n_users=dataset.n_users,n_items=dataset.n_items,adjacency_matrix=dataset.get_dataset(\"adjacency_matrix\"),interactions= dataset.get_dataset(\"interactions\") ,image_embeddings_data=dataset.get_dataset(\"images\"),text_embeddings_data=dataset.get_dataset(\"text\"),embed_size=128,n_layers=3,user_profiles_data=dataset.get_dataset(\"user_profiles\"),book_attributes_data=dataset.get_dataset(\"books_attributes\"))\n",
    "model.to(device)"
   ],
   "metadata": {
    "collapsed": false,
    "ExecuteTime": {
     "end_time": "2024-04-05T22:43:32.597616Z",
     "start_time": "2024-04-05T22:43:32.021439Z"
    }
   },
   "id": "fd0ffa6e74bd6c03",
   "execution_count": 4
  },
  {
   "cell_type": "code",
   "outputs": [],
   "source": [
    "trainer = Trainer(model=model,dataset=dataset,lr=0.01)"
   ],
   "metadata": {
    "collapsed": false,
    "ExecuteTime": {
     "end_time": "2024-04-05T22:43:35.080309Z",
     "start_time": "2024-04-05T22:43:33.411764Z"
    }
   },
   "id": "e7d567a61f623434",
   "execution_count": 5
  },
  {
   "cell_type": "code",
   "outputs": [
    {
     "name": "stderr",
     "output_type": "stream",
     "text": [
      "100%|██████████| 15/15 [00:05<00:00,  2.66it/s]\n",
      "100%|██████████| 1/1 [00:21<00:00, 21.04s/it]\n"
     ]
    },
    {
     "name": "stdout",
     "output_type": "stream",
     "text": [
      "{'precision': array([0.00245 , 0.001675, 0.00123 ]), 'recall': array([0.00331187, 0.00460845, 0.00886342]), 'ndcg': array([0.01117216, 0.01289446, 0.01736534]), 'hit_ratio': array([0.022 , 0.028 , 0.0465]), 'auc': 0.0}\n",
      "Epoch 0 Loss 449.0741333007812 Time 26.98769521713257\n"
     ]
    },
    {
     "name": "stderr",
     "output_type": "stream",
     "text": [
      "100%|██████████| 15/15 [00:05<00:00,  2.82it/s]\n",
      "100%|██████████| 1/1 [00:22<00:00, 22.59s/it]\n"
     ]
    },
    {
     "name": "stdout",
     "output_type": "stream",
     "text": [
      "{'precision': array([0.0087  , 0.006875, 0.0046  ]), 'recall': array([0.0149535 , 0.02452307, 0.04023084]), 'ndcg': array([0.03467055, 0.04374699, 0.05643445]), 'hit_ratio': array([0.073 , 0.1025, 0.1505]), 'auc': 0.0}\n",
      "Epoch 1 Loss 38.141219011942546 Time 28.167550086975098\n"
     ]
    },
    {
     "name": "stderr",
     "output_type": "stream",
     "text": [
      "100%|██████████| 15/15 [00:05<00:00,  2.59it/s]\n",
      "100%|██████████| 1/1 [00:22<00:00, 22.82s/it]\n"
     ]
    },
    {
     "name": "stdout",
     "output_type": "stream",
     "text": [
      "{'precision': array([0.0104 , 0.0076 , 0.00534]), 'recall': array([0.02210794, 0.03236706, 0.05213052]), 'ndcg': array([0.04069744, 0.04931356, 0.06489174]), 'hit_ratio': array([0.0865, 0.1155, 0.1715]), 'auc': 0.0}\n",
      "Epoch 2 Loss 11.694350369771321 Time 28.888647079467773\n"
     ]
    },
    {
     "name": "stderr",
     "output_type": "stream",
     "text": [
      "100%|██████████| 15/15 [00:05<00:00,  2.88it/s]\n",
      "100%|██████████| 1/1 [00:23<00:00, 23.43s/it]\n"
     ]
    },
    {
     "name": "stdout",
     "output_type": "stream",
     "text": [
      "{'precision': array([0.00975 , 0.007675, 0.00574 ]), 'recall': array([0.01982568, 0.03034045, 0.05408188]), 'ndcg': array([0.0384941 , 0.04761186, 0.06571154]), 'hit_ratio': array([0.0835, 0.1155, 0.1805]), 'auc': 0.0}\n",
      "Epoch 3 Loss 9.766905307769775 Time 28.887646675109863\n"
     ]
    },
    {
     "name": "stderr",
     "output_type": "stream",
     "text": [
      "100%|██████████| 15/15 [00:05<00:00,  2.84it/s]\n",
      "100%|██████████| 1/1 [00:21<00:00, 21.44s/it]\n"
     ]
    },
    {
     "name": "stdout",
     "output_type": "stream",
     "text": [
      "{'precision': array([0.0094 , 0.00845, 0.00617]), 'recall': array([0.019507  , 0.03309177, 0.05966628]), 'ndcg': array([0.03766683, 0.05049013, 0.06879571]), 'hit_ratio': array([0.081 , 0.1275, 0.1885]), 'auc': 0.0}\n",
      "Epoch 4 Loss 10.03747386932373 Time 26.95736050605774\n"
     ]
    },
    {
     "name": "stderr",
     "output_type": "stream",
     "text": [
      "100%|██████████| 15/15 [00:05<00:00,  2.78it/s]\n",
      "100%|██████████| 1/1 [00:21<00:00, 21.72s/it]\n"
     ]
    },
    {
     "name": "stdout",
     "output_type": "stream",
     "text": [
      "{'precision': array([0.0099 , 0.0086 , 0.00618]), 'recall': array([0.01904434, 0.03512375, 0.05916217]), 'ndcg': array([0.03903013, 0.05188963, 0.06981637]), 'hit_ratio': array([0.0835, 0.1315, 0.1915]), 'auc': 0.0}\n",
      "Epoch 5 Loss 10.002503331502279 Time 27.375131845474243\n"
     ]
    },
    {
     "name": "stderr",
     "output_type": "stream",
     "text": [
      "100%|██████████| 15/15 [00:05<00:00,  2.77it/s]\n",
      "100%|██████████| 1/1 [00:20<00:00, 20.03s/it]\n"
     ]
    },
    {
     "name": "stdout",
     "output_type": "stream",
     "text": [
      "{'precision': array([0.0098 , 0.00835, 0.0064 ]), 'recall': array([0.0175183 , 0.03214436, 0.06209535]), 'ndcg': array([0.03723146, 0.0495492 , 0.07006462]), 'hit_ratio': array([0.0825, 0.127 , 0.1995]), 'auc': 0.0}\n",
      "Epoch 6 Loss 9.488785934448241 Time 25.703593730926514\n"
     ]
    },
    {
     "name": "stderr",
     "output_type": "stream",
     "text": [
      "100%|██████████| 15/15 [00:05<00:00,  2.85it/s]\n",
      "100%|██████████| 1/1 [00:20<00:00, 20.10s/it]\n"
     ]
    },
    {
     "name": "stdout",
     "output_type": "stream",
     "text": [
      "{'precision': array([0.0095  , 0.008675, 0.00669 ]), 'recall': array([0.01861959, 0.03779219, 0.06793873]), 'ndcg': array([0.03656006, 0.04992258, 0.07156366]), 'hit_ratio': array([0.0835, 0.132 , 0.2075]), 'auc': 0.0}\n",
      "Epoch 7 Loss 9.11321210861206 Time 25.623244047164917\n"
     ]
    },
    {
     "name": "stderr",
     "output_type": "stream",
     "text": [
      "100%|██████████| 15/15 [00:05<00:00,  2.87it/s]\n",
      "100%|██████████| 1/1 [00:19<00:00, 19.19s/it]\n"
     ]
    },
    {
     "name": "stdout",
     "output_type": "stream",
     "text": [
      "{'precision': array([0.0106 , 0.0091 , 0.00679]), 'recall': array([0.02129211, 0.03762478, 0.06667412]), 'ndcg': array([0.04144487, 0.05442822, 0.07485089]), 'hit_ratio': array([0.0915, 0.137 , 0.207 ]), 'auc': 0.0}\n",
      "Epoch 8 Loss 8.221775118509928 Time 24.67738962173462\n"
     ]
    },
    {
     "name": "stderr",
     "output_type": "stream",
     "text": [
      "100%|██████████| 15/15 [00:05<00:00,  2.87it/s]\n",
      "100%|██████████| 1/1 [00:19<00:00, 19.63s/it]"
     ]
    },
    {
     "name": "stdout",
     "output_type": "stream",
     "text": [
      "{'precision': array([0.01115, 0.00915, 0.00701]), 'recall': array([0.02412593, 0.03724605, 0.07001176]), 'ndcg': array([0.04299566, 0.05484236, 0.0769517 ]), 'hit_ratio': array([0.096 , 0.137 , 0.2135]), 'auc': 0.0}\n",
      "Epoch 9 Loss 7.8775052706400555 Time 25.113595962524414\n"
     ]
    },
    {
     "name": "stderr",
     "output_type": "stream",
     "text": [
      "\n"
     ]
    }
   ],
   "source": [
    "trainer.train(epochs=10,batch_size=1024)"
   ],
   "metadata": {
    "collapsed": false,
    "ExecuteTime": {
     "end_time": "2024-04-05T22:48:05.353504Z",
     "start_time": "2024-04-05T22:43:36.967841Z"
    }
   },
   "id": "77c25e8e9577ae11",
   "execution_count": 6
  },
  {
   "cell_type": "code",
   "outputs": [],
   "source": [
    "import torch\n",
    "import  pandas as pd\n",
    "\n",
    "data = pd.read_pickle(\"../data/books/train_matrix.pkl\")"
   ],
   "metadata": {
    "collapsed": false,
    "ExecuteTime": {
     "end_time": "2024-03-31T00:03:37.160136Z",
     "start_time": "2024-03-31T00:03:35.964556Z"
    }
   },
   "id": "3f49d5248ad0e28a",
   "execution_count": 2
  },
  {
   "cell_type": "code",
   "outputs": [],
   "source": [
    "import numpy as np\n",
    "import scipy.sparse as sp\n",
    "def matrix_to_tensor(numpy_matrix):\n",
    "    sparse_tensor = torch.sparse_coo_tensor(torch.from_numpy(np.argwhere(numpy_matrix != 0).T),\n",
    "                                            torch.from_numpy(numpy_matrix[np.nonzero(numpy_matrix)]),\n",
    "                                            numpy_matrix.shape,dtype=torch.float32)\n",
    "    return sparse_tensor\n",
    "\n",
    "\n",
    "def csr_norm(csr_mat, mean_flag=False):  # TODO: check if this function exists in a python library\n",
    "    rowsum = np.array(csr_mat.sum(1))\n",
    "    rowsum = np.power(rowsum + 1e-8, -0.5).flatten()\n",
    "    rowsum[np.isinf(rowsum)] = 0.\n",
    "    rowsum_diag = sp.diags(rowsum)\n",
    "    colsum = np.array(csr_mat.sum(0))\n",
    "    colsum = np.power(colsum + 1e-8, -0.5).flatten()\n",
    "    colsum[np.isinf(colsum)] = 0.\n",
    "    colsum_diag = sp.diags(colsum)\n",
    "    if mean_flag == False:\n",
    "        return rowsum_diag * csr_mat * colsum_diag\n",
    "    else:\n",
    "        return rowsum_diag * csr_mat"
   ],
   "metadata": {
    "collapsed": false,
    "ExecuteTime": {
     "end_time": "2024-03-31T00:03:53.677057Z",
     "start_time": "2024-03-31T00:03:53.545409Z"
    }
   },
   "id": "841c1209973130c2",
   "execution_count": 4
  },
  {
   "cell_type": "code",
   "outputs": [],
   "source": [
    "data = matrix_to_tensor(csr_norm(data))"
   ],
   "metadata": {
    "collapsed": false,
    "ExecuteTime": {
     "end_time": "2024-03-31T00:04:36.786260Z",
     "start_time": "2024-03-31T00:04:03.797937Z"
    }
   },
   "id": "f5bb723a02aff91d",
   "execution_count": 5
  },
  {
   "cell_type": "code",
   "outputs": [],
   "source": [
    "# save the tensor\n",
    "torch.save(data, \"../data/books/train_matrix.pt\")"
   ],
   "metadata": {
    "collapsed": false,
    "ExecuteTime": {
     "end_time": "2024-03-31T00:04:45.364655Z",
     "start_time": "2024-03-31T00:04:45.347120Z"
    }
   },
   "id": "30e911882b9de1a",
   "execution_count": 6
  },
  {
   "cell_type": "code",
   "outputs": [],
   "source": [
    "import json\n",
    "with open(\"../data/books/test.json\", \"r\") as f:\n",
    "    test = json.load(f)"
   ],
   "metadata": {
    "collapsed": false,
    "ExecuteTime": {
     "end_time": "2024-03-31T00:32:30.993302Z",
     "start_time": "2024-03-31T00:32:30.983714Z"
    }
   },
   "id": "b8ea0dd61b1db7c4",
   "execution_count": 7
  },
  {
   "cell_type": "code",
   "outputs": [],
   "source": [
    "# create 2000 user dict\n",
    "user_dict = {}\n",
    "for i in range(2000):\n",
    "    user_dict[i] = test[str(i)]\n",
    "# save the user dict\n",
    "with open(\"../data/books/test.json\", \"w\") as f:\n",
    "    json.dump(user_dict, f)\n",
    "\n"
   ],
   "metadata": {
    "collapsed": false,
    "ExecuteTime": {
     "end_time": "2024-03-31T00:34:27.353081Z",
     "start_time": "2024-03-31T00:34:27.332623Z"
    }
   },
   "id": "f5c2657b1806267c",
   "execution_count": 11
  },
  {
   "cell_type": "code",
   "outputs": [],
   "source": [
    "import json\n",
    "with open(\"../data/books/augmented_interactions_dict.json\", \"r\") as f:\n",
    "    data = json.load(f)"
   ],
   "metadata": {
    "collapsed": false,
    "ExecuteTime": {
     "end_time": "2024-04-05T22:42:18.588107Z",
     "start_time": "2024-04-05T22:42:18.570419Z"
    }
   },
   "id": "372c91cda2d20a1f",
   "execution_count": 49
  },
  {
   "cell_type": "code",
   "outputs": [],
   "source": [
    "# convert all lists items to int and save the dict\n",
    "mauvais = {}\n",
    "for key in data.keys():\n",
    "    if type(data[key][0]) != int or type(data[key][1]) != int:\n",
    "        mauvais[key] = data[key]\n",
    "\n",
    "    "
   ],
   "metadata": {
    "collapsed": false,
    "ExecuteTime": {
     "end_time": "2024-04-05T22:42:28.467293Z",
     "start_time": "2024-04-05T22:42:28.459281Z"
    }
   },
   "id": "bc97fda7c42e5152",
   "execution_count": 51
  }
 ],
 "metadata": {
  "kernelspec": {
   "display_name": "Python 3",
   "language": "python",
   "name": "python3"
  },
  "language_info": {
   "codemirror_mode": {
    "name": "ipython",
    "version": 2
   },
   "file_extension": ".py",
   "mimetype": "text/x-python",
   "name": "python",
   "nbconvert_exporter": "python",
   "pygments_lexer": "ipython2",
   "version": "2.7.6"
  }
 },
 "nbformat": 4,
 "nbformat_minor": 5
}
