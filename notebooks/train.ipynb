{
 "cells": [
  {
   "cell_type": "code",
   "execution_count": 1,
   "id": "initial_id",
   "metadata": {
    "collapsed": true,
    "ExecuteTime": {
     "end_time": "2024-04-04T22:49:34.481026Z",
     "start_time": "2024-04-04T22:49:31.821203Z"
    }
   },
   "outputs": [],
   "source": [
    "import pandas as pd\n",
    "\n",
    "from src.data_loader.data_loader import BooksDataset\n",
    "from src.models.mm_model import MmModel\n",
    "from src.train import Trainer\n",
    "import torch"
   ]
  },
  {
   "cell_type": "code",
   "outputs": [],
   "source": [
    "device = torch.device(\"cuda\" if torch.cuda.is_available() else \"cpu\")"
   ],
   "metadata": {
    "collapsed": false,
    "ExecuteTime": {
     "end_time": "2024-04-04T22:49:35.187099Z",
     "start_time": "2024-04-04T22:49:35.182408Z"
    }
   },
   "id": "61317a2fbf783557",
   "execution_count": 2
  },
  {
   "cell_type": "code",
   "outputs": [],
   "source": [
    "dataset = BooksDataset(data_dir=\"../data/books\")"
   ],
   "metadata": {
    "collapsed": false,
    "ExecuteTime": {
     "end_time": "2024-04-04T22:49:36.197613Z",
     "start_time": "2024-04-04T22:49:35.898290Z"
    }
   },
   "id": "ee13077813f83521",
   "execution_count": 3
  },
  {
   "cell_type": "code",
   "outputs": [
    {
     "name": "stdout",
     "output_type": "stream",
     "text": [
      "([8783, 4640, 5551], [27163, 2587, 15276], [24726, 27634, 19277])\n",
      "([12042, 6444, 5439], [29098, 7090, 7608], [13506, 18450, 23183])\n",
      "([9506], [28669], [6998])\n"
     ]
    }
   ],
   "source": [
    "print(dataset.sample(3))\n",
    "print(dataset.sample( 3))\n",
    "print(dataset.sample(1))"
   ],
   "metadata": {
    "collapsed": false,
    "ExecuteTime": {
     "end_time": "2024-04-04T22:49:36.710623Z",
     "start_time": "2024-04-04T22:49:36.706332Z"
    }
   },
   "id": "b8b53aef9be4ae49",
   "execution_count": 4
  },
  {
   "cell_type": "code",
   "outputs": [
    {
     "data": {
      "text/plain": "MmModel(\n  (E0): Embedding(48752, 64)\n  (text_feat): Linear(in_features=1024, out_features=64, bias=True)\n  (text_feat_dropout): Dropout(p=0.2, inplace=False)\n  (image_feat): Linear(in_features=1024, out_features=64, bias=True)\n  (image_feat_dropout): Dropout(p=0.2, inplace=False)\n  (user_profiles): Linear(in_features=768, out_features=64, bias=True)\n  (user_profiles_dropout): Dropout(p=0.2, inplace=False)\n  (book_attributes): Linear(in_features=768, out_features=64, bias=True)\n  (book_attributes_dropout): Dropout(p=0.2, inplace=False)\n)"
     },
     "execution_count": 5,
     "metadata": {},
     "output_type": "execute_result"
    }
   ],
   "source": [
    "model = MmModel(n_users=dataset.n_users,n_items=dataset.n_items,adjacency_matrix=dataset.get_dataset(\"adjacency_matrix\"),interactions= dataset.get_dataset(\"interactions\") ,image_embeddings_data=dataset.get_dataset(\"images\"),text_embeddings_data=dataset.get_dataset(\"text\"),embed_size=64,n_layers=3,user_profiles_data=dataset.get_dataset(\"user_profiles\"),book_attributes_data=dataset.get_dataset(\"books_attributes\"))\n",
    "model.to(device)"
   ],
   "metadata": {
    "collapsed": false,
    "ExecuteTime": {
     "end_time": "2024-04-04T22:49:37.744654Z",
     "start_time": "2024-04-04T22:49:37.468873Z"
    }
   },
   "id": "fd0ffa6e74bd6c03",
   "execution_count": 5
  },
  {
   "cell_type": "code",
   "outputs": [],
   "source": [
    "trainer = Trainer(model=model,dataset=dataset,lr=0.001)"
   ],
   "metadata": {
    "collapsed": false,
    "ExecuteTime": {
     "end_time": "2024-04-04T22:49:39.972314Z",
     "start_time": "2024-04-04T22:49:38.502317Z"
    }
   },
   "id": "e7d567a61f623434",
   "execution_count": 6
  },
  {
   "cell_type": "code",
   "outputs": [
    {
     "name": "stderr",
     "output_type": "stream",
     "text": [
      "100%|██████████| 15/15 [00:03<00:00,  4.09it/s]\n",
      "100%|██████████| 1/1 [00:17<00:00, 17.68s/it]\n"
     ]
    },
    {
     "name": "stdout",
     "output_type": "stream",
     "text": [
      "{'precision': array([0.0095 , 0.00765, 0.00578]), 'recall': array([0.0190216 , 0.03165034, 0.05343636]), 'ndcg': array([0.03943236, 0.04938495, 0.06684249]), 'hit_ratio': array([0.084 , 0.1185, 0.1765]), 'auc': 0.0}\n",
      "Epoch 0 Loss 0.7108594099680583 Time 21.528899669647217\n"
     ]
    },
    {
     "name": "stderr",
     "output_type": "stream",
     "text": [
      "100%|██████████| 15/15 [00:03<00:00,  4.37it/s]\n",
      "100%|██████████| 1/1 [00:17<00:00, 17.95s/it]\n"
     ]
    },
    {
     "name": "stdout",
     "output_type": "stream",
     "text": [
      "{'precision': array([0.00965 , 0.007625, 0.00595 ]), 'recall': array([0.01968818, 0.03027852, 0.05332186]), 'ndcg': array([0.03996557, 0.04959582, 0.06877334]), 'hit_ratio': array([0.0835, 0.117 , 0.1845]), 'auc': 0.0}\n",
      "Epoch 1 Loss 0.709807292620341 Time 21.576141357421875\n"
     ]
    },
    {
     "name": "stderr",
     "output_type": "stream",
     "text": [
      "100%|██████████| 15/15 [00:03<00:00,  4.18it/s]\n",
      "100%|██████████| 1/1 [00:18<00:00, 18.08s/it]\n"
     ]
    },
    {
     "name": "stdout",
     "output_type": "stream",
     "text": [
      "{'precision': array([0.0095 , 0.00785, 0.00611]), 'recall': array([0.02096221, 0.03103344, 0.05501047]), 'ndcg': array([0.04036104, 0.05068025, 0.0706136 ]), 'hit_ratio': array([0.083, 0.121, 0.192]), 'auc': 0.0}\n",
      "Epoch 2 Loss 0.7095495303471883 Time 21.83698058128357\n"
     ]
    },
    {
     "name": "stderr",
     "output_type": "stream",
     "text": [
      "100%|██████████| 15/15 [00:03<00:00,  4.32it/s]\n",
      "100%|██████████| 1/1 [00:18<00:00, 18.18s/it]\n"
     ]
    },
    {
     "name": "stdout",
     "output_type": "stream",
     "text": [
      "{'precision': array([0.00955, 0.00815, 0.00614]), 'recall': array([0.0202523 , 0.03196716, 0.05391051]), 'ndcg': array([0.03971127, 0.05144756, 0.07012868]), 'hit_ratio': array([0.0835, 0.125 , 0.1895]), 'auc': 0.0}\n",
      "Epoch 3 Loss 0.7093831578890483 Time 21.8381450176239\n"
     ]
    },
    {
     "name": "stderr",
     "output_type": "stream",
     "text": [
      "100%|██████████| 15/15 [00:03<00:00,  4.24it/s]\n",
      "100%|██████████| 1/1 [00:18<00:00, 18.44s/it]\n"
     ]
    },
    {
     "name": "stdout",
     "output_type": "stream",
     "text": [
      "{'precision': array([0.00965 , 0.008425, 0.0063  ]), 'recall': array([0.02024744, 0.03132493, 0.05731786]), 'ndcg': array([0.03944977, 0.05178684, 0.07039691]), 'hit_ratio': array([0.083 , 0.13  , 0.1905]), 'auc': 0.0}\n",
      "Epoch 4 Loss 0.7091845273971558 Time 22.151050806045532\n"
     ]
    },
    {
     "name": "stderr",
     "output_type": "stream",
     "text": [
      "100%|██████████| 15/15 [00:03<00:00,  4.13it/s]\n",
      "100%|██████████| 1/1 [00:18<00:00, 18.57s/it]\n"
     ]
    },
    {
     "name": "stdout",
     "output_type": "stream",
     "text": [
      "{'precision': array([0.00995 , 0.008225, 0.00646 ]), 'recall': array([0.01855732, 0.0299559 , 0.05953419]), 'ndcg': array([0.03962305, 0.05080462, 0.07101474]), 'hit_ratio': array([0.0845, 0.126 , 0.1945]), 'auc': 0.0}\n",
      "Epoch 5 Loss 0.7090351064999898 Time 22.44580864906311\n"
     ]
    },
    {
     "name": "stderr",
     "output_type": "stream",
     "text": [
      "100%|██████████| 15/15 [00:03<00:00,  4.35it/s]\n",
      "100%|██████████| 1/1 [00:18<00:00, 18.39s/it]\n"
     ]
    },
    {
     "name": "stdout",
     "output_type": "stream",
     "text": [
      "{'precision': array([0.0101 , 0.00835, 0.00655]), 'recall': array([0.01851125, 0.03096051, 0.06027699]), 'ndcg': array([0.03917274, 0.05061981, 0.07119371]), 'hit_ratio': array([0.085 , 0.128 , 0.1975]), 'auc': 0.0}\n",
      "Epoch 6 Loss 0.708818793296814 Time 22.010789394378662\n"
     ]
    },
    {
     "name": "stderr",
     "output_type": "stream",
     "text": [
      "100%|██████████| 15/15 [00:03<00:00,  4.10it/s]\n",
      "100%|██████████| 1/1 [00:18<00:00, 18.47s/it]\n"
     ]
    },
    {
     "name": "stdout",
     "output_type": "stream",
     "text": [
      "{'precision': array([0.011  , 0.00865, 0.00663]), 'recall': array([0.02122097, 0.03223966, 0.06389418]), 'ndcg': array([0.0422908 , 0.05302782, 0.07407213]), 'hit_ratio': array([0.0915, 0.13  , 0.203 ]), 'auc': 0.0}\n",
      "Epoch 7 Loss 0.7086076696713766 Time 22.313654899597168\n"
     ]
    },
    {
     "name": "stderr",
     "output_type": "stream",
     "text": [
      "100%|██████████| 15/15 [00:03<00:00,  4.25it/s]\n",
      "100%|██████████| 1/1 [00:18<00:00, 18.48s/it]\n"
     ]
    },
    {
     "name": "stdout",
     "output_type": "stream",
     "text": [
      "{'precision': array([0.0108  , 0.008625, 0.00665 ]), 'recall': array([0.0208633 , 0.03280081, 0.06388346]), 'ndcg': array([0.04177265, 0.05256405, 0.07434835]), 'hit_ratio': array([0.0895, 0.1275, 0.205 ]), 'auc': 0.0}\n",
      "Epoch 8 Loss 0.7083766102790833 Time 22.17875361442566\n"
     ]
    },
    {
     "name": "stderr",
     "output_type": "stream",
     "text": [
      "100%|██████████| 15/15 [00:03<00:00,  4.22it/s]\n",
      "100%|██████████| 1/1 [00:18<00:00, 18.66s/it]"
     ]
    },
    {
     "name": "stdout",
     "output_type": "stream",
     "text": [
      "{'precision': array([0.011   , 0.008875, 0.00671 ]), 'recall': array([0.02137832, 0.0333308 , 0.06446632]), 'ndcg': array([0.04382614, 0.05497291, 0.0761081 ]), 'hit_ratio': array([0.091 , 0.1315, 0.2065]), 'auc': 0.0}\n",
      "Epoch 9 Loss 0.7081830978393555 Time 22.452505111694336\n"
     ]
    },
    {
     "name": "stderr",
     "output_type": "stream",
     "text": [
      "\n"
     ]
    }
   ],
   "source": [
    "trainer.train(epochs=10,batch_size=1024)"
   ],
   "metadata": {
    "collapsed": false,
    "ExecuteTime": {
     "end_time": "2024-04-04T22:53:20.943298Z",
     "start_time": "2024-04-04T22:49:40.606234Z"
    }
   },
   "id": "77c25e8e9577ae11",
   "execution_count": 7
  },
  {
   "cell_type": "code",
   "outputs": [],
   "source": [
    "import torch\n",
    "import  pandas as pd\n",
    "\n",
    "data = pd.read_pickle(\"../data/books/train_matrix.pkl\")"
   ],
   "metadata": {
    "collapsed": false,
    "ExecuteTime": {
     "end_time": "2024-03-31T00:03:37.160136Z",
     "start_time": "2024-03-31T00:03:35.964556Z"
    }
   },
   "id": "3f49d5248ad0e28a",
   "execution_count": 2
  },
  {
   "cell_type": "code",
   "outputs": [],
   "source": [
    "import numpy as np\n",
    "import scipy.sparse as sp\n",
    "def matrix_to_tensor(numpy_matrix):\n",
    "    sparse_tensor = torch.sparse_coo_tensor(torch.from_numpy(np.argwhere(numpy_matrix != 0).T),\n",
    "                                            torch.from_numpy(numpy_matrix[np.nonzero(numpy_matrix)]),\n",
    "                                            numpy_matrix.shape,dtype=torch.float32)\n",
    "    return sparse_tensor\n",
    "\n",
    "\n",
    "def csr_norm(csr_mat, mean_flag=False):  # TODO: check if this function exists in a python library\n",
    "    rowsum = np.array(csr_mat.sum(1))\n",
    "    rowsum = np.power(rowsum + 1e-8, -0.5).flatten()\n",
    "    rowsum[np.isinf(rowsum)] = 0.\n",
    "    rowsum_diag = sp.diags(rowsum)\n",
    "    colsum = np.array(csr_mat.sum(0))\n",
    "    colsum = np.power(colsum + 1e-8, -0.5).flatten()\n",
    "    colsum[np.isinf(colsum)] = 0.\n",
    "    colsum_diag = sp.diags(colsum)\n",
    "    if mean_flag == False:\n",
    "        return rowsum_diag * csr_mat * colsum_diag\n",
    "    else:\n",
    "        return rowsum_diag * csr_mat"
   ],
   "metadata": {
    "collapsed": false,
    "ExecuteTime": {
     "end_time": "2024-03-31T00:03:53.677057Z",
     "start_time": "2024-03-31T00:03:53.545409Z"
    }
   },
   "id": "841c1209973130c2",
   "execution_count": 4
  },
  {
   "cell_type": "code",
   "outputs": [],
   "source": [
    "data = matrix_to_tensor(csr_norm(data))"
   ],
   "metadata": {
    "collapsed": false,
    "ExecuteTime": {
     "end_time": "2024-03-31T00:04:36.786260Z",
     "start_time": "2024-03-31T00:04:03.797937Z"
    }
   },
   "id": "f5bb723a02aff91d",
   "execution_count": 5
  },
  {
   "cell_type": "code",
   "outputs": [],
   "source": [
    "# save the tensor\n",
    "torch.save(data, \"../data/books/train_matrix.pt\")"
   ],
   "metadata": {
    "collapsed": false,
    "ExecuteTime": {
     "end_time": "2024-03-31T00:04:45.364655Z",
     "start_time": "2024-03-31T00:04:45.347120Z"
    }
   },
   "id": "30e911882b9de1a",
   "execution_count": 6
  },
  {
   "cell_type": "code",
   "outputs": [],
   "source": [
    "import json\n",
    "with open(\"../data/books/test.json\", \"r\") as f:\n",
    "    test = json.load(f)"
   ],
   "metadata": {
    "collapsed": false,
    "ExecuteTime": {
     "end_time": "2024-03-31T00:32:30.993302Z",
     "start_time": "2024-03-31T00:32:30.983714Z"
    }
   },
   "id": "b8ea0dd61b1db7c4",
   "execution_count": 7
  },
  {
   "cell_type": "code",
   "outputs": [],
   "source": [
    "# create 2000 user dict\n",
    "user_dict = {}\n",
    "for i in range(2000):\n",
    "    user_dict[i] = test[str(i)]\n",
    "# save the user dict\n",
    "with open(\"../data/books/test.json\", \"w\") as f:\n",
    "    json.dump(user_dict, f)\n",
    "\n"
   ],
   "metadata": {
    "collapsed": false,
    "ExecuteTime": {
     "end_time": "2024-03-31T00:34:27.353081Z",
     "start_time": "2024-03-31T00:34:27.332623Z"
    }
   },
   "id": "f5c2657b1806267c",
   "execution_count": 11
  },
  {
   "cell_type": "code",
   "outputs": [],
   "source": [],
   "metadata": {
    "collapsed": false
   },
   "id": "843a5e50705a61ef"
  }
 ],
 "metadata": {
  "kernelspec": {
   "display_name": "Python 3",
   "language": "python",
   "name": "python3"
  },
  "language_info": {
   "codemirror_mode": {
    "name": "ipython",
    "version": 2
   },
   "file_extension": ".py",
   "mimetype": "text/x-python",
   "name": "python",
   "nbconvert_exporter": "python",
   "pygments_lexer": "ipython2",
   "version": "2.7.6"
  }
 },
 "nbformat": 4,
 "nbformat_minor": 5
}
